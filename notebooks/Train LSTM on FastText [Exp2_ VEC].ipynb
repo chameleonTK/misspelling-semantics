{
 "cells": [
  {
   "cell_type": "code",
   "execution_count": 1,
   "metadata": {
    "colab": {
     "base_uri": "https://localhost:8080/"
    },
    "executionInfo": {
     "elapsed": 15802,
     "status": "ok",
     "timestamp": 1638714795888,
     "user": {
      "displayName": "phattharanan nakwijit",
      "photoUrl": "https://lh3.googleusercontent.com/a-/AOh14GiIIxNe-uXeOWO7avIeHsrg7retrUGk_BMOtjg=s64",
      "userId": "03666715926437036675"
     },
     "user_tz": 0
    },
    "id": "Xm5ID9-w8lPF",
    "outputId": "7e8c05f0-199f-473d-de12-15933d860968"
   },
   "outputs": [],
   "source": [
    "# from google.colab import drive\n",
    "# drive.mount('/content/drive')"
   ]
  },
  {
   "cell_type": "code",
   "execution_count": 2,
   "metadata": {
    "colab": {
     "base_uri": "https://localhost:8080/"
    },
    "executionInfo": {
     "elapsed": 6,
     "status": "ok",
     "timestamp": 1638714795888,
     "user": {
      "displayName": "phattharanan nakwijit",
      "photoUrl": "https://lh3.googleusercontent.com/a-/AOh14GiIIxNe-uXeOWO7avIeHsrg7retrUGk_BMOtjg=s64",
      "userId": "03666715926437036675"
     },
     "user_tz": 0
    },
    "id": "Yn_3IlRA8yGI",
    "outputId": "a03d473c-4069-49fd-d6f4-bd6cac855afc"
   },
   "outputs": [],
   "source": [
    "# cd /content/drive/MyDrive/"
   ]
  },
  {
   "cell_type": "code",
   "execution_count": 3,
   "metadata": {
    "colab": {
     "base_uri": "https://localhost:8080/"
    },
    "executionInfo": {
     "elapsed": 51553,
     "status": "ok",
     "timestamp": 1638714847437,
     "user": {
      "displayName": "phattharanan nakwijit",
      "photoUrl": "https://lh3.googleusercontent.com/a-/AOh14GiIIxNe-uXeOWO7avIeHsrg7retrUGk_BMOtjg=s64",
      "userId": "03666715926437036675"
     },
     "user_tz": 0
    },
    "id": "72RbIPGQ83em",
    "outputId": "f1507fd3-09dd-4525-bd2d-8193d70e4526"
   },
   "outputs": [],
   "source": [
    "# !pip install fastText"
   ]
  },
  {
   "cell_type": "code",
   "execution_count": 4,
   "metadata": {
    "executionInfo": {
     "elapsed": 5,
     "status": "ok",
     "timestamp": 1638714847438,
     "user": {
      "displayName": "phattharanan nakwijit",
      "photoUrl": "https://lh3.googleusercontent.com/a-/AOh14GiIIxNe-uXeOWO7avIeHsrg7retrUGk_BMOtjg=s64",
      "userId": "03666715926437036675"
     },
     "user_tz": 0
    },
    "id": "zvFY4jen9FeH"
   },
   "outputs": [],
   "source": [
    "import fasttext"
   ]
  },
  {
   "cell_type": "markdown",
   "metadata": {
    "id": "Zh7kO1ITXstw"
   },
   "source": [
    "# Load Data"
   ]
  },
  {
   "cell_type": "code",
   "execution_count": 5,
   "metadata": {
    "executionInfo": {
     "elapsed": 3,
     "status": "ok",
     "timestamp": 1638714847438,
     "user": {
      "displayName": "phattharanan nakwijit",
      "photoUrl": "https://lh3.googleusercontent.com/a-/AOh14GiIIxNe-uXeOWO7avIeHsrg7retrUGk_BMOtjg=s64",
      "userId": "03666715926437036675"
     },
     "user_tz": 0
    },
    "id": "rwg5qj2hXuXY"
   },
   "outputs": [],
   "source": [
    "import json\n",
    "import pandas as pd\n",
    "\n",
    "def load_jsonl(fname):\n",
    "    fin = open(fname, encoding=\"utf-8\")\n",
    "    data = []\n",
    "    for line in fin:\n",
    "        d = json.loads(line.strip())\n",
    "        data.append(d)\n",
    "\n",
    "    return data\n",
    "\n",
    "def save_jsonl(data, filename):\n",
    "    with open(filename, \"w\", encoding=\"utf-8\") as fo:\n",
    "        for idx, d in enumerate(data):\n",
    "            fo.write(json.dumps(d, ensure_ascii=False))\n",
    "            fo.write(\"\\n\")"
   ]
  },
  {
   "cell_type": "code",
   "execution_count": 6,
   "metadata": {
    "executionInfo": {
     "elapsed": 597,
     "status": "ok",
     "timestamp": 1638720284179,
     "user": {
      "displayName": "phattharanan nakwijit",
      "photoUrl": "https://lh3.googleusercontent.com/a-/AOh14GiIIxNe-uXeOWO7avIeHsrg7retrUGk_BMOtjg=s64",
      "userId": "03666715926437036675"
     },
     "user_tz": 0
    },
    "id": "3TDqQCb6XuZ9"
   },
   "outputs": [],
   "source": [
    "DIR = \"./Datasets/\"\n",
    "traindata = load_jsonl(f\"{DIR}/WisesightSentiment/tokenized_train.jsonl\")\n",
    "validdata = load_jsonl(f\"{DIR}/WisesightSentiment/tokenized_valid.jsonl\")\n",
    "testdata = load_jsonl(f\"{DIR}/WisesightSentiment/tokenized_test-misp.jsonl\")\n"
   ]
  },
  {
   "cell_type": "code",
   "execution_count": null,
   "metadata": {
    "executionInfo": {
     "elapsed": 3,
     "status": "ok",
     "timestamp": 1638720284179,
     "user": {
      "displayName": "phattharanan nakwijit",
      "photoUrl": "https://lh3.googleusercontent.com/a-/AOh14GiIIxNe-uXeOWO7avIeHsrg7retrUGk_BMOtjg=s64",
      "userId": "03666715926437036675"
     },
     "user_tz": 0
    },
    "id": "UyOZj9z3Xucz"
   },
   "outputs": [],
   "source": []
  },
  {
   "cell_type": "code",
   "execution_count": 7,
   "metadata": {
    "colab": {
     "base_uri": "https://localhost:8080/"
    },
    "executionInfo": {
     "elapsed": 246,
     "status": "ok",
     "timestamp": 1638720284423,
     "user": {
      "displayName": "phattharanan nakwijit",
      "photoUrl": "https://lh3.googleusercontent.com/a-/AOh14GiIIxNe-uXeOWO7avIeHsrg7retrUGk_BMOtjg=s64",
      "userId": "03666715926437036675"
     },
     "user_tz": 0
    },
    "id": "ZHwGnDPRZ4hw",
    "outputId": "b4b8c9be-2988-495d-9a3b-13ff42eedc2a"
   },
   "outputs": [
    {
     "data": {
      "text/plain": [
       "(2671, 880, 880)"
      ]
     },
     "execution_count": 7,
     "metadata": {},
     "output_type": "execute_result"
    }
   ],
   "source": [
    "import itertools\n",
    "def filterByMode(data, mode=None):\n",
    "  output = []\n",
    "  for sent in data:\n",
    "    if mode is None:\n",
    "      tokenized = [seg[0] for seg in sent[\"segments\"]]\n",
    "    elif mode==\"corr\":\n",
    "      tokenized = [seg[1] for seg in sent[\"segments\"]]\n",
    "      if len(sent[\"misp_tokens\"])==0:\n",
    "        continue\n",
    "    else:\n",
    "      tokenized = [seg[0] for seg in sent[\"segments\"]]\n",
    "      if len(sent[\"misp_tokens\"])==0:\n",
    "        continue\n",
    "    \n",
    "    tokenized = list(itertools.chain(*tokenized))\n",
    "  \n",
    "    output.append({\n",
    "        \"category\": sent[\"category\"],\n",
    "        \"text\": sent[\"text\"],\n",
    "        \"tokenized\": tokenized,\n",
    "        \"segments\": sent[\"segments\"]\n",
    "    })\n",
    "\n",
    "  return output\n",
    "\n",
    "traindata\n",
    "validdata\n",
    "allTestdata = filterByMode(testdata)\n",
    "corrTestdata = filterByMode(testdata, \"corr\")\n",
    "mispTestdata = filterByMode(testdata, \"misp\")\n",
    "len(allTestdata), len(corrTestdata), len(mispTestdata)"
   ]
  },
  {
   "cell_type": "code",
   "execution_count": null,
   "metadata": {
    "executionInfo": {
     "elapsed": 9,
     "status": "ok",
     "timestamp": 1638720284425,
     "user": {
      "displayName": "phattharanan nakwijit",
      "photoUrl": "https://lh3.googleusercontent.com/a-/AOh14GiIIxNe-uXeOWO7avIeHsrg7retrUGk_BMOtjg=s64",
      "userId": "03666715926437036675"
     },
     "user_tz": 0
    },
    "id": "qb3VQndoXufR"
   },
   "outputs": [],
   "source": []
  },
  {
   "cell_type": "code",
   "execution_count": null,
   "metadata": {
    "executionInfo": {
     "elapsed": 10,
     "status": "ok",
     "timestamp": 1638720284427,
     "user": {
      "displayName": "phattharanan nakwijit",
      "photoUrl": "https://lh3.googleusercontent.com/a-/AOh14GiIIxNe-uXeOWO7avIeHsrg7retrUGk_BMOtjg=s64",
      "userId": "03666715926437036675"
     },
     "user_tz": 0
    },
    "id": "mn_-ONCtXuiL"
   },
   "outputs": [],
   "source": []
  },
  {
   "cell_type": "markdown",
   "metadata": {
    "id": "S_xmhIYTFx_V"
   },
   "source": [
    "# Create LSTM"
   ]
  },
  {
   "cell_type": "code",
   "execution_count": 8,
   "metadata": {
    "executionInfo": {
     "elapsed": 1,
     "status": "ok",
     "timestamp": 1638720284804,
     "user": {
      "displayName": "phattharanan nakwijit",
      "photoUrl": "https://lh3.googleusercontent.com/a-/AOh14GiIIxNe-uXeOWO7avIeHsrg7retrUGk_BMOtjg=s64",
      "userId": "03666715926437036675"
     },
     "user_tz": 0
    },
    "id": "KgmoytS4FzJU"
   },
   "outputs": [],
   "source": [
    "import numpy as np\n",
    "import random\n",
    "import torch\n",
    "import os\n",
    "\n",
    "seed = 0\n",
    "os.environ['PYTHONHASHSEED'] = str(seed)\n",
    "random.seed(seed)    \n",
    "np.random.seed(seed)\n",
    "np.random.RandomState(seed)\n",
    "\n",
    "torch.manual_seed(seed) \n",
    "torch.cuda.manual_seed(seed)\n",
    "torch.cuda.manual_seed_all(seed) #seed all gpus    \n",
    "torch.backends.cudnn.deterministic = True\n",
    "torch.backends.cudnn.enabled = False  \n",
    "torch.backends.cudnn.benchmark = False\n"
   ]
  },
  {
   "cell_type": "code",
   "execution_count": 9,
   "metadata": {
    "colab": {
     "base_uri": "https://localhost:8080/"
    },
    "executionInfo": {
     "elapsed": 3,
     "status": "ok",
     "timestamp": 1638720285028,
     "user": {
      "displayName": "phattharanan nakwijit",
      "photoUrl": "https://lh3.googleusercontent.com/a-/AOh14GiIIxNe-uXeOWO7avIeHsrg7retrUGk_BMOtjg=s64",
      "userId": "03666715926437036675"
     },
     "user_tz": 0
    },
    "id": "8THSE3QKF2am",
    "outputId": "87a61058-a842-4cab-d3a9-900a41c997a3"
   },
   "outputs": [
    {
     "name": "stdout",
     "output_type": "stream",
     "text": [
      "No GPU available, using the CPU instead.\n"
     ]
    },
    {
     "name": "stderr",
     "output_type": "stream",
     "text": [
      "/home/imtk/.local/lib/python3.8/site-packages/torch/cuda/__init__.py:52: UserWarning: CUDA initialization: Unexpected error from cudaGetDeviceCount(). Did you run some cuda functions before calling NumCudaDevices() that might have already set an error? Error 804: forward compatibility was attempted on non supported HW (Triggered internally at  /pytorch/c10/cuda/CUDAFunctions.cpp:115.)\n",
      "  return torch._C._cuda_getDeviceCount() > 0\n"
     ]
    }
   ],
   "source": [
    "import torch\n",
    "\n",
    "# If there's a GPU available...\n",
    "if torch.cuda.is_available():    \n",
    "\n",
    "    # Tell PyTorch to use the GPU.    \n",
    "    device = torch.device(\"cuda\")\n",
    "\n",
    "    print('There are %d GPU(s) available.' % torch.cuda.device_count())\n",
    "\n",
    "    print('We will use the GPU:', torch.cuda.get_device_name(0))\n",
    "\n",
    "# If not...\n",
    "else:\n",
    "    print('No GPU available, using the CPU instead.')\n",
    "    device = torch.device(\"cpu\")"
   ]
  },
  {
   "cell_type": "code",
   "execution_count": 10,
   "metadata": {
    "executionInfo": {
     "elapsed": 3352,
     "status": "ok",
     "timestamp": 1638720288806,
     "user": {
      "displayName": "phattharanan nakwijit",
      "photoUrl": "https://lh3.googleusercontent.com/a-/AOh14GiIIxNe-uXeOWO7avIeHsrg7retrUGk_BMOtjg=s64",
      "userId": "03666715926437036675"
     },
     "user_tz": 0
    },
    "id": "rAy_zT-OF9o2"
   },
   "outputs": [],
   "source": [
    "!pip install -q pythainlp"
   ]
  },
  {
   "cell_type": "code",
   "execution_count": 11,
   "metadata": {
    "executionInfo": {
     "elapsed": 10,
     "status": "ok",
     "timestamp": 1638720288807,
     "user": {
      "displayName": "phattharanan nakwijit",
      "photoUrl": "https://lh3.googleusercontent.com/a-/AOh14GiIIxNe-uXeOWO7avIeHsrg7retrUGk_BMOtjg=s64",
      "userId": "03666715926437036675"
     },
     "user_tz": 0
    },
    "id": "LtrQwukcF4R1"
   },
   "outputs": [],
   "source": [
    "import pythainlp"
   ]
  },
  {
   "cell_type": "code",
   "execution_count": 12,
   "metadata": {
    "executionInfo": {
     "elapsed": 9,
     "status": "ok",
     "timestamp": 1638720288808,
     "user": {
      "displayName": "phattharanan nakwijit",
      "photoUrl": "https://lh3.googleusercontent.com/a-/AOh14GiIIxNe-uXeOWO7avIeHsrg7retrUGk_BMOtjg=s64",
      "userId": "03666715926437036675"
     },
     "user_tz": 0
    },
    "id": "U6N_idH_GCx3"
   },
   "outputs": [],
   "source": [
    "import os\n",
    "import time\n",
    "import torch\n",
    "import torch.optim as optim\n",
    "import torch.nn as nn\n",
    "\n",
    "import os\n",
    "import sys\n",
    "from argparse import ArgumentParser\n",
    "\n",
    "criterion = nn.CrossEntropyLoss()\n",
    "\n",
    "\n",
    "def get_args():\n",
    "    parser = ArgumentParser(description='LSTM')\n",
    "#     parser.add_argument('mode', type=str, help = 'tokenizing mode ')\n",
    "    parser.add_argument('--epochs', type=int, default=50, help = 'epochs')\n",
    "    parser.add_argument('--batch_size', type=int, default=128)\n",
    "    parser.add_argument('--d_embed', type=int, default=100)\n",
    "    parser.add_argument('--lr', type=float, default=.001)\n",
    "    parser.add_argument('--dev_every', type=int, default=100)\n",
    "    parser.add_argument('--dp_ratio', type=int, default=0.2)\n",
    "    parser.add_argument('--save_path', type=str, default='results', help='path to save the model')\n",
    "    \n",
    "    try:\n",
    "        args = parser.parse_args([])\n",
    "    except:\n",
    "        parser.print_help()\n",
    "        sys.exit(1)\n",
    "\n",
    "    return args"
   ]
  },
  {
   "cell_type": "code",
   "execution_count": 13,
   "metadata": {
    "executionInfo": {
     "elapsed": 10,
     "status": "ok",
     "timestamp": 1638720288809,
     "user": {
      "displayName": "phattharanan nakwijit",
      "photoUrl": "https://lh3.googleusercontent.com/a-/AOh14GiIIxNe-uXeOWO7avIeHsrg7retrUGk_BMOtjg=s64",
      "userId": "03666715926437036675"
     },
     "user_tz": 0
    },
    "id": "AwjR17JHGC1B"
   },
   "outputs": [],
   "source": [
    "               \n",
    "args = get_args()\n",
    "args.epochs = 100\n",
    "args.batch_size = 64\n",
    "args.dev_every = 50"
   ]
  },
  {
   "cell_type": "code",
   "execution_count": 14,
   "metadata": {
    "executionInfo": {
     "elapsed": 295,
     "status": "ok",
     "timestamp": 1638720289095,
     "user": {
      "displayName": "phattharanan nakwijit",
      "photoUrl": "https://lh3.googleusercontent.com/a-/AOh14GiIIxNe-uXeOWO7avIeHsrg7retrUGk_BMOtjg=s64",
      "userId": "03666715926437036675"
     },
     "user_tz": 0
    },
    "id": "wqHRlh7vKHGh"
   },
   "outputs": [],
   "source": [
    "# ls Mispelling/misspelling-semantics/Datasets/../Models\n",
    "\n",
    "# cc.th.300.bin    \n",
    "\n",
    "\n",
    "# fasttext_MST_VISTEC-TP-TH-2021.bin\n",
    "# fasttext_corr_VISTEC-TP-TH-2021.bin  \n",
    "# fasttext_MST_wisesight_train.bin\n",
    "# fasttext_wisesight_train.bin"
   ]
  },
  {
   "cell_type": "code",
   "execution_count": 15,
   "metadata": {
    "colab": {
     "base_uri": "https://localhost:8080/"
    },
    "executionInfo": {
     "elapsed": 1791,
     "status": "ok",
     "timestamp": 1638720290882,
     "user": {
      "displayName": "phattharanan nakwijit",
      "photoUrl": "https://lh3.googleusercontent.com/a-/AOh14GiIIxNe-uXeOWO7avIeHsrg7retrUGk_BMOtjg=s64",
      "userId": "03666715926437036675"
     },
     "user_tz": 0
    },
    "id": "yFN-roz-F803",
    "outputId": "bf81709d-2307-4866-e838-618be240a4bf"
   },
   "outputs": [
    {
     "name": "stderr",
     "output_type": "stream",
     "text": [
      "Warning : `load_model` does not return WordVectorModel or SupervisedModel any more, but a `FastText` object which is very similar.\n"
     ]
    }
   ],
   "source": [
    "wv = fasttext.load_model(f\"{DIR}/../Models/fasttext_misp_VISTEC-TP-TH-2021.bin\")\n",
    "# wv = fasttext.load_model(f\"Mispelling/Models/fasttext_orcl.bin\")"
   ]
  },
  {
   "cell_type": "code",
   "execution_count": 16,
   "metadata": {
    "colab": {
     "base_uri": "https://localhost:8080/",
     "height": 35
    },
    "executionInfo": {
     "elapsed": 22,
     "status": "ok",
     "timestamp": 1638720290882,
     "user": {
      "displayName": "phattharanan nakwijit",
      "photoUrl": "https://lh3.googleusercontent.com/a-/AOh14GiIIxNe-uXeOWO7avIeHsrg7retrUGk_BMOtjg=s64",
      "userId": "03666715926437036675"
     },
     "user_tz": 0
    },
    "id": "4enmKUubyCyT",
    "outputId": "5928dac7-f3f9-4679-d11e-c5d164816e09"
   },
   "outputs": [
    {
     "data": {
      "text/plain": [
       "'DONE'"
      ]
     },
     "execution_count": 16,
     "metadata": {},
     "output_type": "execute_result"
    }
   ],
   "source": [
    "\"DONE\""
   ]
  },
  {
   "cell_type": "markdown",
   "metadata": {
    "id": "ju3fwxglivDc"
   },
   "source": [
    "### Build Datasets"
   ]
  },
  {
   "cell_type": "code",
   "execution_count": 17,
   "metadata": {
    "executionInfo": {
     "elapsed": 17,
     "status": "ok",
     "timestamp": 1638720290882,
     "user": {
      "displayName": "phattharanan nakwijit",
      "photoUrl": "https://lh3.googleusercontent.com/a-/AOh14GiIIxNe-uXeOWO7avIeHsrg7retrUGk_BMOtjg=s64",
      "userId": "03666715926437036675"
     },
     "user_tz": 0
    },
    "id": "XYyZnlN-jt9Y"
   },
   "outputs": [],
   "source": [
    "from torchtext.legacy import data\n",
    "import torchtext.vocab as vocab\n",
    "\n",
    "from tqdm.notebook import tqdm"
   ]
  },
  {
   "cell_type": "code",
   "execution_count": 18,
   "metadata": {
    "executionInfo": {
     "elapsed": 18,
     "status": "ok",
     "timestamp": 1638720290883,
     "user": {
      "displayName": "phattharanan nakwijit",
      "photoUrl": "https://lh3.googleusercontent.com/a-/AOh14GiIIxNe-uXeOWO7avIeHsrg7retrUGk_BMOtjg=s64",
      "userId": "03666715926437036675"
     },
     "user_tz": 0
    },
    "id": "Xsp-eb2Jju8K"
   },
   "outputs": [],
   "source": [
    "device = torch.device('cuda' if torch.cuda.is_available() else 'cpu')"
   ]
  },
  {
   "cell_type": "code",
   "execution_count": null,
   "metadata": {
    "executionInfo": {
     "elapsed": 17,
     "status": "ok",
     "timestamp": 1638720290883,
     "user": {
      "displayName": "phattharanan nakwijit",
      "photoUrl": "https://lh3.googleusercontent.com/a-/AOh14GiIIxNe-uXeOWO7avIeHsrg7retrUGk_BMOtjg=s64",
      "userId": "03666715926437036675"
     },
     "user_tz": 0
    },
    "id": "BhO-MElGkNEy"
   },
   "outputs": [],
   "source": []
  },
  {
   "cell_type": "markdown",
   "metadata": {
    "id": "DRShhllxAP-v"
   },
   "source": [
    "#### Baseline Datasets"
   ]
  },
  {
   "cell_type": "code",
   "execution_count": 19,
   "metadata": {
    "executionInfo": {
     "elapsed": 276,
     "status": "ok",
     "timestamp": 1638720291143,
     "user": {
      "displayName": "phattharanan nakwijit",
      "photoUrl": "https://lh3.googleusercontent.com/a-/AOh14GiIIxNe-uXeOWO7avIeHsrg7retrUGk_BMOtjg=s64",
      "userId": "03666715926437036675"
     },
     "user_tz": 0
    },
    "id": "gxRdZ1PyjzQF"
   },
   "outputs": [],
   "source": [
    "LABELS = {\n",
    "    \"neg\": 2,\n",
    "    \"neu\": 1,\n",
    "    \"pos\": 0,\n",
    "    \"q\": 1 # used to be 3\n",
    "}\n",
    "\n",
    "def removeQuestion(label):    \n",
    "  return LABELS[label]\n",
    "\n",
    "# TEXT = data.Field(sequential=True, lower=False)\n",
    "CATEGORY = data.Field(sequential=False, use_vocab=False, preprocessing=removeQuestion)\n",
    "TOKEN = data.Field(sequential=True, lower=False)\n",
    "\n",
    "raw_datasets = {\n",
    "    \"train\": traindata,\n",
    "    \"validation\": validdata,\n",
    "    \"test\": allTestdata,\n",
    "    \"test-corr\": corrTestdata,\n",
    "    \"test-misp\": mispTestdata\n",
    "}\n",
    "\n",
    "raw_fields = [\n",
    "    # ('text', TEXT), \n",
    "    ('category', CATEGORY),\n",
    "    ('tokenized', TOKEN)\n",
    "]\n",
    "\n",
    "fields = {}\n",
    "for f in raw_fields:\n",
    "  fields[f[0]] = f\n",
    "\n",
    "datasets = {}\n",
    "for k in raw_datasets:  \n",
    "  examples = [data.Example.fromdict(d, fields=fields) for d in raw_datasets[k]]\n",
    "  d = data.Dataset(examples, fields=raw_fields)\n",
    "  datasets[k] = d\n"
   ]
  },
  {
   "cell_type": "markdown",
   "metadata": {
    "id": "fhKqE2ZQAYck"
   },
   "source": [
    "#### MAE Datasets"
   ]
  },
  {
   "cell_type": "code",
   "execution_count": 20,
   "metadata": {
    "executionInfo": {
     "elapsed": 4,
     "status": "ok",
     "timestamp": 1638720291143,
     "user": {
      "displayName": "phattharanan nakwijit",
      "photoUrl": "https://lh3.googleusercontent.com/a-/AOh14GiIIxNe-uXeOWO7avIeHsrg7retrUGk_BMOtjg=s64",
      "userId": "03666715926437036675"
     },
     "user_tz": 0
    },
    "id": "_EoG-XP7GO2E"
   },
   "outputs": [],
   "source": [
    "# "
   ]
  },
  {
   "cell_type": "code",
   "execution_count": 23,
   "metadata": {
    "colab": {
     "base_uri": "https://localhost:8080/"
    },
    "executionInfo": {
     "elapsed": 5,
     "status": "ok",
     "timestamp": 1638720291144,
     "user": {
      "displayName": "phattharanan nakwijit",
      "photoUrl": "https://lh3.googleusercontent.com/a-/AOh14GiIIxNe-uXeOWO7avIeHsrg7retrUGk_BMOtjg=s64",
      "userId": "03666715926437036675"
     },
     "user_tz": 0
    },
    "id": "kJ7zViqs_qRV",
    "outputId": "f2b31e32-a875-4c17-dda7-19779e04efa0"
   },
   "outputs": [
    {
     "name": "stdout",
     "output_type": "stream",
     "text": [
      "#Misp Tokens: 1213 tokens; 1.67%\n",
      "#Misp Tokens: 1213 tokens; 5.60%\n",
      "#Misp Tokens: 1213 tokens; 5.60%\n",
      "\n",
      "Processed: test 2671\n",
      "Processed: test-corr 880\n",
      "Processed: test-misp 880\n"
     ]
    }
   ],
   "source": [
    "MC = load_jsonl(f\"{DIR}/../test_mispelling_correction.jsonl\")[0]\n",
    "def createMAEDataset(data, pre_segmented=False, mode=None, mst=False):\n",
    "  output = []\n",
    "  cnt, mstcnt = 0, 0\n",
    "\n",
    "  segIdx = 0\n",
    "  if mode==\"corr\":\n",
    "    segIdx = 1  # ignore misspelling with MC\n",
    "\n",
    "  for sent in data:\n",
    "    newtokens = []\n",
    "    misptokens = []\n",
    "    if (mode==\"misp\" or mode==\"corr\") and len(sent[\"misp_tokens\"])==0:\n",
    "        continue\n",
    "\n",
    "    if pre_segmented:\n",
    "      for seg in sent[\"segments\"]:\n",
    "        for token in zip(seg[0], seg[1]):\n",
    "          newtokens.append(token[segIdx])\n",
    "          misptokens.append(token[1])\n",
    "          if mst:\n",
    "            msttokens = additionalToken(token[segIdx])\n",
    "            newtokens += msttokens\n",
    "            misptokens += msttokens\n",
    "\n",
    "          if token[0]!=token[1]:\n",
    "            mstcnt += 1\n",
    "          \n",
    "    else:\n",
    "      \n",
    "      for token in sent[\"tokenized\"]:\n",
    "        w = norm_word(token)\n",
    "        detectedMsp = (len(w) >= 4) and (w in MC)\n",
    "        if detectedMsp:\n",
    "            corr, mint = MC[w]\n",
    "            misptokens.append(corr)\n",
    "            if mode==\"corr\":\n",
    "              token = corr\n",
    "            mstcnt += 1\n",
    "        else:\n",
    "          misptokens.append(token)\n",
    "        newtokens.append(token)\n",
    "\n",
    "        if detectedMsp and mst:\n",
    "          msttokens = additionalToken(token)\n",
    "          newtokens += msttokens\n",
    "          misptokens += msttokens\n",
    "\n",
    "\n",
    "    cnt += len(newtokens)\n",
    "\n",
    "    output.append({\n",
    "        \"category\": sent[\"category\"],\n",
    "        \"text\": sent[\"text\"],\n",
    "        \"tokenized\": newtokens,\n",
    "        \"misp\": misptokens\n",
    "    })\n",
    "\n",
    "  print(f\"#Misp Tokens: {mstcnt} tokens; {(mstcnt)*100/cnt:.2f}%\")\n",
    "  return output\n",
    "\n",
    "mae_raw_datasets = {\n",
    "    \"test\": createMAEDataset(testdata, pre_segmented=True),\n",
    "    \"test-corr\": createMAEDataset(testdata, pre_segmented=True, mode=\"corr\"),\n",
    "    \"test-misp\": createMAEDataset(testdata, pre_segmented=True, mode=\"misp\"),\n",
    "}\n",
    "\n",
    "mae_raw_fields = [\n",
    "    ('category', CATEGORY),\n",
    "    ('tokenized', TOKEN),\n",
    "    ('misp', TOKEN),\n",
    "]\n",
    "\n",
    "mae_fields = {}\n",
    "for f in mae_raw_fields:\n",
    "  mae_fields[f[0]] = f\n",
    "\n",
    "print()\n",
    "MAEdatasets = {}\n",
    "for k in mae_raw_datasets:  \n",
    "  examples = [data.Example.fromdict(d, fields=mae_fields) for d in mae_raw_datasets[k]]\n",
    "  d = data.Dataset(examples, fields=mae_raw_fields)\n",
    "  MAEdatasets[k] = d\n",
    "  print(f\"Processed: {k}\", len(d))\n"
   ]
  },
  {
   "cell_type": "code",
   "execution_count": null,
   "metadata": {
    "executionInfo": {
     "elapsed": 3,
     "status": "ok",
     "timestamp": 1638720291144,
     "user": {
      "displayName": "phattharanan nakwijit",
      "photoUrl": "https://lh3.googleusercontent.com/a-/AOh14GiIIxNe-uXeOWO7avIeHsrg7retrUGk_BMOtjg=s64",
      "userId": "03666715926437036675"
     },
     "user_tz": 0
    },
    "id": "emulYYp-AbER"
   },
   "outputs": [],
   "source": []
  },
  {
   "cell_type": "markdown",
   "metadata": {
    "id": "VGje3d7QAcnN"
   },
   "source": [
    "#### MST Datasets"
   ]
  },
  {
   "cell_type": "code",
   "execution_count": 28,
   "metadata": {
    "executionInfo": {
     "elapsed": 4,
     "status": "ok",
     "timestamp": 1638720291331,
     "user": {
      "displayName": "phattharanan nakwijit",
      "photoUrl": "https://lh3.googleusercontent.com/a-/AOh14GiIIxNe-uXeOWO7avIeHsrg7retrUGk_BMOtjg=s64",
      "userId": "03666715926437036675"
     },
     "user_tz": 0
    },
    "id": "MC1nGGMfAgcH"
   },
   "outputs": [],
   "source": [
    "from itertools import groupby\n",
    "MD = load_jsonl(f\"{DIR}/../train_mispelling_dection.jsonl\")[0]\n",
    "\n",
    "def norm_word(word):\n",
    "    groups = [list(s) for _, s in groupby(word)]\n",
    "    ch = []\n",
    "    extraToken = \"\"\n",
    "    for g in groups:\n",
    "        if len(g)>=3:\n",
    "            if g[0]==\"5\":\n",
    "              extraToken = \"<lol>\"\n",
    "            else:\n",
    "              extraToken = \"<rep>\"\n",
    "            ch.append(g[0])  \n",
    "        else:\n",
    "            ch += g\n",
    "    word = \"\".join(ch)+extraToken\n",
    "    return word\n",
    "\n",
    "def additionalToken(word):\n",
    "  tokens = []\n",
    "  w = norm_word(word)\n",
    "  if \"<lol>\" in w:\n",
    "    tokens.append(\"<lol>\")\n",
    "  elif \"<rep>\" in w:\n",
    "    tokens.append(\"<rep>\")\n",
    "  elif w in MD:\n",
    "      corr, mint = MD[w]\n",
    "      if mint:\n",
    "        tokens.append(\"<int>\")\n",
    "      else:\n",
    "        tokens.append(\"<msp>\")\n",
    "  return tokens\n",
    "\n",
    "def addMSTTokens(data, pre_segmented=False):\n",
    "  output = []\n",
    "  cnt, mstcnt = 0, 0\n",
    "  for sent in data:\n",
    "    newtokens = []\n",
    "    if pre_segmented:\n",
    "      for seg in sent[\"segments\"]:\n",
    "        for token in zip(seg[0], seg[1]):\n",
    "          newtokens.append(token[0])\n",
    "          if token[0]==token[1]:\n",
    "            continue\n",
    "          \n",
    "          newtokens += additionalToken(token[0])\n",
    "    else:\n",
    "      for token in sent[\"tokenized\"]:\n",
    "        newtokens.append(token)\n",
    "        # if len(w) < 4:\n",
    "        #   continue\n",
    "        newtokens += additionalToken(token[0])\n",
    "\n",
    "    cnt += len(sent[\"tokenized\"])\n",
    "    mstcnt += len(newtokens)\n",
    "\n",
    "    output.append({\n",
    "        \"category\": sent[\"category\"],\n",
    "        \"text\": sent[\"text\"],\n",
    "        \"tokenized\": newtokens,\n",
    "    })\n",
    "\n",
    "  print(f\"#New MST Tokens: {mstcnt - cnt} tokens; {(mstcnt - cnt)*100/cnt:.2f}%\")\n",
    "\n",
    "  return output"
   ]
  },
  {
   "cell_type": "code",
   "execution_count": 29,
   "metadata": {
    "colab": {
     "base_uri": "https://localhost:8080/"
    },
    "executionInfo": {
     "elapsed": 1362,
     "status": "ok",
     "timestamp": 1638720292689,
     "user": {
      "displayName": "phattharanan nakwijit",
      "photoUrl": "https://lh3.googleusercontent.com/a-/AOh14GiIIxNe-uXeOWO7avIeHsrg7retrUGk_BMOtjg=s64",
      "userId": "03666715926437036675"
     },
     "user_tz": 0
    },
    "id": "IXtP3z6LAghg",
    "outputId": "6d454fe9-abbc-435a-bd9f-fa84af5b910d"
   },
   "outputs": [
    {
     "name": "stdout",
     "output_type": "stream",
     "text": [
      "#New MST Tokens: 19356 tokens; 3.18%\n",
      "Processed: train 21628\n",
      "\n",
      "#New MST Tokens: 2147 tokens; 3.19%\n",
      "Processed: validation 2404\n",
      "\n",
      "#New MST Tokens: 616 tokens; 0.85%\n",
      "Processed: test 2671\n",
      "\n",
      "#New MST Tokens: 616 tokens; 2.84%\n",
      "Processed: test-corr 880\n",
      "\n",
      "#New MST Tokens: 616 tokens; 2.84%\n",
      "Processed: test-misp 880\n",
      "\n"
     ]
    }
   ],
   "source": [
    "MSTdatasets = {}\n",
    "for k in raw_datasets:\n",
    "  raw = addMSTTokens(raw_datasets[k], pre_segmented=k.startswith(\"test\"))  #only pre-segmented in test set\n",
    "  examples = [data.Example.fromdict(d, fields=fields) for d in raw]\n",
    "  d = data.Dataset(examples, fields=raw_fields)\n",
    "  MSTdatasets[k] = d\n",
    "  print(f\"Processed: {k}\", len(d))\n",
    "  print(\"\")"
   ]
  },
  {
   "cell_type": "code",
   "execution_count": 30,
   "metadata": {
    "executionInfo": {
     "elapsed": 2,
     "status": "ok",
     "timestamp": 1638720292689,
     "user": {
      "displayName": "phattharanan nakwijit",
      "photoUrl": "https://lh3.googleusercontent.com/a-/AOh14GiIIxNe-uXeOWO7avIeHsrg7retrUGk_BMOtjg=s64",
      "userId": "03666715926437036675"
     },
     "user_tz": 0
    },
    "id": "602D1D4zIlb4"
   },
   "outputs": [],
   "source": [
    "# Both"
   ]
  },
  {
   "cell_type": "markdown",
   "metadata": {
    "id": "oRT0CD47InJQ"
   },
   "source": [
    "#### MAE+MST"
   ]
  },
  {
   "cell_type": "code",
   "execution_count": 32,
   "metadata": {
    "colab": {
     "base_uri": "https://localhost:8080/"
    },
    "executionInfo": {
     "elapsed": 1257,
     "status": "ok",
     "timestamp": 1638720294147,
     "user": {
      "displayName": "phattharanan nakwijit",
      "photoUrl": "https://lh3.googleusercontent.com/a-/AOh14GiIIxNe-uXeOWO7avIeHsrg7retrUGk_BMOtjg=s64",
      "userId": "03666715926437036675"
     },
     "user_tz": 0
    },
    "id": "rX8pevvm_qgI",
    "outputId": "5826f5bc-61ce-41be-cc12-0fca1ad2c333"
   },
   "outputs": [
    {
     "name": "stdout",
     "output_type": "stream",
     "text": [
      "#Misp Tokens: 1213 tokens; 1.63%\n",
      "#Misp Tokens: 1213 tokens; 5.50%\n",
      "#Misp Tokens: 1213 tokens; 5.37%\n",
      "\n",
      "Processed: test 2671\n",
      "Processed: test-corr 880\n",
      "Processed: test-misp 880\n"
     ]
    }
   ],
   "source": [
    "both_raw_datasets = {\n",
    "    \"test\": createMAEDataset(testdata, pre_segmented=True, mst=True),\n",
    "    \"test-corr\": createMAEDataset(testdata, pre_segmented=True, mode=\"corr\", mst=True),\n",
    "    \"test-misp\": createMAEDataset(testdata, pre_segmented=True, mode=\"misp\", mst=True),\n",
    "}\n",
    "print()\n",
    "BOTHdataset = {}\n",
    "for k in both_raw_datasets:  \n",
    "  examples = [data.Example.fromdict(d, fields=mae_fields) for d in both_raw_datasets[k]]\n",
    "  d = data.Dataset(examples, fields=mae_raw_fields)\n",
    "  BOTHdataset[k] = d\n",
    "  print(f\"Processed: {k}\", len(d))\n",
    "    \n"
   ]
  },
  {
   "cell_type": "code",
   "execution_count": null,
   "metadata": {
    "executionInfo": {
     "elapsed": 13,
     "status": "ok",
     "timestamp": 1638720294149,
     "user": {
      "displayName": "phattharanan nakwijit",
      "photoUrl": "https://lh3.googleusercontent.com/a-/AOh14GiIIxNe-uXeOWO7avIeHsrg7retrUGk_BMOtjg=s64",
      "userId": "03666715926437036675"
     },
     "user_tz": 0
    },
    "id": "0JchrrW2I_lp"
   },
   "outputs": [],
   "source": []
  },
  {
   "cell_type": "code",
   "execution_count": null,
   "metadata": {
    "executionInfo": {
     "elapsed": 17,
     "status": "ok",
     "timestamp": 1638720294155,
     "user": {
      "displayName": "phattharanan nakwijit",
      "photoUrl": "https://lh3.googleusercontent.com/a-/AOh14GiIIxNe-uXeOWO7avIeHsrg7retrUGk_BMOtjg=s64",
      "userId": "03666715926437036675"
     },
     "user_tz": 0
    },
    "id": "-EZ0-SC9I_tV"
   },
   "outputs": [],
   "source": []
  },
  {
   "cell_type": "code",
   "execution_count": 33,
   "metadata": {
    "executionInfo": {
     "elapsed": 478,
     "status": "ok",
     "timestamp": 1638720294618,
     "user": {
      "displayName": "phattharanan nakwijit",
      "photoUrl": "https://lh3.googleusercontent.com/a-/AOh14GiIIxNe-uXeOWO7avIeHsrg7retrUGk_BMOtjg=s64",
      "userId": "03666715926437036675"
     },
     "user_tz": 0
    },
    "id": "60NoKoMOt9fN"
   },
   "outputs": [],
   "source": [
    "W2V_WINDOW = 5 \n",
    "W2V_MIN_COUNT = 0\n",
    "\n",
    "# TEXT.build_vocab(datasets[\"train\"], min_freq=W2V_MIN_COUNT, )\n",
    "TOKEN.build_vocab(datasets[\"train\"], datasets[\"validation\"], datasets[\"test\"], datasets[\"test-corr\"], MSTdatasets[\"test\"], min_freq=W2V_MIN_COUNT, )\n",
    "CATEGORY.build_vocab(datasets[\"train\"])"
   ]
  },
  {
   "cell_type": "code",
   "execution_count": 34,
   "metadata": {
    "colab": {
     "base_uri": "https://localhost:8080/"
    },
    "executionInfo": {
     "elapsed": 19,
     "status": "ok",
     "timestamp": 1638720294618,
     "user": {
      "displayName": "phattharanan nakwijit",
      "photoUrl": "https://lh3.googleusercontent.com/a-/AOh14GiIIxNe-uXeOWO7avIeHsrg7retrUGk_BMOtjg=s64",
      "userId": "03666715926437036675"
     },
     "user_tz": 0
    },
    "id": "g3V6AoPpDxgN",
    "outputId": "b137e61e-da76-47b0-da35-a25967addd21"
   },
   "outputs": [
    {
     "data": {
      "text/plain": [
       "('#Token', 44697)"
      ]
     },
     "execution_count": 34,
     "metadata": {},
     "output_type": "execute_result"
    }
   ],
   "source": [
    "\"#Token\",len(TOKEN.vocab)"
   ]
  },
  {
   "cell_type": "code",
   "execution_count": 35,
   "metadata": {
    "colab": {
     "base_uri": "https://localhost:8080/"
    },
    "executionInfo": {
     "elapsed": 13,
     "status": "ok",
     "timestamp": 1638720294619,
     "user": {
      "displayName": "phattharanan nakwijit",
      "photoUrl": "https://lh3.googleusercontent.com/a-/AOh14GiIIxNe-uXeOWO7avIeHsrg7retrUGk_BMOtjg=s64",
      "userId": "03666715926437036675"
     },
     "user_tz": 0
    },
    "id": "0NjPc0lJscK_",
    "outputId": "223e7789-bd95-400e-a5a2-37aaf667c7e7"
   },
   "outputs": [
    {
     "data": {
      "text/plain": [
       "defaultdict(<bound method Vocab._default_unk_index of <torchtext.legacy.vocab.Vocab object at 0x7f1fcae75100>>,\n",
       "            {'<unk>': 0, 1: 1, 2: 2, 0: 3})"
      ]
     },
     "execution_count": 35,
     "metadata": {},
     "output_type": "execute_result"
    }
   ],
   "source": [
    "CATEGORY.vocab.stoi"
   ]
  },
  {
   "cell_type": "code",
   "execution_count": 36,
   "metadata": {
    "executionInfo": {
     "elapsed": 6,
     "status": "ok",
     "timestamp": 1638720294619,
     "user": {
      "displayName": "phattharanan nakwijit",
      "photoUrl": "https://lh3.googleusercontent.com/a-/AOh14GiIIxNe-uXeOWO7avIeHsrg7retrUGk_BMOtjg=s64",
      "userId": "03666715926437036675"
     },
     "user_tz": 0
    },
    "id": "H2DamUhtGgIZ"
   },
   "outputs": [],
   "source": [
    "import fasttext\n",
    "\n",
    "# ref: https://medium.com/@rohit_agrawal/using-fine-tuned-gensim-word2vec-embeddings-with-torchtext-and-pytorch-17eea2883cd\n",
    "def set_wv_vectors(field, vectors, debug=False):\n",
    "    W2V_SIZE = vectors.get_dimension()\n",
    "    \n",
    "    words = vectors.get_words()\n",
    "    vocab_size = len(words)\n",
    "    word2vec_vectors = []\n",
    "    for token, idx in tqdm(field.vocab.stoi.items()):\n",
    "        if idx==0:\n",
    "            word2vec_vectors.append(torch.zeros(W2V_SIZE))\n",
    "            continue\n",
    "            \n",
    "        word2vec_vectors.append(torch.FloatTensor(vectors[token]))\n",
    "\n",
    "    field.vocab.set_vectors(field.vocab.stoi, word2vec_vectors, W2V_SIZE)"
   ]
  },
  {
   "cell_type": "code",
   "execution_count": 37,
   "metadata": {
    "colab": {
     "base_uri": "https://localhost:8080/",
     "height": 49,
     "referenced_widgets": [
      "d7f98d7aa29c4330b4f2098dfdd65a91",
      "6554fe5803ab43a6bae460320da3effa",
      "5fe483dfedc24645be11909f30fbd748",
      "0eddac8e62ed4047875447ccc3b0e946",
      "eafa8c1e9cd248b28a1b99aee6a3a69f",
      "b6d02d4bc9e647c6bafa18dd27b9978c",
      "9d88a9acccca441682ba52f86f23048c",
      "386cc43abec741e3acb24cf3f17fc5fe",
      "43ed38760b254ea4afb6cc944161f86e",
      "5aaaf3e723c94603860f46121c696923",
      "fb840d2ab6cb438ab85594d7617574d3"
     ]
    },
    "executionInfo": {
     "elapsed": 1967,
     "status": "ok",
     "timestamp": 1638720297414,
     "user": {
      "displayName": "phattharanan nakwijit",
      "photoUrl": "https://lh3.googleusercontent.com/a-/AOh14GiIIxNe-uXeOWO7avIeHsrg7retrUGk_BMOtjg=s64",
      "userId": "03666715926437036675"
     },
     "user_tz": 0
    },
    "id": "rh-KH7HCH_Ku",
    "outputId": "497fb61f-1001-44bb-98c6-167487f6f5a3"
   },
   "outputs": [
    {
     "data": {
      "application/vnd.jupyter.widget-view+json": {
       "model_id": "76ae98db53ca46ed9d3bb1891ae373cf",
       "version_major": 2,
       "version_minor": 0
      },
      "text/plain": [
       "  0%|          | 0/44697 [00:00<?, ?it/s]"
      ]
     },
     "metadata": {},
     "output_type": "display_data"
    }
   ],
   "source": [
    "set_wv_vectors(TOKEN, wv)"
   ]
  },
  {
   "cell_type": "code",
   "execution_count": 38,
   "metadata": {
    "executionInfo": {
     "elapsed": 17,
     "status": "ok",
     "timestamp": 1638720297417,
     "user": {
      "displayName": "phattharanan nakwijit",
      "photoUrl": "https://lh3.googleusercontent.com/a-/AOh14GiIIxNe-uXeOWO7avIeHsrg7retrUGk_BMOtjg=s64",
      "userId": "03666715926437036675"
     },
     "user_tz": 0
    },
    "id": "h_GDSnh3zoob"
   },
   "outputs": [],
   "source": [
    "del wv"
   ]
  },
  {
   "cell_type": "code",
   "execution_count": 39,
   "metadata": {
    "colab": {
     "base_uri": "https://localhost:8080/"
    },
    "executionInfo": {
     "elapsed": 735,
     "status": "ok",
     "timestamp": 1638720298137,
     "user": {
      "displayName": "phattharanan nakwijit",
      "photoUrl": "https://lh3.googleusercontent.com/a-/AOh14GiIIxNe-uXeOWO7avIeHsrg7retrUGk_BMOtjg=s64",
      "userId": "03666715926437036675"
     },
     "user_tz": 0
    },
    "id": "TVZ8o5AAztg0",
    "outputId": "caa5b2ee-6e55-4e8a-c0dd-803118b34988"
   },
   "outputs": [
    {
     "data": {
      "text/plain": [
       "0"
      ]
     },
     "execution_count": 39,
     "metadata": {},
     "output_type": "execute_result"
    }
   ],
   "source": [
    "import gc\n",
    "gc.collect()"
   ]
  },
  {
   "cell_type": "code",
   "execution_count": 40,
   "metadata": {
    "executionInfo": {
     "elapsed": 15,
     "status": "ok",
     "timestamp": 1638714879936,
     "user": {
      "displayName": "phattharanan nakwijit",
      "photoUrl": "https://lh3.googleusercontent.com/a-/AOh14GiIIxNe-uXeOWO7avIeHsrg7retrUGk_BMOtjg=s64",
      "userId": "03666715926437036675"
     },
     "user_tz": 0
    },
    "id": "LdiLcxWgH_2O"
   },
   "outputs": [],
   "source": [
    "train_iter, validation_iter, test_iter = data.BucketIterator.splits(\n",
    "    (datasets[\"train\"], datasets[\"validation\"], datasets[\"test\"]), \n",
    "\n",
    "    batch_size=args.batch_size, \n",
    "    \n",
    "    # Sort all examples in data using `sort_key`.\n",
    "    sort=True,\n",
    "    sort_key=lambda x: len(x.tokenized),\n",
    "    sort_within_batch=False,\n",
    "    shuffle=True,\n",
    "    \n",
    "    device=device)"
   ]
  },
  {
   "cell_type": "code",
   "execution_count": 41,
   "metadata": {
    "executionInfo": {
     "elapsed": 15,
     "status": "ok",
     "timestamp": 1638714879938,
     "user": {
      "displayName": "phattharanan nakwijit",
      "photoUrl": "https://lh3.googleusercontent.com/a-/AOh14GiIIxNe-uXeOWO7avIeHsrg7retrUGk_BMOtjg=s64",
      "userId": "03666715926437036675"
     },
     "user_tz": 0
    },
    "id": "yuk1Ym5KIZ1o"
   },
   "outputs": [],
   "source": [
    "def evaluate(loader, model, return_pred=False):\n",
    "    model.eval()\n",
    "    loader.sort = False\n",
    "    loader.sort_within_batch = False\n",
    "    loader.init_epoch()\n",
    "\n",
    "    # calculate accuracy on validation set\n",
    "    n_correct, n = 0, 0\n",
    "    losses = []\n",
    "    answers = []\n",
    "    with torch.no_grad():\n",
    "        for batch_idx, batch in enumerate(loader):\n",
    "            answer = model(batch)\n",
    "            answers.append((answer, batch.category))\n",
    "            n_correct += (torch.max(answer, 1)[1].view(batch.category.size()) == batch.category).sum().item()\n",
    "            n += answer.shape[0]\n",
    "            loss = criterion(answer, batch.category)\n",
    "            losses.append(loss.data.cpu().numpy())\n",
    "    acc = 100. * n_correct / n\n",
    "    loss = np.mean(losses)\n",
    "    \n",
    "    if not return_pred:\n",
    "        return acc, loss\n",
    "    \n",
    "    \n",
    "    predict = torch.cat([a for a,_ in answers])\n",
    "    labels = torch.cat([a for _,a in answers])\n",
    "    return acc, loss, predict, labels"
   ]
  },
  {
   "cell_type": "code",
   "execution_count": 42,
   "metadata": {
    "executionInfo": {
     "elapsed": 15,
     "status": "ok",
     "timestamp": 1638714879939,
     "user": {
      "displayName": "phattharanan nakwijit",
      "photoUrl": "https://lh3.googleusercontent.com/a-/AOh14GiIIxNe-uXeOWO7avIeHsrg7retrUGk_BMOtjg=s64",
      "userId": "03666715926437036675"
     },
     "user_tz": 0
    },
    "id": "Dq-WgDqKIbug"
   },
   "outputs": [],
   "source": [
    "class FeedForward(nn.Module):\n",
    "    def __init__(self, d_model, d_out, d_ff=256, dropout = 0.1):\n",
    "        super().__init__() \n",
    "        # We set d_ff as a default to 256\n",
    "        self.linear_1 = nn.Linear(d_model, d_ff)\n",
    "        self.dropout = nn.Dropout(dropout)\n",
    "        self.linear_2 = nn.Linear(d_ff, d_out)\n",
    "        \n",
    "    def forward(self, x):\n",
    "        x = self.dropout(F.relu(self.linear_1(x)))\n",
    "        x = self.linear_2(x)\n",
    "        return x\n",
    "\n",
    "class Classifier(nn.Module):\n",
    "\n",
    "    def __init__(self,\n",
    "                 n_embed=10000,\n",
    "                 d_embed=300,\n",
    "                 d_hidden=256,\n",
    "                 d_out=2,\n",
    "                 dp=0.2,\n",
    "                 embed_weight=None,\n",
    "                 eow_idx=2):\n",
    "        super(Classifier, self).__init__()\n",
    "\n",
    "        self.device = torch.device('cuda' if torch.cuda.is_available() else 'cpu')\n",
    "        self.embed = nn.Embedding(n_embed, d_embed)\n",
    "        \n",
    "        if embed_weight is not None:\n",
    "            # embed_weight = inputs.vocab.vectors\n",
    "            self.embed.weight.data.copy_(embed_weight)\n",
    "            self.embed.weight.requires_grad = False\n",
    "       \n",
    "        # self.norm = Norm(d_embed)\n",
    "        self.bilstm = torch.nn.LSTM(input_size=d_embed, hidden_size=d_hidden, num_layers=1, bidirectional=True, dropout=dp)\n",
    "        self.ff = FeedForward(2*d_hidden, d_out, d_hidden)\n",
    "        \n",
    "        self.dropout =  nn.Dropout(dp)\n",
    "\n",
    "    def forward(self, batch):\n",
    "        tokens = batch.tokenized  \n",
    "        # misp = batch.misp  \n",
    "        label = batch.category\n",
    "\n",
    "        w = self.embed(tokens)\n",
    "        # m = self.embed(misp)\n",
    "        # w = (w + m)/2\n",
    "        o, (h, c) = self.bilstm(w)\n",
    "        \n",
    "        x = torch.cat((h[0,:,:], h[1,:,:]), dim=1)\n",
    "        # x = self.norm(x)\n",
    "        x = self.ff(self.dropout(x))\n",
    "        \n",
    "        return x\n"
   ]
  },
  {
   "cell_type": "code",
   "execution_count": null,
   "metadata": {
    "executionInfo": {
     "elapsed": 245,
     "status": "ok",
     "timestamp": 1638714880170,
     "user": {
      "displayName": "phattharanan nakwijit",
      "photoUrl": "https://lh3.googleusercontent.com/a-/AOh14GiIIxNe-uXeOWO7avIeHsrg7retrUGk_BMOtjg=s64",
      "userId": "03666715926437036675"
     },
     "user_tz": 0
    },
    "id": "vK7xQ_lGIoIJ"
   },
   "outputs": [],
   "source": []
  },
  {
   "cell_type": "markdown",
   "metadata": {
    "id": "eKIEB_RqIr6p"
   },
   "source": [
    "### Train Model"
   ]
  },
  {
   "cell_type": "code",
   "execution_count": null,
   "metadata": {
    "executionInfo": {
     "elapsed": 23,
     "status": "ok",
     "timestamp": 1638714880171,
     "user": {
      "displayName": "phattharanan nakwijit",
      "photoUrl": "https://lh3.googleusercontent.com/a-/AOh14GiIIxNe-uXeOWO7avIeHsrg7retrUGk_BMOtjg=s64",
      "userId": "03666715926437036675"
     },
     "user_tz": 0
    },
    "id": "WePEx8ANKkTG"
   },
   "outputs": [],
   "source": []
  },
  {
   "cell_type": "code",
   "execution_count": 43,
   "metadata": {
    "executionInfo": {
     "elapsed": 24,
     "status": "ok",
     "timestamp": 1638714880173,
     "user": {
      "displayName": "phattharanan nakwijit",
      "photoUrl": "https://lh3.googleusercontent.com/a-/AOh14GiIIxNe-uXeOWO7avIeHsrg7retrUGk_BMOtjg=s64",
      "userId": "03666715926437036675"
     },
     "user_tz": 0
    },
    "id": "saeTtAPkItPZ"
   },
   "outputs": [],
   "source": [
    "from tqdm.notebook import tqdm\n",
    "import torch\n",
    "import torch.nn as nn\n",
    "import torch.nn.functional as F\n",
    "import json\n",
    "import pandas as pd\n",
    "\n",
    "import copy\n",
    "\n",
    "def train_model(train_iter, validation_iter):\n",
    "    n_embed = len(TOKEN.vocab)\n",
    "    d_out = len(CATEGORY.vocab)\n",
    "\n",
    "    model = Classifier(d_embed=args.d_embed, d_hidden=args.d_embed, d_out=d_out, dp=0.2, embed_weight=TOKEN.vocab.vectors, n_embed=n_embed)\n",
    "    model.to(device)\n",
    "\n",
    "    opt = optim.Adam(model.parameters(), lr=args.lr)\n",
    "\n",
    "    acc, val_loss = evaluate(validation_iter, model)\n",
    "    best_acc = acc\n",
    "\n",
    "#     print('epoch |   %        |  loss  |  avg   |val loss|   acc   |  best  | time | save |')\n",
    "#     print('val   |            |        |        | {:.4f} | {:.4f} | {:.4f} |      |      |'.format(val_loss, acc, best_acc))\n",
    "\n",
    "    iterations = 0\n",
    "    last_val_iter = 0\n",
    "    train_loss = 0\n",
    "    start = time.time()\n",
    "    \n",
    "    train_stat = []\n",
    "    best_model = model\n",
    "    with tqdm(total=args.epochs*len(train_iter)) as pbar:\n",
    "    \n",
    "      for epoch in range(args.epochs):\n",
    "          train_iter.init_epoch()\n",
    "          n_correct, n_total, train_loss = 0, 0, 0\n",
    "          last_val_iter = 0\n",
    "  #         print(epoch, end=' ')\n",
    "          for batch_idx, batch in enumerate(train_iter):\n",
    "              # switch model to training mode, clear gradient accumulators\n",
    "              model.train();\n",
    "              opt.zero_grad()\n",
    "\n",
    "              iterations += 1\n",
    "\n",
    "              # forward pass\n",
    "              answer = model(batch)\n",
    "              loss = criterion(answer, batch.category)\n",
    "\n",
    "              loss.backward();\n",
    "              opt.step()\n",
    "\n",
    "              train_loss += loss.item()\n",
    "  #             print('\\r {:4d} | {:4d}/{} | {:.4f} | {:.4f} |'.format(\n",
    "  #                 epoch, args.batch_size * (batch_idx + 1), len(train), loss.item(),\n",
    "  #                         train_loss / (iterations - last_val_iter)), end='')\n",
    "              \n",
    "              stat = {\n",
    "                  \"epoch\": epoch,\n",
    "                  \"step\": iterations,\n",
    "                  \"train_loss\": loss.item(),\n",
    "                  \"avg_loss\": train_loss / (iterations - last_val_iter)\n",
    "              }\n",
    "\n",
    "              if iterations > 0 and iterations % 10 == 0:\n",
    "                  acc, val_loss = evaluate(validation_iter, model)\n",
    "                  _save_ckp = '*'\n",
    "                  if acc > best_acc:\n",
    "                      best_acc = acc\n",
    "                      # torch.save(model.state_dict(), args.save_path)\n",
    "                      best_model = copy.deepcopy(model)\n",
    "\n",
    "\n",
    "  #                 print(\n",
    "  #                     ' {:.4f} | {:.4f} | {:.4f} | {:.2f} | {:4s} |'.format(\n",
    "  #                         val_loss, acc, best_acc, (time.time() - start) / 60,\n",
    "  #                         _save_ckp))\n",
    "\n",
    "                  train_loss = 0\n",
    "                  last_val_iter = iterations\n",
    "                  stat[\"val_loss\"] = val_loss\n",
    "                  stat[\"acc\"] = acc\n",
    "                  stat[\"best_acc\"] = best_acc\n",
    "                  stat[\"time\"] = (time.time() - start)\n",
    "          \n",
    "              \n",
    "              train_stat.append(stat)\n",
    "              pbar.update(1)\n",
    "    \n",
    "    model = best_model\n",
    "    acc, test_loss, predict, labels = evaluate(test_iter, model, return_pred=True)\n",
    "    print(acc, test_loss)\n",
    "\n",
    "    output = []\n",
    "    # _predict = predict.cpu().numpy()\n",
    "    # _labels = labels.cpu().numpy()\n",
    "    # for idx, t in enumerate(test):\n",
    "    #     output.append({\n",
    "    #         \"text\": t.text,\n",
    "    #         \"label\": t.category,\n",
    "    #         # \"tokens\": json.dumps(t.tokens, ensure_ascii=False),\n",
    "    #         \"predict\": json.dumps(_predict[idx].tolist(), ensure_ascii=False),\n",
    "    # #         \"_label\": _labels[idx]\n",
    "    #     })\n",
    "\n",
    "    output = pd.DataFrame(output)\n",
    "    # output.to_csv(f\"Mispelling/Outputs/{expname}_{tokenType}.csv\", index=False)\n",
    "    \n",
    "    train_stat = pd.DataFrame(train_stat)\n",
    "    # train_stat.to_csv(f\"Mispelling/Outputs/{expname}_{tokenType}_train_stat.csv\", index=False)\n",
    "    return model, output, train_stat"
   ]
  },
  {
   "cell_type": "code",
   "execution_count": 44,
   "metadata": {
    "colab": {
     "base_uri": "https://localhost:8080/"
    },
    "executionInfo": {
     "elapsed": 23,
     "status": "ok",
     "timestamp": 1638714880174,
     "user": {
      "displayName": "phattharanan nakwijit",
      "photoUrl": "https://lh3.googleusercontent.com/a-/AOh14GiIIxNe-uXeOWO7avIeHsrg7retrUGk_BMOtjg=s64",
      "userId": "03666715926437036675"
     },
     "user_tz": 0
    },
    "id": "3eaml5FS0-hj",
    "outputId": "24cd5880-a677-46d6-a63f-275b795daf9e"
   },
   "outputs": [
    {
     "data": {
      "text/plain": [
       "Namespace(batch_size=64, d_embed=100, dev_every=50, dp_ratio=0.2, epochs=100, lr=0.001, save_path='results')"
      ]
     },
     "execution_count": 44,
     "metadata": {},
     "output_type": "execute_result"
    }
   ],
   "source": [
    "args"
   ]
  },
  {
   "cell_type": "code",
   "execution_count": 45,
   "metadata": {
    "colab": {
     "base_uri": "https://localhost:8080/"
    },
    "executionInfo": {
     "elapsed": 17,
     "status": "ok",
     "timestamp": 1638714880175,
     "user": {
      "displayName": "phattharanan nakwijit",
      "photoUrl": "https://lh3.googleusercontent.com/a-/AOh14GiIIxNe-uXeOWO7avIeHsrg7retrUGk_BMOtjg=s64",
      "userId": "03666715926437036675"
     },
     "user_tz": 0
    },
    "id": "7vt7ry4RIyoI",
    "outputId": "399822c6-4c9c-47a0-ce23-16b3af567f43"
   },
   "outputs": [
    {
     "name": "stdout",
     "output_type": "stream",
     "text": [
      "44697 4\n"
     ]
    }
   ],
   "source": [
    "n_embed = len(TOKEN.vocab)\n",
    "d_out = len(CATEGORY.vocab)\n",
    "print(n_embed, d_out)\n",
    "\n",
    "args.epochs = 100\n",
    "args.d_embed = 100"
   ]
  },
  {
   "cell_type": "code",
   "execution_count": 46,
   "metadata": {
    "colab": {
     "base_uri": "https://localhost:8080/",
     "height": 120,
     "referenced_widgets": [
      "08400d4ca7ca4599995dc18f8392d22a",
      "36ed70025f154257971a2771e7566f71",
      "085a1d72a3324628a82e79074db069c7",
      "5bcd94b7f09b48e7a367f7d6d4697531",
      "17370d7c08b04b00a6c817f2f15af4c4",
      "f0c9f0fed5714a70b767fd763f528c0e",
      "5836fc4c0ccd427b9c95386e12678195",
      "1f38187a788544deacaa7c106168f2d4",
      "3166f96495c54cad8f2778cb197af0c9",
      "c8e49becc3d64f9e8d441510bebebab8",
      "06163d329d884209baf96ac7b3fc9b47"
     ]
    },
    "executionInfo": {
     "elapsed": 5154633,
     "status": "ok",
     "timestamp": 1638720034796,
     "user": {
      "displayName": "phattharanan nakwijit",
      "photoUrl": "https://lh3.googleusercontent.com/a-/AOh14GiIIxNe-uXeOWO7avIeHsrg7retrUGk_BMOtjg=s64",
      "userId": "03666715926437036675"
     },
     "user_tz": 0
    },
    "id": "ZxdThFchKMyF",
    "outputId": "6dcb1dbd-cb98-44ee-ef90-f35514e6dac2"
   },
   "outputs": [
    {
     "name": "stderr",
     "output_type": "stream",
     "text": [
      "/home/imtk/.local/lib/python3.8/site-packages/torch/nn/modules/rnn.py:62: UserWarning: dropout option adds dropout after all but last recurrent layer, so non-zero dropout expects num_layers greater than 1, but got dropout=0.2 and num_layers=1\n",
      "  warnings.warn(\"dropout option adds dropout after all but last \"\n"
     ]
    },
    {
     "data": {
      "application/vnd.jupyter.widget-view+json": {
       "model_id": "7cf3b0774d92458db3a715a34fcb852f",
       "version_major": 2,
       "version_minor": 0
      },
      "text/plain": [
       "  0%|          | 0/33800 [00:00<?, ?it/s]"
      ]
     },
     "metadata": {},
     "output_type": "display_data"
    },
    {
     "name": "stdout",
     "output_type": "stream",
     "text": [
      "68.06439535754399 1.0275857\n"
     ]
    }
   ],
   "source": [
    "model, output, train_stat = train_model(train_iter, validation_iter)"
   ]
  },
  {
   "cell_type": "code",
   "execution_count": 47,
   "metadata": {
    "executionInfo": {
     "elapsed": 11,
     "status": "ok",
     "timestamp": 1638720034798,
     "user": {
      "displayName": "phattharanan nakwijit",
      "photoUrl": "https://lh3.googleusercontent.com/a-/AOh14GiIIxNe-uXeOWO7avIeHsrg7retrUGk_BMOtjg=s64",
      "userId": "03666715926437036675"
     },
     "user_tz": 0
    },
    "id": "f13DRfD4K1yV"
   },
   "outputs": [],
   "source": [
    "test_iter, corr_iter, misp_iter = data.BucketIterator.splits(\n",
    "    (datasets[\"test\"], datasets[\"test-corr\"], datasets[\"test-misp\"]), \n",
    "\n",
    "    batch_size=args.batch_size, \n",
    "\n",
    "    # Sort all examples in data using `sort_key`.\n",
    "    sort=True,\n",
    "    sort_key=lambda x: len(x.tokenized),\n",
    "    sort_within_batch=False,\n",
    "    shuffle=True,\n",
    "    \n",
    "    device=device)"
   ]
  },
  {
   "cell_type": "code",
   "execution_count": 48,
   "metadata": {
    "colab": {
     "base_uri": "https://localhost:8080/"
    },
    "executionInfo": {
     "elapsed": 1461,
     "status": "ok",
     "timestamp": 1638720036251,
     "user": {
      "displayName": "phattharanan nakwijit",
      "photoUrl": "https://lh3.googleusercontent.com/a-/AOh14GiIIxNe-uXeOWO7avIeHsrg7retrUGk_BMOtjg=s64",
      "userId": "03666715926437036675"
     },
     "user_tz": 0
    },
    "id": "7Q9UkWWDLBe9",
    "outputId": "3214b8af-39bd-4c1c-9a1d-88fe783ee2b8"
   },
   "outputs": [
    {
     "name": "stdout",
     "output_type": "stream",
     "text": [
      "Accuracy:  68.06439535754399\n"
     ]
    }
   ],
   "source": [
    "acc, test_loss, predict, labels = evaluate(test_iter, model, return_pred=True)\n",
    "print(\"Accuracy: \", acc)"
   ]
  },
  {
   "cell_type": "code",
   "execution_count": 49,
   "metadata": {
    "colab": {
     "base_uri": "https://localhost:8080/"
    },
    "executionInfo": {
     "elapsed": 527,
     "status": "ok",
     "timestamp": 1638720036774,
     "user": {
      "displayName": "phattharanan nakwijit",
      "photoUrl": "https://lh3.googleusercontent.com/a-/AOh14GiIIxNe-uXeOWO7avIeHsrg7retrUGk_BMOtjg=s64",
      "userId": "03666715926437036675"
     },
     "user_tz": 0
    },
    "id": "49snI5qSLdHD",
    "outputId": "1e85801c-940d-4e11-feb7-c82b21820d6a"
   },
   "outputs": [
    {
     "name": "stdout",
     "output_type": "stream",
     "text": [
      "Accuracy:  64.0909090909091\n"
     ]
    }
   ],
   "source": [
    "acc, test_loss, predict, labels = evaluate(corr_iter, model, return_pred=True)\n",
    "print(\"Accuracy: \", acc)"
   ]
  },
  {
   "cell_type": "code",
   "execution_count": 50,
   "metadata": {
    "colab": {
     "base_uri": "https://localhost:8080/"
    },
    "executionInfo": {
     "elapsed": 463,
     "status": "ok",
     "timestamp": 1638720037233,
     "user": {
      "displayName": "phattharanan nakwijit",
      "photoUrl": "https://lh3.googleusercontent.com/a-/AOh14GiIIxNe-uXeOWO7avIeHsrg7retrUGk_BMOtjg=s64",
      "userId": "03666715926437036675"
     },
     "user_tz": 0
    },
    "id": "T9x-EBxZLjqY",
    "outputId": "c18e204a-c2fb-4a32-e7da-3a867af399ce"
   },
   "outputs": [
    {
     "name": "stdout",
     "output_type": "stream",
     "text": [
      "Accuracy:  62.95454545454545\n"
     ]
    }
   ],
   "source": [
    "acc, test_loss, predict, labels = evaluate(misp_iter, model, return_pred=True)\n",
    "print(\"Accuracy: \", acc)"
   ]
  },
  {
   "cell_type": "markdown",
   "metadata": {
    "id": "Rht2EwJUMKLF"
   },
   "source": [
    "# Misspelling Average Embedding [MAE]"
   ]
  },
  {
   "cell_type": "code",
   "execution_count": 51,
   "metadata": {
    "executionInfo": {
     "elapsed": 9,
     "status": "ok",
     "timestamp": 1638720037235,
     "user": {
      "displayName": "phattharanan nakwijit",
      "photoUrl": "https://lh3.googleusercontent.com/a-/AOh14GiIIxNe-uXeOWO7avIeHsrg7retrUGk_BMOtjg=s64",
      "userId": "03666715926437036675"
     },
     "user_tz": 0
    },
    "id": "qtsB-3e56LBC"
   },
   "outputs": [],
   "source": [
    "class MAEClassifier(nn.Module):\n",
    "\n",
    "    def __init__(self, refModel):\n",
    "        super(MAEClassifier, self).__init__()\n",
    "\n",
    "        self.ref = refModel\n",
    "\n",
    "    def forward(self, batch):\n",
    "        tokens = batch.tokenized  \n",
    "        misp = batch.misp  \n",
    "        label = batch.category\n",
    "\n",
    "        w = self.ref.embed(tokens)\n",
    "        m = self.ref.embed(misp)\n",
    "        w = (w + m)/2\n",
    "        o, (h, c) = self.ref.bilstm(w)\n",
    "        \n",
    "        x = torch.cat((h[0,:,:], h[1,:,:]), dim=1)\n",
    "        x = self.ref.ff(self.ref.dropout(x))\n",
    "        return x\n"
   ]
  },
  {
   "cell_type": "code",
   "execution_count": 52,
   "metadata": {
    "executionInfo": {
     "elapsed": 315,
     "status": "ok",
     "timestamp": 1638720037542,
     "user": {
      "displayName": "phattharanan nakwijit",
      "photoUrl": "https://lh3.googleusercontent.com/a-/AOh14GiIIxNe-uXeOWO7avIeHsrg7retrUGk_BMOtjg=s64",
      "userId": "03666715926437036675"
     },
     "user_tz": 0
    },
    "id": "mF-AXByR6vn-"
   },
   "outputs": [],
   "source": [
    "maeModel = MAEClassifier(model)"
   ]
  },
  {
   "cell_type": "code",
   "execution_count": 53,
   "metadata": {
    "executionInfo": {
     "elapsed": 180,
     "status": "ok",
     "timestamp": 1638720310824,
     "user": {
      "displayName": "phattharanan nakwijit",
      "photoUrl": "https://lh3.googleusercontent.com/a-/AOh14GiIIxNe-uXeOWO7avIeHsrg7retrUGk_BMOtjg=s64",
      "userId": "03666715926437036675"
     },
     "user_tz": 0
    },
    "id": "mG37lIhiY915"
   },
   "outputs": [],
   "source": [
    "test_iter, corr_iter, misp_iter = data.BucketIterator.splits(\n",
    "    (MAEdatasets[\"test\"], MAEdatasets[\"test-corr\"], MAEdatasets[\"test-misp\"]), \n",
    "\n",
    "    batch_size=args.batch_size, \n",
    "\n",
    "    # Sort all examples in data using `sort_key`.\n",
    "    sort=True,\n",
    "    sort_key=lambda x: len(x.tokenized),\n",
    "    sort_within_batch=False,\n",
    "    shuffle=True,\n",
    "    \n",
    "    device=device)"
   ]
  },
  {
   "cell_type": "code",
   "execution_count": 54,
   "metadata": {
    "colab": {
     "base_uri": "https://localhost:8080/"
    },
    "executionInfo": {
     "elapsed": 1948,
     "status": "ok",
     "timestamp": 1638720313008,
     "user": {
      "displayName": "phattharanan nakwijit",
      "photoUrl": "https://lh3.googleusercontent.com/a-/AOh14GiIIxNe-uXeOWO7avIeHsrg7retrUGk_BMOtjg=s64",
      "userId": "03666715926437036675"
     },
     "user_tz": 0
    },
    "id": "5dyhIklJ-JBO",
    "outputId": "232918a5-10fb-4a92-b7d3-b96789071522"
   },
   "outputs": [
    {
     "name": "stdout",
     "output_type": "stream",
     "text": [
      "Accuracy:  68.32646948708349\n"
     ]
    }
   ],
   "source": [
    "acc, test_loss, predict, labels = evaluate(test_iter, maeModel, return_pred=True)\n",
    "print(\"Accuracy: \", acc)"
   ]
  },
  {
   "cell_type": "code",
   "execution_count": 55,
   "metadata": {
    "colab": {
     "base_uri": "https://localhost:8080/"
    },
    "executionInfo": {
     "elapsed": 1009,
     "status": "ok",
     "timestamp": 1638720314012,
     "user": {
      "displayName": "phattharanan nakwijit",
      "photoUrl": "https://lh3.googleusercontent.com/a-/AOh14GiIIxNe-uXeOWO7avIeHsrg7retrUGk_BMOtjg=s64",
      "userId": "03666715926437036675"
     },
     "user_tz": 0
    },
    "id": "fsCHmlNI9Rrw",
    "outputId": "25cfe46e-179b-48dd-e114-8c8e6388b7ce"
   },
   "outputs": [
    {
     "name": "stdout",
     "output_type": "stream",
     "text": [
      "Accuracy:  64.0909090909091\n"
     ]
    }
   ],
   "source": [
    "acc, test_loss, predict, labels = evaluate(corr_iter, maeModel, return_pred=True)\n",
    "print(\"Accuracy: \", acc)"
   ]
  },
  {
   "cell_type": "code",
   "execution_count": 56,
   "metadata": {
    "colab": {
     "base_uri": "https://localhost:8080/"
    },
    "executionInfo": {
     "elapsed": 735,
     "status": "ok",
     "timestamp": 1638720314746,
     "user": {
      "displayName": "phattharanan nakwijit",
      "photoUrl": "https://lh3.googleusercontent.com/a-/AOh14GiIIxNe-uXeOWO7avIeHsrg7retrUGk_BMOtjg=s64",
      "userId": "03666715926437036675"
     },
     "user_tz": 0
    },
    "id": "pTLhd_rg7JD1",
    "outputId": "ea3f0c26-91c9-4d6b-d8b3-9caa411774da"
   },
   "outputs": [
    {
     "name": "stdout",
     "output_type": "stream",
     "text": [
      "Accuracy:  63.63636363636363\n"
     ]
    }
   ],
   "source": [
    "acc, test_loss, predict, labels = evaluate(misp_iter, maeModel, return_pred=True)\n",
    "print(\"Accuracy: \", acc)"
   ]
  },
  {
   "cell_type": "code",
   "execution_count": null,
   "metadata": {
    "executionInfo": {
     "elapsed": 2,
     "status": "ok",
     "timestamp": 1638720314746,
     "user": {
      "displayName": "phattharanan nakwijit",
      "photoUrl": "https://lh3.googleusercontent.com/a-/AOh14GiIIxNe-uXeOWO7avIeHsrg7retrUGk_BMOtjg=s64",
      "userId": "03666715926437036675"
     },
     "user_tz": 0
    },
    "id": "Gmvc0FLy-31u"
   },
   "outputs": [],
   "source": []
  },
  {
   "cell_type": "markdown",
   "metadata": {
    "id": "0G-duHBg7KPw"
   },
   "source": [
    "# Misspelling Semantics Tokens"
   ]
  },
  {
   "cell_type": "code",
   "execution_count": 59,
   "metadata": {
    "executionInfo": {
     "elapsed": 2,
     "status": "ok",
     "timestamp": 1638720314746,
     "user": {
      "displayName": "phattharanan nakwijit",
      "photoUrl": "https://lh3.googleusercontent.com/a-/AOh14GiIIxNe-uXeOWO7avIeHsrg7retrUGk_BMOtjg=s64",
      "userId": "03666715926437036675"
     },
     "user_tz": 0
    },
    "id": "oqnxm-uTMhPp"
   },
   "outputs": [],
   "source": [
    "train_iter, validation_iter, test_iter = data.BucketIterator.splits(\n",
    "    (MSTdatasets[\"train\"], MSTdatasets[\"validation\"], MSTdatasets[\"test\"]), \n",
    "\n",
    "    batch_size=args.batch_size, \n",
    "    \n",
    "    # Sort all examples in data using `sort_key`.\n",
    "    sort=True,\n",
    "    sort_key=lambda x: len(x.tokenized),\n",
    "    sort_within_batch=False,\n",
    "    shuffle=True,\n",
    "    \n",
    "    device=device)"
   ]
  },
  {
   "cell_type": "code",
   "execution_count": 61,
   "metadata": {
    "colab": {
     "base_uri": "https://localhost:8080/",
     "height": 120,
     "referenced_widgets": [
      "edc2cd8f7764416188471d730c4bcb20",
      "57751e13982b4f0098f922642421008b",
      "47f089cf3ad14431b3c78eafdc65b188",
      "4d8b22f854104410802bb75debffd661",
      "1bbd9d168d814655ba8f3c51838b8b58",
      "7a7895f0f6f24e9da462f315562f1c67",
      "a4dbf49662cc40bda7edf9648c1e1133",
      "a68886f918054a70a3387ab6f9a8b81b",
      "b7c2903a355a4fdeb608561d1886ea25",
      "bbbd963417f4488b92c6c5b0a82b4b8c",
      "333b01b2004d4d38957dc10ecef1bce1"
     ]
    },
    "executionInfo": {
     "elapsed": 5309698,
     "status": "ok",
     "timestamp": 1638725624442,
     "user": {
      "displayName": "phattharanan nakwijit",
      "photoUrl": "https://lh3.googleusercontent.com/a-/AOh14GiIIxNe-uXeOWO7avIeHsrg7retrUGk_BMOtjg=s64",
      "userId": "03666715926437036675"
     },
     "user_tz": 0
    },
    "id": "KupwYMDGMlaF",
    "outputId": "495f8688-550b-4aff-a671-52d3c170ffd4"
   },
   "outputs": [],
   "source": [
    "# model, output, train_stat = train_model(train_iter, validation_iter)"
   ]
  },
  {
   "cell_type": "code",
   "execution_count": null,
   "metadata": {
    "executionInfo": {
     "elapsed": 11,
     "status": "ok",
     "timestamp": 1638725624444,
     "user": {
      "displayName": "phattharanan nakwijit",
      "photoUrl": "https://lh3.googleusercontent.com/a-/AOh14GiIIxNe-uXeOWO7avIeHsrg7retrUGk_BMOtjg=s64",
      "userId": "03666715926437036675"
     },
     "user_tz": 0
    },
    "id": "w21LsLcpMzLj"
   },
   "outputs": [],
   "source": [
    "test_iter, corr_iter, misp_iter = data.BucketIterator.splits(\n",
    "    (MSTdatasets[\"test\"], MSTdatasets[\"test-corr\"], MSTdatasets[\"test-misp\"]), \n",
    "\n",
    "    batch_size=args.batch_size, \n",
    "\n",
    "    # Sort all examples in data using `sort_key`.\n",
    "    sort=True,\n",
    "    sort_key=lambda x: len(x.tokenized),\n",
    "    sort_within_batch=False,\n",
    "    shuffle=True,\n",
    "    \n",
    "    device=device)"
   ]
  },
  {
   "cell_type": "code",
   "execution_count": null,
   "metadata": {
    "colab": {
     "base_uri": "https://localhost:8080/"
    },
    "executionInfo": {
     "elapsed": 1438,
     "status": "ok",
     "timestamp": 1638725625873,
     "user": {
      "displayName": "phattharanan nakwijit",
      "photoUrl": "https://lh3.googleusercontent.com/a-/AOh14GiIIxNe-uXeOWO7avIeHsrg7retrUGk_BMOtjg=s64",
      "userId": "03666715926437036675"
     },
     "user_tz": 0
    },
    "id": "KC4PcCCUM3rx",
    "outputId": "b5d7d145-abd7-4ba1-a544-6481ee22440e"
   },
   "outputs": [],
   "source": [
    "acc, test_loss, predict, labels = evaluate(test_iter, model, return_pred=True)\n",
    "print(\"Accuracy: \", acc)"
   ]
  },
  {
   "cell_type": "code",
   "execution_count": null,
   "metadata": {
    "colab": {
     "base_uri": "https://localhost:8080/"
    },
    "executionInfo": {
     "elapsed": 475,
     "status": "ok",
     "timestamp": 1638725626343,
     "user": {
      "displayName": "phattharanan nakwijit",
      "photoUrl": "https://lh3.googleusercontent.com/a-/AOh14GiIIxNe-uXeOWO7avIeHsrg7retrUGk_BMOtjg=s64",
      "userId": "03666715926437036675"
     },
     "user_tz": 0
    },
    "id": "HYrihwMHM3xB",
    "outputId": "35a57071-0593-42ca-c404-722d934ac38b"
   },
   "outputs": [],
   "source": [
    "acc, test_loss, predict, labels = evaluate(corr_iter, model, return_pred=True)\n",
    "print(\"Accuracy: \", acc)"
   ]
  },
  {
   "cell_type": "code",
   "execution_count": null,
   "metadata": {
    "colab": {
     "base_uri": "https://localhost:8080/"
    },
    "executionInfo": {
     "elapsed": 667,
     "status": "ok",
     "timestamp": 1638725627006,
     "user": {
      "displayName": "phattharanan nakwijit",
      "photoUrl": "https://lh3.googleusercontent.com/a-/AOh14GiIIxNe-uXeOWO7avIeHsrg7retrUGk_BMOtjg=s64",
      "userId": "03666715926437036675"
     },
     "user_tz": 0
    },
    "id": "Vs5TzBqIM32V",
    "outputId": "30af79f4-16fb-4e32-ef91-1a2729698ef1"
   },
   "outputs": [],
   "source": [
    "acc, test_loss, predict, labels = evaluate(misp_iter, model, return_pred=True)\n",
    "print(\"Accuracy: \", acc)"
   ]
  },
  {
   "cell_type": "markdown",
   "metadata": {
    "id": "b_n6AVQwNBnl"
   },
   "source": [
    "# Both "
   ]
  },
  {
   "cell_type": "code",
   "execution_count": null,
   "metadata": {
    "executionInfo": {
     "elapsed": 12,
     "status": "ok",
     "timestamp": 1638725627008,
     "user": {
      "displayName": "phattharanan nakwijit",
      "photoUrl": "https://lh3.googleusercontent.com/a-/AOh14GiIIxNe-uXeOWO7avIeHsrg7retrUGk_BMOtjg=s64",
      "userId": "03666715926437036675"
     },
     "user_tz": 0
    },
    "id": "uL1MlACQNIbX"
   },
   "outputs": [],
   "source": [
    "maeModel = MAEClassifier(model)"
   ]
  },
  {
   "cell_type": "code",
   "execution_count": null,
   "metadata": {
    "executionInfo": {
     "elapsed": 11,
     "status": "ok",
     "timestamp": 1638725627009,
     "user": {
      "displayName": "phattharanan nakwijit",
      "photoUrl": "https://lh3.googleusercontent.com/a-/AOh14GiIIxNe-uXeOWO7avIeHsrg7retrUGk_BMOtjg=s64",
      "userId": "03666715926437036675"
     },
     "user_tz": 0
    },
    "id": "w9ScQ1eQNDZ3"
   },
   "outputs": [],
   "source": [
    "test_iter, corr_iter, misp_iter = data.BucketIterator.splits(\n",
    "    (BOTHdataset[\"test\"], BOTHdataset[\"test-corr\"], BOTHdataset[\"test-misp\"]), \n",
    "\n",
    "    batch_size=args.batch_size, \n",
    "\n",
    "    # Sort all examples in data using `sort_key`.\n",
    "    sort=True,\n",
    "    sort_key=lambda x: len(x.tokenized),\n",
    "    sort_within_batch=False,\n",
    "    shuffle=True,\n",
    "    \n",
    "    device=device)"
   ]
  },
  {
   "cell_type": "code",
   "execution_count": null,
   "metadata": {
    "colab": {
     "base_uri": "https://localhost:8080/"
    },
    "executionInfo": {
     "elapsed": 1553,
     "status": "ok",
     "timestamp": 1638725628552,
     "user": {
      "displayName": "phattharanan nakwijit",
      "photoUrl": "https://lh3.googleusercontent.com/a-/AOh14GiIIxNe-uXeOWO7avIeHsrg7retrUGk_BMOtjg=s64",
      "userId": "03666715926437036675"
     },
     "user_tz": 0
    },
    "id": "tCk7RriINPQj",
    "outputId": "ab6891dc-cdbf-4e96-96bb-bbbae71050ec"
   },
   "outputs": [],
   "source": [
    "acc, test_loss, predict, labels = evaluate(test_iter, maeModel, return_pred=True)\n",
    "print(\"Accuracy: \", acc)"
   ]
  },
  {
   "cell_type": "code",
   "execution_count": null,
   "metadata": {
    "colab": {
     "base_uri": "https://localhost:8080/"
    },
    "executionInfo": {
     "elapsed": 1204,
     "status": "ok",
     "timestamp": 1638725629750,
     "user": {
      "displayName": "phattharanan nakwijit",
      "photoUrl": "https://lh3.googleusercontent.com/a-/AOh14GiIIxNe-uXeOWO7avIeHsrg7retrUGk_BMOtjg=s64",
      "userId": "03666715926437036675"
     },
     "user_tz": 0
    },
    "id": "SprVk1BiNPTT",
    "outputId": "28679c1c-2555-47ba-e3a9-87777adfb7ab"
   },
   "outputs": [],
   "source": [
    "acc, test_loss, predict, labels = evaluate(corr_iter, maeModel, return_pred=True)\n",
    "print(\"Accuracy: \", acc)"
   ]
  },
  {
   "cell_type": "code",
   "execution_count": null,
   "metadata": {
    "colab": {
     "base_uri": "https://localhost:8080/"
    },
    "executionInfo": {
     "elapsed": 611,
     "status": "ok",
     "timestamp": 1638725630356,
     "user": {
      "displayName": "phattharanan nakwijit",
      "photoUrl": "https://lh3.googleusercontent.com/a-/AOh14GiIIxNe-uXeOWO7avIeHsrg7retrUGk_BMOtjg=s64",
      "userId": "03666715926437036675"
     },
     "user_tz": 0
    },
    "id": "bq4bBDNNNPWU",
    "outputId": "15f7acdf-0356-438e-9cd5-2176892988ec"
   },
   "outputs": [],
   "source": [
    "acc, test_loss, predict, labels = evaluate(misp_iter, maeModel, return_pred=True)\n",
    "print(\"Accuracy: \", acc)"
   ]
  },
  {
   "cell_type": "code",
   "execution_count": null,
   "metadata": {
    "executionInfo": {
     "elapsed": 17,
     "status": "ok",
     "timestamp": 1638725630358,
     "user": {
      "displayName": "phattharanan nakwijit",
      "photoUrl": "https://lh3.googleusercontent.com/a-/AOh14GiIIxNe-uXeOWO7avIeHsrg7retrUGk_BMOtjg=s64",
      "userId": "03666715926437036675"
     },
     "user_tz": 0
    },
    "id": "7NlghTTsNXSB"
   },
   "outputs": [],
   "source": []
  },
  {
   "cell_type": "code",
   "execution_count": null,
   "metadata": {},
   "outputs": [],
   "source": []
  }
 ],
 "metadata": {
  "accelerator": "GPU",
  "colab": {
   "collapsed_sections": [],
   "name": "Train LSTM on FastText  [Exp2: VEC].ipynb",
   "provenance": []
  },
  "kernelspec": {
   "display_name": "Python 3 (ipykernel)",
   "language": "python",
   "name": "python3"
  },
  "language_info": {
   "codemirror_mode": {
    "name": "ipython",
    "version": 3
   },
   "file_extension": ".py",
   "mimetype": "text/x-python",
   "name": "python",
   "nbconvert_exporter": "python",
   "pygments_lexer": "ipython3",
   "version": "3.8.10"
  },
  "widgets": {
   "application/vnd.jupyter.widget-state+json": {
    "06163d329d884209baf96ac7b3fc9b47": {
     "model_module": "@jupyter-widgets/base",
     "model_module_version": "1.2.0",
     "model_name": "LayoutModel",
     "state": {
      "_model_module": "@jupyter-widgets/base",
      "_model_module_version": "1.2.0",
      "_model_name": "LayoutModel",
      "_view_count": null,
      "_view_module": "@jupyter-widgets/base",
      "_view_module_version": "1.2.0",
      "_view_name": "LayoutView",
      "align_content": null,
      "align_items": null,
      "align_self": null,
      "border": null,
      "bottom": null,
      "display": null,
      "flex": null,
      "flex_flow": null,
      "grid_area": null,
      "grid_auto_columns": null,
      "grid_auto_flow": null,
      "grid_auto_rows": null,
      "grid_column": null,
      "grid_gap": null,
      "grid_row": null,
      "grid_template_areas": null,
      "grid_template_columns": null,
      "grid_template_rows": null,
      "height": null,
      "justify_content": null,
      "justify_items": null,
      "left": null,
      "margin": null,
      "max_height": null,
      "max_width": null,
      "min_height": null,
      "min_width": null,
      "object_fit": null,
      "object_position": null,
      "order": null,
      "overflow": null,
      "overflow_x": null,
      "overflow_y": null,
      "padding": null,
      "right": null,
      "top": null,
      "visibility": null,
      "width": null
     }
    },
    "08400d4ca7ca4599995dc18f8392d22a": {
     "model_module": "@jupyter-widgets/controls",
     "model_module_version": "1.5.0",
     "model_name": "HBoxModel",
     "state": {
      "_dom_classes": [],
      "_model_module": "@jupyter-widgets/controls",
      "_model_module_version": "1.5.0",
      "_model_name": "HBoxModel",
      "_view_count": null,
      "_view_module": "@jupyter-widgets/controls",
      "_view_module_version": "1.5.0",
      "_view_name": "HBoxView",
      "box_style": "",
      "children": [
       "IPY_MODEL_085a1d72a3324628a82e79074db069c7",
       "IPY_MODEL_5bcd94b7f09b48e7a367f7d6d4697531",
       "IPY_MODEL_17370d7c08b04b00a6c817f2f15af4c4"
      ],
      "layout": "IPY_MODEL_36ed70025f154257971a2771e7566f71"
     }
    },
    "085a1d72a3324628a82e79074db069c7": {
     "model_module": "@jupyter-widgets/controls",
     "model_module_version": "1.5.0",
     "model_name": "HTMLModel",
     "state": {
      "_dom_classes": [],
      "_model_module": "@jupyter-widgets/controls",
      "_model_module_version": "1.5.0",
      "_model_name": "HTMLModel",
      "_view_count": null,
      "_view_module": "@jupyter-widgets/controls",
      "_view_module_version": "1.5.0",
      "_view_name": "HTMLView",
      "description": "",
      "description_tooltip": null,
      "layout": "IPY_MODEL_5836fc4c0ccd427b9c95386e12678195",
      "placeholder": "​",
      "style": "IPY_MODEL_f0c9f0fed5714a70b767fd763f528c0e",
      "value": "100%"
     }
    },
    "0eddac8e62ed4047875447ccc3b0e946": {
     "model_module": "@jupyter-widgets/controls",
     "model_module_version": "1.5.0",
     "model_name": "FloatProgressModel",
     "state": {
      "_dom_classes": [],
      "_model_module": "@jupyter-widgets/controls",
      "_model_module_version": "1.5.0",
      "_model_name": "FloatProgressModel",
      "_view_count": null,
      "_view_module": "@jupyter-widgets/controls",
      "_view_module_version": "1.5.0",
      "_view_name": "ProgressView",
      "bar_style": "success",
      "description": "",
      "description_tooltip": null,
      "layout": "IPY_MODEL_43ed38760b254ea4afb6cc944161f86e",
      "max": 44697,
      "min": 0,
      "orientation": "horizontal",
      "style": "IPY_MODEL_386cc43abec741e3acb24cf3f17fc5fe",
      "value": 44697
     }
    },
    "17370d7c08b04b00a6c817f2f15af4c4": {
     "model_module": "@jupyter-widgets/controls",
     "model_module_version": "1.5.0",
     "model_name": "HTMLModel",
     "state": {
      "_dom_classes": [],
      "_model_module": "@jupyter-widgets/controls",
      "_model_module_version": "1.5.0",
      "_model_name": "HTMLModel",
      "_view_count": null,
      "_view_module": "@jupyter-widgets/controls",
      "_view_module_version": "1.5.0",
      "_view_name": "HTMLView",
      "description": "",
      "description_tooltip": null,
      "layout": "IPY_MODEL_06163d329d884209baf96ac7b3fc9b47",
      "placeholder": "​",
      "style": "IPY_MODEL_c8e49becc3d64f9e8d441510bebebab8",
      "value": " 33800/33800 [1:25:41&lt;00:00,  1.56it/s]"
     }
    },
    "1bbd9d168d814655ba8f3c51838b8b58": {
     "model_module": "@jupyter-widgets/controls",
     "model_module_version": "1.5.0",
     "model_name": "HTMLModel",
     "state": {
      "_dom_classes": [],
      "_model_module": "@jupyter-widgets/controls",
      "_model_module_version": "1.5.0",
      "_model_name": "HTMLModel",
      "_view_count": null,
      "_view_module": "@jupyter-widgets/controls",
      "_view_module_version": "1.5.0",
      "_view_name": "HTMLView",
      "description": "",
      "description_tooltip": null,
      "layout": "IPY_MODEL_333b01b2004d4d38957dc10ecef1bce1",
      "placeholder": "​",
      "style": "IPY_MODEL_bbbd963417f4488b92c6c5b0a82b4b8c",
      "value": " 33800/33800 [1:28:26&lt;00:00,  1.54it/s]"
     }
    },
    "1f38187a788544deacaa7c106168f2d4": {
     "model_module": "@jupyter-widgets/controls",
     "model_module_version": "1.5.0",
     "model_name": "ProgressStyleModel",
     "state": {
      "_model_module": "@jupyter-widgets/controls",
      "_model_module_version": "1.5.0",
      "_model_name": "ProgressStyleModel",
      "_view_count": null,
      "_view_module": "@jupyter-widgets/base",
      "_view_module_version": "1.2.0",
      "_view_name": "StyleView",
      "bar_color": null,
      "description_width": ""
     }
    },
    "3166f96495c54cad8f2778cb197af0c9": {
     "model_module": "@jupyter-widgets/base",
     "model_module_version": "1.2.0",
     "model_name": "LayoutModel",
     "state": {
      "_model_module": "@jupyter-widgets/base",
      "_model_module_version": "1.2.0",
      "_model_name": "LayoutModel",
      "_view_count": null,
      "_view_module": "@jupyter-widgets/base",
      "_view_module_version": "1.2.0",
      "_view_name": "LayoutView",
      "align_content": null,
      "align_items": null,
      "align_self": null,
      "border": null,
      "bottom": null,
      "display": null,
      "flex": null,
      "flex_flow": null,
      "grid_area": null,
      "grid_auto_columns": null,
      "grid_auto_flow": null,
      "grid_auto_rows": null,
      "grid_column": null,
      "grid_gap": null,
      "grid_row": null,
      "grid_template_areas": null,
      "grid_template_columns": null,
      "grid_template_rows": null,
      "height": null,
      "justify_content": null,
      "justify_items": null,
      "left": null,
      "margin": null,
      "max_height": null,
      "max_width": null,
      "min_height": null,
      "min_width": null,
      "object_fit": null,
      "object_position": null,
      "order": null,
      "overflow": null,
      "overflow_x": null,
      "overflow_y": null,
      "padding": null,
      "right": null,
      "top": null,
      "visibility": null,
      "width": null
     }
    },
    "333b01b2004d4d38957dc10ecef1bce1": {
     "model_module": "@jupyter-widgets/base",
     "model_module_version": "1.2.0",
     "model_name": "LayoutModel",
     "state": {
      "_model_module": "@jupyter-widgets/base",
      "_model_module_version": "1.2.0",
      "_model_name": "LayoutModel",
      "_view_count": null,
      "_view_module": "@jupyter-widgets/base",
      "_view_module_version": "1.2.0",
      "_view_name": "LayoutView",
      "align_content": null,
      "align_items": null,
      "align_self": null,
      "border": null,
      "bottom": null,
      "display": null,
      "flex": null,
      "flex_flow": null,
      "grid_area": null,
      "grid_auto_columns": null,
      "grid_auto_flow": null,
      "grid_auto_rows": null,
      "grid_column": null,
      "grid_gap": null,
      "grid_row": null,
      "grid_template_areas": null,
      "grid_template_columns": null,
      "grid_template_rows": null,
      "height": null,
      "justify_content": null,
      "justify_items": null,
      "left": null,
      "margin": null,
      "max_height": null,
      "max_width": null,
      "min_height": null,
      "min_width": null,
      "object_fit": null,
      "object_position": null,
      "order": null,
      "overflow": null,
      "overflow_x": null,
      "overflow_y": null,
      "padding": null,
      "right": null,
      "top": null,
      "visibility": null,
      "width": null
     }
    },
    "36ed70025f154257971a2771e7566f71": {
     "model_module": "@jupyter-widgets/base",
     "model_module_version": "1.2.0",
     "model_name": "LayoutModel",
     "state": {
      "_model_module": "@jupyter-widgets/base",
      "_model_module_version": "1.2.0",
      "_model_name": "LayoutModel",
      "_view_count": null,
      "_view_module": "@jupyter-widgets/base",
      "_view_module_version": "1.2.0",
      "_view_name": "LayoutView",
      "align_content": null,
      "align_items": null,
      "align_self": null,
      "border": null,
      "bottom": null,
      "display": null,
      "flex": null,
      "flex_flow": null,
      "grid_area": null,
      "grid_auto_columns": null,
      "grid_auto_flow": null,
      "grid_auto_rows": null,
      "grid_column": null,
      "grid_gap": null,
      "grid_row": null,
      "grid_template_areas": null,
      "grid_template_columns": null,
      "grid_template_rows": null,
      "height": null,
      "justify_content": null,
      "justify_items": null,
      "left": null,
      "margin": null,
      "max_height": null,
      "max_width": null,
      "min_height": null,
      "min_width": null,
      "object_fit": null,
      "object_position": null,
      "order": null,
      "overflow": null,
      "overflow_x": null,
      "overflow_y": null,
      "padding": null,
      "right": null,
      "top": null,
      "visibility": null,
      "width": null
     }
    },
    "386cc43abec741e3acb24cf3f17fc5fe": {
     "model_module": "@jupyter-widgets/controls",
     "model_module_version": "1.5.0",
     "model_name": "ProgressStyleModel",
     "state": {
      "_model_module": "@jupyter-widgets/controls",
      "_model_module_version": "1.5.0",
      "_model_name": "ProgressStyleModel",
      "_view_count": null,
      "_view_module": "@jupyter-widgets/base",
      "_view_module_version": "1.2.0",
      "_view_name": "StyleView",
      "bar_color": null,
      "description_width": ""
     }
    },
    "43ed38760b254ea4afb6cc944161f86e": {
     "model_module": "@jupyter-widgets/base",
     "model_module_version": "1.2.0",
     "model_name": "LayoutModel",
     "state": {
      "_model_module": "@jupyter-widgets/base",
      "_model_module_version": "1.2.0",
      "_model_name": "LayoutModel",
      "_view_count": null,
      "_view_module": "@jupyter-widgets/base",
      "_view_module_version": "1.2.0",
      "_view_name": "LayoutView",
      "align_content": null,
      "align_items": null,
      "align_self": null,
      "border": null,
      "bottom": null,
      "display": null,
      "flex": null,
      "flex_flow": null,
      "grid_area": null,
      "grid_auto_columns": null,
      "grid_auto_flow": null,
      "grid_auto_rows": null,
      "grid_column": null,
      "grid_gap": null,
      "grid_row": null,
      "grid_template_areas": null,
      "grid_template_columns": null,
      "grid_template_rows": null,
      "height": null,
      "justify_content": null,
      "justify_items": null,
      "left": null,
      "margin": null,
      "max_height": null,
      "max_width": null,
      "min_height": null,
      "min_width": null,
      "object_fit": null,
      "object_position": null,
      "order": null,
      "overflow": null,
      "overflow_x": null,
      "overflow_y": null,
      "padding": null,
      "right": null,
      "top": null,
      "visibility": null,
      "width": null
     }
    },
    "47f089cf3ad14431b3c78eafdc65b188": {
     "model_module": "@jupyter-widgets/controls",
     "model_module_version": "1.5.0",
     "model_name": "HTMLModel",
     "state": {
      "_dom_classes": [],
      "_model_module": "@jupyter-widgets/controls",
      "_model_module_version": "1.5.0",
      "_model_name": "HTMLModel",
      "_view_count": null,
      "_view_module": "@jupyter-widgets/controls",
      "_view_module_version": "1.5.0",
      "_view_name": "HTMLView",
      "description": "",
      "description_tooltip": null,
      "layout": "IPY_MODEL_a4dbf49662cc40bda7edf9648c1e1133",
      "placeholder": "​",
      "style": "IPY_MODEL_7a7895f0f6f24e9da462f315562f1c67",
      "value": "100%"
     }
    },
    "4d8b22f854104410802bb75debffd661": {
     "model_module": "@jupyter-widgets/controls",
     "model_module_version": "1.5.0",
     "model_name": "FloatProgressModel",
     "state": {
      "_dom_classes": [],
      "_model_module": "@jupyter-widgets/controls",
      "_model_module_version": "1.5.0",
      "_model_name": "FloatProgressModel",
      "_view_count": null,
      "_view_module": "@jupyter-widgets/controls",
      "_view_module_version": "1.5.0",
      "_view_name": "ProgressView",
      "bar_style": "success",
      "description": "",
      "description_tooltip": null,
      "layout": "IPY_MODEL_b7c2903a355a4fdeb608561d1886ea25",
      "max": 33800,
      "min": 0,
      "orientation": "horizontal",
      "style": "IPY_MODEL_a68886f918054a70a3387ab6f9a8b81b",
      "value": 33800
     }
    },
    "57751e13982b4f0098f922642421008b": {
     "model_module": "@jupyter-widgets/base",
     "model_module_version": "1.2.0",
     "model_name": "LayoutModel",
     "state": {
      "_model_module": "@jupyter-widgets/base",
      "_model_module_version": "1.2.0",
      "_model_name": "LayoutModel",
      "_view_count": null,
      "_view_module": "@jupyter-widgets/base",
      "_view_module_version": "1.2.0",
      "_view_name": "LayoutView",
      "align_content": null,
      "align_items": null,
      "align_self": null,
      "border": null,
      "bottom": null,
      "display": null,
      "flex": null,
      "flex_flow": null,
      "grid_area": null,
      "grid_auto_columns": null,
      "grid_auto_flow": null,
      "grid_auto_rows": null,
      "grid_column": null,
      "grid_gap": null,
      "grid_row": null,
      "grid_template_areas": null,
      "grid_template_columns": null,
      "grid_template_rows": null,
      "height": null,
      "justify_content": null,
      "justify_items": null,
      "left": null,
      "margin": null,
      "max_height": null,
      "max_width": null,
      "min_height": null,
      "min_width": null,
      "object_fit": null,
      "object_position": null,
      "order": null,
      "overflow": null,
      "overflow_x": null,
      "overflow_y": null,
      "padding": null,
      "right": null,
      "top": null,
      "visibility": null,
      "width": null
     }
    },
    "5836fc4c0ccd427b9c95386e12678195": {
     "model_module": "@jupyter-widgets/base",
     "model_module_version": "1.2.0",
     "model_name": "LayoutModel",
     "state": {
      "_model_module": "@jupyter-widgets/base",
      "_model_module_version": "1.2.0",
      "_model_name": "LayoutModel",
      "_view_count": null,
      "_view_module": "@jupyter-widgets/base",
      "_view_module_version": "1.2.0",
      "_view_name": "LayoutView",
      "align_content": null,
      "align_items": null,
      "align_self": null,
      "border": null,
      "bottom": null,
      "display": null,
      "flex": null,
      "flex_flow": null,
      "grid_area": null,
      "grid_auto_columns": null,
      "grid_auto_flow": null,
      "grid_auto_rows": null,
      "grid_column": null,
      "grid_gap": null,
      "grid_row": null,
      "grid_template_areas": null,
      "grid_template_columns": null,
      "grid_template_rows": null,
      "height": null,
      "justify_content": null,
      "justify_items": null,
      "left": null,
      "margin": null,
      "max_height": null,
      "max_width": null,
      "min_height": null,
      "min_width": null,
      "object_fit": null,
      "object_position": null,
      "order": null,
      "overflow": null,
      "overflow_x": null,
      "overflow_y": null,
      "padding": null,
      "right": null,
      "top": null,
      "visibility": null,
      "width": null
     }
    },
    "5aaaf3e723c94603860f46121c696923": {
     "model_module": "@jupyter-widgets/controls",
     "model_module_version": "1.5.0",
     "model_name": "DescriptionStyleModel",
     "state": {
      "_model_module": "@jupyter-widgets/controls",
      "_model_module_version": "1.5.0",
      "_model_name": "DescriptionStyleModel",
      "_view_count": null,
      "_view_module": "@jupyter-widgets/base",
      "_view_module_version": "1.2.0",
      "_view_name": "StyleView",
      "description_width": ""
     }
    },
    "5bcd94b7f09b48e7a367f7d6d4697531": {
     "model_module": "@jupyter-widgets/controls",
     "model_module_version": "1.5.0",
     "model_name": "FloatProgressModel",
     "state": {
      "_dom_classes": [],
      "_model_module": "@jupyter-widgets/controls",
      "_model_module_version": "1.5.0",
      "_model_name": "FloatProgressModel",
      "_view_count": null,
      "_view_module": "@jupyter-widgets/controls",
      "_view_module_version": "1.5.0",
      "_view_name": "ProgressView",
      "bar_style": "success",
      "description": "",
      "description_tooltip": null,
      "layout": "IPY_MODEL_3166f96495c54cad8f2778cb197af0c9",
      "max": 33800,
      "min": 0,
      "orientation": "horizontal",
      "style": "IPY_MODEL_1f38187a788544deacaa7c106168f2d4",
      "value": 33800
     }
    },
    "5fe483dfedc24645be11909f30fbd748": {
     "model_module": "@jupyter-widgets/controls",
     "model_module_version": "1.5.0",
     "model_name": "HTMLModel",
     "state": {
      "_dom_classes": [],
      "_model_module": "@jupyter-widgets/controls",
      "_model_module_version": "1.5.0",
      "_model_name": "HTMLModel",
      "_view_count": null,
      "_view_module": "@jupyter-widgets/controls",
      "_view_module_version": "1.5.0",
      "_view_name": "HTMLView",
      "description": "",
      "description_tooltip": null,
      "layout": "IPY_MODEL_9d88a9acccca441682ba52f86f23048c",
      "placeholder": "​",
      "style": "IPY_MODEL_b6d02d4bc9e647c6bafa18dd27b9978c",
      "value": "100%"
     }
    },
    "6554fe5803ab43a6bae460320da3effa": {
     "model_module": "@jupyter-widgets/base",
     "model_module_version": "1.2.0",
     "model_name": "LayoutModel",
     "state": {
      "_model_module": "@jupyter-widgets/base",
      "_model_module_version": "1.2.0",
      "_model_name": "LayoutModel",
      "_view_count": null,
      "_view_module": "@jupyter-widgets/base",
      "_view_module_version": "1.2.0",
      "_view_name": "LayoutView",
      "align_content": null,
      "align_items": null,
      "align_self": null,
      "border": null,
      "bottom": null,
      "display": null,
      "flex": null,
      "flex_flow": null,
      "grid_area": null,
      "grid_auto_columns": null,
      "grid_auto_flow": null,
      "grid_auto_rows": null,
      "grid_column": null,
      "grid_gap": null,
      "grid_row": null,
      "grid_template_areas": null,
      "grid_template_columns": null,
      "grid_template_rows": null,
      "height": null,
      "justify_content": null,
      "justify_items": null,
      "left": null,
      "margin": null,
      "max_height": null,
      "max_width": null,
      "min_height": null,
      "min_width": null,
      "object_fit": null,
      "object_position": null,
      "order": null,
      "overflow": null,
      "overflow_x": null,
      "overflow_y": null,
      "padding": null,
      "right": null,
      "top": null,
      "visibility": null,
      "width": null
     }
    },
    "7a7895f0f6f24e9da462f315562f1c67": {
     "model_module": "@jupyter-widgets/controls",
     "model_module_version": "1.5.0",
     "model_name": "DescriptionStyleModel",
     "state": {
      "_model_module": "@jupyter-widgets/controls",
      "_model_module_version": "1.5.0",
      "_model_name": "DescriptionStyleModel",
      "_view_count": null,
      "_view_module": "@jupyter-widgets/base",
      "_view_module_version": "1.2.0",
      "_view_name": "StyleView",
      "description_width": ""
     }
    },
    "9d88a9acccca441682ba52f86f23048c": {
     "model_module": "@jupyter-widgets/base",
     "model_module_version": "1.2.0",
     "model_name": "LayoutModel",
     "state": {
      "_model_module": "@jupyter-widgets/base",
      "_model_module_version": "1.2.0",
      "_model_name": "LayoutModel",
      "_view_count": null,
      "_view_module": "@jupyter-widgets/base",
      "_view_module_version": "1.2.0",
      "_view_name": "LayoutView",
      "align_content": null,
      "align_items": null,
      "align_self": null,
      "border": null,
      "bottom": null,
      "display": null,
      "flex": null,
      "flex_flow": null,
      "grid_area": null,
      "grid_auto_columns": null,
      "grid_auto_flow": null,
      "grid_auto_rows": null,
      "grid_column": null,
      "grid_gap": null,
      "grid_row": null,
      "grid_template_areas": null,
      "grid_template_columns": null,
      "grid_template_rows": null,
      "height": null,
      "justify_content": null,
      "justify_items": null,
      "left": null,
      "margin": null,
      "max_height": null,
      "max_width": null,
      "min_height": null,
      "min_width": null,
      "object_fit": null,
      "object_position": null,
      "order": null,
      "overflow": null,
      "overflow_x": null,
      "overflow_y": null,
      "padding": null,
      "right": null,
      "top": null,
      "visibility": null,
      "width": null
     }
    },
    "a4dbf49662cc40bda7edf9648c1e1133": {
     "model_module": "@jupyter-widgets/base",
     "model_module_version": "1.2.0",
     "model_name": "LayoutModel",
     "state": {
      "_model_module": "@jupyter-widgets/base",
      "_model_module_version": "1.2.0",
      "_model_name": "LayoutModel",
      "_view_count": null,
      "_view_module": "@jupyter-widgets/base",
      "_view_module_version": "1.2.0",
      "_view_name": "LayoutView",
      "align_content": null,
      "align_items": null,
      "align_self": null,
      "border": null,
      "bottom": null,
      "display": null,
      "flex": null,
      "flex_flow": null,
      "grid_area": null,
      "grid_auto_columns": null,
      "grid_auto_flow": null,
      "grid_auto_rows": null,
      "grid_column": null,
      "grid_gap": null,
      "grid_row": null,
      "grid_template_areas": null,
      "grid_template_columns": null,
      "grid_template_rows": null,
      "height": null,
      "justify_content": null,
      "justify_items": null,
      "left": null,
      "margin": null,
      "max_height": null,
      "max_width": null,
      "min_height": null,
      "min_width": null,
      "object_fit": null,
      "object_position": null,
      "order": null,
      "overflow": null,
      "overflow_x": null,
      "overflow_y": null,
      "padding": null,
      "right": null,
      "top": null,
      "visibility": null,
      "width": null
     }
    },
    "a68886f918054a70a3387ab6f9a8b81b": {
     "model_module": "@jupyter-widgets/controls",
     "model_module_version": "1.5.0",
     "model_name": "ProgressStyleModel",
     "state": {
      "_model_module": "@jupyter-widgets/controls",
      "_model_module_version": "1.5.0",
      "_model_name": "ProgressStyleModel",
      "_view_count": null,
      "_view_module": "@jupyter-widgets/base",
      "_view_module_version": "1.2.0",
      "_view_name": "StyleView",
      "bar_color": null,
      "description_width": ""
     }
    },
    "b6d02d4bc9e647c6bafa18dd27b9978c": {
     "model_module": "@jupyter-widgets/controls",
     "model_module_version": "1.5.0",
     "model_name": "DescriptionStyleModel",
     "state": {
      "_model_module": "@jupyter-widgets/controls",
      "_model_module_version": "1.5.0",
      "_model_name": "DescriptionStyleModel",
      "_view_count": null,
      "_view_module": "@jupyter-widgets/base",
      "_view_module_version": "1.2.0",
      "_view_name": "StyleView",
      "description_width": ""
     }
    },
    "b7c2903a355a4fdeb608561d1886ea25": {
     "model_module": "@jupyter-widgets/base",
     "model_module_version": "1.2.0",
     "model_name": "LayoutModel",
     "state": {
      "_model_module": "@jupyter-widgets/base",
      "_model_module_version": "1.2.0",
      "_model_name": "LayoutModel",
      "_view_count": null,
      "_view_module": "@jupyter-widgets/base",
      "_view_module_version": "1.2.0",
      "_view_name": "LayoutView",
      "align_content": null,
      "align_items": null,
      "align_self": null,
      "border": null,
      "bottom": null,
      "display": null,
      "flex": null,
      "flex_flow": null,
      "grid_area": null,
      "grid_auto_columns": null,
      "grid_auto_flow": null,
      "grid_auto_rows": null,
      "grid_column": null,
      "grid_gap": null,
      "grid_row": null,
      "grid_template_areas": null,
      "grid_template_columns": null,
      "grid_template_rows": null,
      "height": null,
      "justify_content": null,
      "justify_items": null,
      "left": null,
      "margin": null,
      "max_height": null,
      "max_width": null,
      "min_height": null,
      "min_width": null,
      "object_fit": null,
      "object_position": null,
      "order": null,
      "overflow": null,
      "overflow_x": null,
      "overflow_y": null,
      "padding": null,
      "right": null,
      "top": null,
      "visibility": null,
      "width": null
     }
    },
    "bbbd963417f4488b92c6c5b0a82b4b8c": {
     "model_module": "@jupyter-widgets/controls",
     "model_module_version": "1.5.0",
     "model_name": "DescriptionStyleModel",
     "state": {
      "_model_module": "@jupyter-widgets/controls",
      "_model_module_version": "1.5.0",
      "_model_name": "DescriptionStyleModel",
      "_view_count": null,
      "_view_module": "@jupyter-widgets/base",
      "_view_module_version": "1.2.0",
      "_view_name": "StyleView",
      "description_width": ""
     }
    },
    "c8e49becc3d64f9e8d441510bebebab8": {
     "model_module": "@jupyter-widgets/controls",
     "model_module_version": "1.5.0",
     "model_name": "DescriptionStyleModel",
     "state": {
      "_model_module": "@jupyter-widgets/controls",
      "_model_module_version": "1.5.0",
      "_model_name": "DescriptionStyleModel",
      "_view_count": null,
      "_view_module": "@jupyter-widgets/base",
      "_view_module_version": "1.2.0",
      "_view_name": "StyleView",
      "description_width": ""
     }
    },
    "d7f98d7aa29c4330b4f2098dfdd65a91": {
     "model_module": "@jupyter-widgets/controls",
     "model_module_version": "1.5.0",
     "model_name": "HBoxModel",
     "state": {
      "_dom_classes": [],
      "_model_module": "@jupyter-widgets/controls",
      "_model_module_version": "1.5.0",
      "_model_name": "HBoxModel",
      "_view_count": null,
      "_view_module": "@jupyter-widgets/controls",
      "_view_module_version": "1.5.0",
      "_view_name": "HBoxView",
      "box_style": "",
      "children": [
       "IPY_MODEL_5fe483dfedc24645be11909f30fbd748",
       "IPY_MODEL_0eddac8e62ed4047875447ccc3b0e946",
       "IPY_MODEL_eafa8c1e9cd248b28a1b99aee6a3a69f"
      ],
      "layout": "IPY_MODEL_6554fe5803ab43a6bae460320da3effa"
     }
    },
    "eafa8c1e9cd248b28a1b99aee6a3a69f": {
     "model_module": "@jupyter-widgets/controls",
     "model_module_version": "1.5.0",
     "model_name": "HTMLModel",
     "state": {
      "_dom_classes": [],
      "_model_module": "@jupyter-widgets/controls",
      "_model_module_version": "1.5.0",
      "_model_name": "HTMLModel",
      "_view_count": null,
      "_view_module": "@jupyter-widgets/controls",
      "_view_module_version": "1.5.0",
      "_view_name": "HTMLView",
      "description": "",
      "description_tooltip": null,
      "layout": "IPY_MODEL_fb840d2ab6cb438ab85594d7617574d3",
      "placeholder": "​",
      "style": "IPY_MODEL_5aaaf3e723c94603860f46121c696923",
      "value": " 44697/44697 [00:01&lt;00:00, 30763.05it/s]"
     }
    },
    "edc2cd8f7764416188471d730c4bcb20": {
     "model_module": "@jupyter-widgets/controls",
     "model_module_version": "1.5.0",
     "model_name": "HBoxModel",
     "state": {
      "_dom_classes": [],
      "_model_module": "@jupyter-widgets/controls",
      "_model_module_version": "1.5.0",
      "_model_name": "HBoxModel",
      "_view_count": null,
      "_view_module": "@jupyter-widgets/controls",
      "_view_module_version": "1.5.0",
      "_view_name": "HBoxView",
      "box_style": "",
      "children": [
       "IPY_MODEL_47f089cf3ad14431b3c78eafdc65b188",
       "IPY_MODEL_4d8b22f854104410802bb75debffd661",
       "IPY_MODEL_1bbd9d168d814655ba8f3c51838b8b58"
      ],
      "layout": "IPY_MODEL_57751e13982b4f0098f922642421008b"
     }
    },
    "f0c9f0fed5714a70b767fd763f528c0e": {
     "model_module": "@jupyter-widgets/controls",
     "model_module_version": "1.5.0",
     "model_name": "DescriptionStyleModel",
     "state": {
      "_model_module": "@jupyter-widgets/controls",
      "_model_module_version": "1.5.0",
      "_model_name": "DescriptionStyleModel",
      "_view_count": null,
      "_view_module": "@jupyter-widgets/base",
      "_view_module_version": "1.2.0",
      "_view_name": "StyleView",
      "description_width": ""
     }
    },
    "fb840d2ab6cb438ab85594d7617574d3": {
     "model_module": "@jupyter-widgets/base",
     "model_module_version": "1.2.0",
     "model_name": "LayoutModel",
     "state": {
      "_model_module": "@jupyter-widgets/base",
      "_model_module_version": "1.2.0",
      "_model_name": "LayoutModel",
      "_view_count": null,
      "_view_module": "@jupyter-widgets/base",
      "_view_module_version": "1.2.0",
      "_view_name": "LayoutView",
      "align_content": null,
      "align_items": null,
      "align_self": null,
      "border": null,
      "bottom": null,
      "display": null,
      "flex": null,
      "flex_flow": null,
      "grid_area": null,
      "grid_auto_columns": null,
      "grid_auto_flow": null,
      "grid_auto_rows": null,
      "grid_column": null,
      "grid_gap": null,
      "grid_row": null,
      "grid_template_areas": null,
      "grid_template_columns": null,
      "grid_template_rows": null,
      "height": null,
      "justify_content": null,
      "justify_items": null,
      "left": null,
      "margin": null,
      "max_height": null,
      "max_width": null,
      "min_height": null,
      "min_width": null,
      "object_fit": null,
      "object_position": null,
      "order": null,
      "overflow": null,
      "overflow_x": null,
      "overflow_y": null,
      "padding": null,
      "right": null,
      "top": null,
      "visibility": null,
      "width": null
     }
    }
   }
  }
 },
 "nbformat": 4,
 "nbformat_minor": 4
}
