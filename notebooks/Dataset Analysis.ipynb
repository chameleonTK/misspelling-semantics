{
 "cells": [
  {
   "cell_type": "code",
   "execution_count": 1,
   "id": "8c9e6b3b-9716-4d55-9f24-7f64007acccc",
   "metadata": {},
   "outputs": [],
   "source": [
    "import pandas as pd\n",
    "import numpy as np\n",
    "import json"
   ]
  },
  {
   "cell_type": "code",
   "execution_count": 2,
   "id": "2e99050e-2f49-4835-9a05-f29a31a06470",
   "metadata": {},
   "outputs": [],
   "source": [
    "def load_jsonl(fname):\n",
    "    fin = open(fname, encoding=\"utf-8\")\n",
    "    data = []\n",
    "    for line in fin:\n",
    "        d = json.loads(line.strip())\n",
    "        data.append(d)\n",
    "\n",
    "    return data\n",
    "\n",
    "def save_jsonl(data, filename):\n",
    "    with open(filename, \"w\", encoding=\"utf-8\") as fo:\n",
    "        for idx, d in enumerate(data):\n",
    "            fo.write(json.dumps(d, ensure_ascii=False))\n",
    "            fo.write(\"\\n\")"
   ]
  },
  {
   "cell_type": "code",
   "execution_count": 5,
   "id": "1f26d9c1-5f1c-40ca-8634-b484c20dc90d",
   "metadata": {},
   "outputs": [
    {
     "name": "stdout",
     "output_type": "stream",
     "text": [
      "\u001b[34mDatasets\u001b[m\u001b[m/                             few-shot_WangchanBERTa.py\r\n",
      "\u001b[34mFigures\u001b[m\u001b[m/                              few-shot_WangchanBERTa_MST.py\r\n",
      "LICENSE.md                            fine-tune_WangchanBERTa.py\r\n",
      "LSTMDataset.py                        fine-tune_WangchanBERTa_MST.py\r\n",
      "LSTMModel.py                          \u001b[34mnotebooks\u001b[m\u001b[m/\r\n",
      "MAEClassifier.py                      preprocess_training_text_fasttext.py\r\n",
      "\u001b[34mModels\u001b[m\u001b[m/                               run_LSTM.sh\r\n",
      "README.md                             run_LSTMv2.sh\r\n",
      "\u001b[34mResults\u001b[m\u001b[m/                              \u001b[31mrun_WangchanBERTa.sh\u001b[m\u001b[m*\r\n",
      "Seq2Seq Model.ipynb                   test_mispelling_correction.jsonl\r\n",
      "SequenceClassificationDataset.py      train_LSTM.py\r\n",
      "THSarabunNew.ttf                      train_LSTM_MST.py\r\n",
      "WangchanBERTaArgs.py                  train_fasttext.py\r\n",
      "WangchanBERTaDataset.py               train_mispelling_dection.jsonl\r\n",
      "WangchanBERTaModel.py                 util.py\r\n"
     ]
    }
   ],
   "source": [
    "ls .."
   ]
  },
  {
   "cell_type": "code",
   "execution_count": 6,
   "id": "042fb6d6-04d1-49a3-80ee-975ffc12de8c",
   "metadata": {},
   "outputs": [],
   "source": [
    "data = []\n",
    "DIR = \"../Datasets/WisesightSentiment/few-shot/\"\n",
    "for i in range(1, 5+1):\n",
    "    d = load_jsonl(f\"{DIR}/misp{i}/all.jsonl\")\n",
    "    for sent in d:\n",
    "        del sent[\"id\"]\n",
    "        sent[\"meta\"][\"part\"] = i\n",
    "    d = pd.DataFrame(d)\n",
    "    data.append(d)"
   ]
  },
  {
   "cell_type": "code",
   "execution_count": 7,
   "id": "b8d1ebe8-e42f-420d-ad8b-bfa44336045e",
   "metadata": {},
   "outputs": [
    {
     "name": "stdout",
     "output_type": "stream",
     "text": [
      "#Annotators: 5\n"
     ]
    }
   ],
   "source": [
    "print(\"#Annotators:\", len(data))"
   ]
  },
  {
   "cell_type": "code",
   "execution_count": null,
   "id": "b7d27d09-0c1d-4b27-8bc1-998897a3a8a9",
   "metadata": {},
   "outputs": [],
   "source": []
  },
  {
   "cell_type": "markdown",
   "id": "75bc3f18-1e2e-4176-9674-085d483f6080",
   "metadata": {},
   "source": [
    "# Inter-Annotator Agreement\n",
    "\n",
    "<img width=\"500px\" src=\"https://miro.medium.com/max/875/1*mHB6Ciljb4OnOacNWgc0aw.png\">"
   ]
  },
  {
   "cell_type": "code",
   "execution_count": 8,
   "id": "8a40c690-06a0-416f-a269-bda0c9f9e342",
   "metadata": {},
   "outputs": [],
   "source": [
    "import sklearn\n",
    "from sklearn.metrics import cohen_kappa_score\n",
    "import statsmodels\n",
    "from statsmodels.stats.inter_rater import fleiss_kappa"
   ]
  },
  {
   "cell_type": "code",
   "execution_count": 9,
   "id": "a870e432-bbfa-48d5-8b40-ee54d0558584",
   "metadata": {},
   "outputs": [],
   "source": [
    "# from sklearn.metrics import cohen_kappa_score\n",
    "# y_true = [2, 0, 2, 2, 0, 1]\n",
    "# y_pred = [0, 0, 2, 2, 0, 2]\n",
    "# "
   ]
  },
  {
   "cell_type": "code",
   "execution_count": 10,
   "id": "4afa69f5-ead4-4c58-8d03-d134bc266793",
   "metadata": {},
   "outputs": [],
   "source": [
    "# from itertools import combinations\n",
    "# pairs = list(combinations(range(5), 2))"
   ]
  },
  {
   "cell_type": "markdown",
   "id": "68fcff7f-bb28-454a-858f-48a53cc11c46",
   "metadata": {},
   "source": [
    "### Sentence-wise"
   ]
  },
  {
   "cell_type": "code",
   "execution_count": 11,
   "id": "b9ee3619-fe75-4ae0-96af-3c062bbcdc46",
   "metadata": {},
   "outputs": [
    {
     "name": "stdout",
     "output_type": "stream",
     "text": [
      "1 0 0.5523220467574752 198\n",
      "2 0 0.7426610751048417 99\n",
      "2 1 0.5771654255479515 187\n",
      "3 0 0.716058175275508 101\n",
      "3 1 0.5335973813766809 196\n",
      "3 2 0.8289207987435495 61\n",
      "4 0 0.686227814697411 130\n",
      "4 1 0.6716584644183449 145\n",
      "4 2 0.6925512821207997 126\n",
      "4 3 0.7107333582401161 117\n"
     ]
    }
   ],
   "source": [
    "# import modules\n",
    "import matplotlib.pyplot as mp\n",
    "import pandas as pd\n",
    "import seaborn as sb\n",
    "import numpy as np\n",
    "\n",
    "def has_misspelling(val):\n",
    "    return int(len(val)==0)\n",
    "\n",
    "mat = []\n",
    "for p1 in range(5):\n",
    "    row = []\n",
    "    for p2 in range(5):\n",
    "        if p2 >= p1:\n",
    "            row.append(0)\n",
    "            continue\n",
    "        \n",
    "        d1 = data[p1]\n",
    "        d2 = data[p2]\n",
    "\n",
    "        d = d1.merge(d2, on=\"data\", how=\"inner\")\n",
    "\n",
    "        m1 = d[\"label_x\"].apply(has_misspelling)\n",
    "        m2 = d[\"label_y\"].apply(has_misspelling)\n",
    "\n",
    "        row.append(cohen_kappa_score(m1, m2))\n",
    "        print(p1, p2, cohen_kappa_score(m1, m2), (m1!=m2).sum())\n",
    "    mat.append(row)\n",
    "\n"
   ]
  },
  {
   "cell_type": "code",
   "execution_count": 13,
   "id": "0ba47701-292c-49f5-82f8-591a51a53296",
   "metadata": {},
   "outputs": [
    {
     "data": {
      "image/png": "[encoded data removed]",
      "text/plain": [
       "<Figure size 432x288 with 2 Axes>"
      ]
     },
     "metadata": {
      "needs_background": "light"
     },
     "output_type": "display_data"
    }
   ],
   "source": [
    "mask = np.triu(np.ones_like(mat))\n",
    "# # plotting a triangle correlation heatmap\n",
    "dataplot = sb.heatmap(mat, cmap=\"YlGnBu\", annot=True, mask=mask, vmin=0, vmax=1)\n",
    "fig = dataplot.get_figure()\n",
    "# fig.savefig(\"../Figures/iaa1.png\")"
   ]
  },
  {
   "cell_type": "code",
   "execution_count": null,
   "id": "3eb16f38-a04a-487c-ac7b-e482e0b7d1ab",
   "metadata": {},
   "outputs": [],
   "source": []
  },
  {
   "cell_type": "code",
   "execution_count": null,
   "id": "482caf1a-81c9-42e1-8c18-56e510ce8023",
   "metadata": {},
   "outputs": [],
   "source": []
  },
  {
   "cell_type": "markdown",
   "id": "2db1ad65-6a55-447c-978f-40f08bc7ca1d",
   "metadata": {},
   "source": [
    "### Token-wise"
   ]
  },
  {
   "cell_type": "code",
   "execution_count": 14,
   "id": "0d4c8b08-50d8-4989-9a81-3e41b5e40934",
   "metadata": {},
   "outputs": [
    {
     "name": "stdout",
     "output_type": "stream",
     "text": [
      "1 0 0.4288299430560263 23.729582577132486\n",
      "2 0 0.5815938566308756 15.927654609101516\n",
      "2 1 0.4351471003109848 23.42557251908397\n",
      "3 0 0.5879560516029422 14.821763602251407\n",
      "3 1 0.38893936247534 24.719101123595507\n",
      "3 2 0.6977831112233941 11.285266457680251\n",
      "4 0 0.5435488529154757 18.80988401412002\n",
      "4 1 0.5160136079886379 21.026785714285715\n",
      "4 2 0.5227718580198998 19.383490073145246\n",
      "4 3 0.52317363419996 19.20424403183024\n"
     ]
    }
   ],
   "source": [
    "def get_segments(text, labels):\n",
    "    seg = []\n",
    "    pt = 0\n",
    "    \n",
    "    labels = sorted(labels, key=lambda x: x[0], reverse=False)\n",
    "    for l in labels:\n",
    "        seg.append({\"text\": text[pt:l[0]], \"misp\": False, \"int\":False, \"s\": pt, \"t\":l[0]})\n",
    "        mint = (l[2]=='ตั้งใจ')\n",
    "        seg.append({\"text\": text[l[0]:l[1]], \"misp\": True, \"int\":mint, \"s\": l[0], \"t\":l[1]})\n",
    "        pt = l[1]\n",
    "    \n",
    "    seg.append({\"text\": text[pt:], \"misp\": False, \"int\":False, \"s\": pt, \"t\":len(text)})\n",
    "    \n",
    "    length = sum([len(s[\"text\"]) for s in seg])\n",
    "    assert(length==len(text))\n",
    "    return seg\n",
    "\n",
    "def overlap_segments(text, segments):\n",
    "    idx = set()\n",
    "    for seg in segments:\n",
    "        for s in seg:\n",
    "            idx.add(s[\"s\"])\n",
    "            idx.add(s[\"t\"])\n",
    "    \n",
    "    idx = sorted(idx)\n",
    "    newseg = []\n",
    "    for i, _ in enumerate(idx):\n",
    "        if i==0:\n",
    "            continue\n",
    "            \n",
    "        newseg.append({\n",
    "            \"text\": text[idx[i-1]:idx[i]], \n",
    "            \"s\": idx[i-1], \n",
    "            \"t\": idx[i],\n",
    "        })\n",
    "    \n",
    "    o = []\n",
    "    for seg in segments:\n",
    "        ns = []\n",
    "        for s in newseg:\n",
    "            for ref in seg:\n",
    "                if s[\"s\"] >= ref[\"s\"] and  s[\"s\"] < ref[\"t\"]:\n",
    "                    break\n",
    "\n",
    "            ns.append({\n",
    "                \"text\": s[\"text\"], \n",
    "                \"misp\": ref[\"misp\"], \n",
    "                \"int\": ref[\"int\"], \n",
    "                \"s\": s[\"s\"], \n",
    "                \"t\": s[\"t\"],\n",
    "            })\n",
    "        o.append(ns)\n",
    "        \n",
    "    return o\n",
    "\n",
    "mat = []\n",
    "for p1 in range(5):\n",
    "    row = []\n",
    "    for p2 in range(5):\n",
    "        if p2 >= p1:\n",
    "            row.append(0)\n",
    "            continue\n",
    "        \n",
    "        d1 = data[p1]\n",
    "        d2 = data[p2]\n",
    "\n",
    "        d = d1.merge(d2, on=\"data\", how=\"inner\")\n",
    "        s1 = []\n",
    "        s2 = []\n",
    "        for idx, sent in d.iterrows():\n",
    "            seg1 = get_segments(sent[\"data\"], sent[\"label_x\"])\n",
    "            seg2 = get_segments(sent[\"data\"], sent[\"label_y\"])\n",
    "            seg = overlap_segments(sent[\"data\"], [seg1, seg2])\n",
    "            \n",
    "            for s in seg[0]:\n",
    "                if not s[\"misp\"]:\n",
    "                    s1.append(0)\n",
    "                elif s[\"int\"]:\n",
    "                    s1.append(1)\n",
    "                else:\n",
    "                    s1.append(2)\n",
    "                    \n",
    "            for s in seg[1]:\n",
    "                if not s[\"misp\"]:\n",
    "                    s2.append(0)\n",
    "                elif s[\"int\"]:\n",
    "                    s2.append(1)\n",
    "                else:\n",
    "                    s2.append(2)\n",
    "            \n",
    "\n",
    "        row.append(cohen_kappa_score(s1, s2))\n",
    "        print(p1, p2, cohen_kappa_score(s1, s2), (np.array(s1)!=np.array(s2)).sum()*100/len(s1))\n",
    "        \n",
    "    mat.append(row)"
   ]
  },
  {
   "cell_type": "code",
   "execution_count": 15,
   "id": "26d40d98-585e-49e2-a34f-0e7e8e38d97b",
   "metadata": {},
   "outputs": [
    {
     "data": {
      "image/png": "[encoded data removed]",
      "text/plain": [
       "<Figure size 432x288 with 2 Axes>"
      ]
     },
     "metadata": {
      "needs_background": "light"
     },
     "output_type": "display_data"
    }
   ],
   "source": [
    "mask = np.triu(np.ones_like(mat))\n",
    "# # plotting a triangle correlation heatmap\n",
    "dataplot = sb.heatmap(mat, cmap=\"YlGnBu\", annot=True, mask=mask, vmin=0, vmax=1)\n",
    "fig = dataplot.get_figure()\n",
    "# fig.savefig(\"Figures/iaa2.png\")"
   ]
  },
  {
   "cell_type": "code",
   "execution_count": null,
   "id": "9447a181-d8b4-4de0-9620-9d80917b1e47",
   "metadata": {},
   "outputs": [],
   "source": []
  },
  {
   "cell_type": "markdown",
   "id": "163cfee9-f8c2-451e-a9bf-a314a5d6ffe0",
   "metadata": {},
   "source": [
    "# Intention Labelling Entropy across Sentences"
   ]
  },
  {
   "cell_type": "code",
   "execution_count": 16,
   "id": "916ac1b4-16a8-4dcd-9866-23fdf465e1a4",
   "metadata": {},
   "outputs": [],
   "source": [
    "from pythainlp.tokenize import word_tokenize\n",
    "engine = \"deepcut\"\n",
    "# word_tokenize(\"ฉันรักแมว\", engine=engine)"
   ]
  },
  {
   "cell_type": "code",
   "execution_count": 17,
   "id": "dd991570-4d82-4c58-acb4-a288f39f761e",
   "metadata": {},
   "outputs": [],
   "source": [
    "reference = load_jsonl(f\"{DIR}/missplling_train_wisesight_samples.jsonl\")"
   ]
  },
  {
   "cell_type": "code",
   "execution_count": 18,
   "id": "8efb358f-c21b-4053-9000-d0f8ce8853f0",
   "metadata": {},
   "outputs": [],
   "source": [
    "reference = pd.DataFrame(reference)"
   ]
  },
  {
   "cell_type": "code",
   "execution_count": 19,
   "id": "9a3cce93-e8ea-4be1-95bd-9ae35ecbc83b",
   "metadata": {},
   "outputs": [],
   "source": [
    "O = reference\n",
    "for i, d in enumerate(data):\n",
    "    d = d[[\"data\", \"label\"]]\n",
    "    d.columns = [\"text\", f\"misp{i}\"]\n",
    "    O = O.merge(d, on=\"text\", how=\"left\")"
   ]
  },
  {
   "cell_type": "code",
   "execution_count": null,
   "id": "670dcc7d-6d4c-4942-a229-f8292ec419b4",
   "metadata": {},
   "outputs": [],
   "source": []
  },
  {
   "cell_type": "code",
   "execution_count": 20,
   "id": "4d670264-39ca-40e3-810f-2ddc3fe11339",
   "metadata": {},
   "outputs": [
    {
     "name": "stderr",
     "output_type": "stream",
     "text": [
      " 37%|█████████████▌                       | 1097/3000 [00:00<00:00, 5594.69it/s]"
     ]
    },
    {
     "name": "stdout",
     "output_type": "stream",
     "text": [
      "{'text': 'ใร', 'misp': True, 'int': 0.6666666666666666, 's': 52, 't': 54, 'msp': 0.6666666666666666} อีดออกกก ฟังเพลงล้ะมีโฆษณาเอ็มเคชีสซิ๊ดเเซ่บคือเหี้ยใร\n"
     ]
    },
    {
     "name": "stderr",
     "output_type": "stream",
     "text": [
      "100%|█████████████████████████████████████| 3000/3000 [00:00<00:00, 5912.92it/s]"
     ]
    },
    {
     "name": "stdout",
     "output_type": "stream",
     "text": [
      "{'text': 'ใร', 'misp': False, 'int': 0.6666666666666666, 's': 29, 't': 31, 'msp': 0.6666666666666666} มาสด้าฟ้องลูกค้ากลับเพราะเหตุใรไม่รู้ เเต่ฮอนด้าเขาฟ้องเพราะว่ามันไปยืนบนรถในมอเตอร์เอ็กซ์โป ที่ที่เขาขายรถ ไม่ฟ้องก็เเย่ ที่เงียบเพราะไม่ผิดที่ฟ้อง เเต่มาสด้านี่ อืมมม เเก้ไขยังไม่รุอีนํ้าดันเนี่ย เเก้เหอะ\n"
     ]
    },
    {
     "name": "stderr",
     "output_type": "stream",
     "text": [
      "\n"
     ]
    }
   ],
   "source": [
    "import copy\n",
    "from tqdm import tqdm\n",
    "from itertools import groupby\n",
    "\n",
    "def norm_word(word):\n",
    "    groups = [list(s) for _, s in groupby(word)]\n",
    "    ch = []\n",
    "    extraToken = \"\"\n",
    "    for g in groups:\n",
    "        if len(g)>=3:\n",
    "            extraToken = \"<rep>\"\n",
    "        ch.append(g[0])  \n",
    "        \n",
    "    word = \"\".join(ch)+extraToken\n",
    "    return word\n",
    "\n",
    "def tolabel(n):\n",
    "    if n==2:\n",
    "        return \"neg\"\n",
    "    elif n==1:\n",
    "        return \"neu\"\n",
    "    elif n==0:\n",
    "        return \"pos\"\n",
    "    else:\n",
    "        raise(f\"Unknow label: {n}\")\n",
    "        \n",
    "merged = []\n",
    "for idx, row in tqdm(O.iterrows(), total=len(O)):\n",
    "    segs = []\n",
    "    for i in range(5):\n",
    "        if pd.isna([row[f\"misp{i}\"]]).all():\n",
    "            seg = get_segments(row[\"text\"], [])\n",
    "        else:\n",
    "            seg = get_segments(row[\"text\"], row[f\"misp{i}\"])\n",
    "        \n",
    "        segs.append(seg)\n",
    "    \n",
    "#     seg2 = get_segments(sent[\"data\"], sent[\"label_y\"])\n",
    "    o = overlap_segments(row[\"text\"], segs)\n",
    "    tokens = []\n",
    "    # if row[\"text\"]==\"อีดออกกก ฟังเพลงล้ะมีโฆษณาเอ็มเคชีสซิ๊ดเเซ่บคือเหี้ยใร\":\n",
    "    #     print(o)\n",
    "    for i in range(len(o[0])):\n",
    "        s = copy.copy(o[0][i])\n",
    "        \n",
    "        mispProb = 0\n",
    "        intProb = 0\n",
    "        # assert(len(o)==5)\n",
    "        for j in range(len(o)):\n",
    "            if (o[j][i][\"misp\"]):\n",
    "                mispProb += 1/3\n",
    "            \n",
    "            if (o[j][i][\"int\"]):\n",
    "                intProb += 1/3\n",
    "                \n",
    "        assert(mispProb <= 1)\n",
    "        assert(intProb <= 1)\n",
    "        \n",
    "        if (mispProb < 0.5) and (intProb < 0.5):\n",
    "            continue\n",
    "        \n",
    "\n",
    "        s[\"int\"] = intProb\n",
    "        s[\"msp\"] = mispProb\n",
    "        \n",
    "        if s[\"text\"]==\"ใร\":\n",
    "            print(s, row[\"text\"])\n",
    "        # s[\"misp\"] = s[\"text\"]\n",
    "        # del s[\"text\"]\n",
    "        # s[\"int\"] = (intProb > 0.5)\n",
    "        \n",
    "        \n",
    "#         s[\"tokens\"] = word_tokenize(s[\"text\"], engine=engine)\n",
    "        s[\"corr\"] = None\n",
    "        tokens.append(s)\n",
    "\n",
    "    merged.append({\n",
    "        \"text\": row[\"text\"],\n",
    "        \"category\": tolabel(row[\"meta\"][\"category\"]),\n",
    "        \"misp_tokens\": tokens\n",
    "    })\n",
    "    \n",
    "merged = pd.DataFrame(merged)\n",
    "\n",
    "# {\"corr\": \"ไหม\", \"misp\": \"มั้ย\", \"int\": true, \"s\": 67, \"t\": 71}"
   ]
  },
  {
   "cell_type": "code",
   "execution_count": 21,
   "id": "504b0693-a0da-4487-8d46-e55fdffcfa11",
   "metadata": {},
   "outputs": [],
   "source": [
    "tokenized = load_jsonl(f\"{DIR}/../tokenized_train-misp-3000.jsonl\")\n",
    "tokenized = pd.DataFrame(tokenized)"
   ]
  },
  {
   "cell_type": "code",
   "execution_count": 22,
   "id": "5cf5f822-29f9-4bb7-a3ba-262df3380b1a",
   "metadata": {},
   "outputs": [],
   "source": [
    "# merged"
   ]
  },
  {
   "cell_type": "code",
   "execution_count": 23,
   "id": "1f1ac798-7935-4203-b293-140a64a2c04e",
   "metadata": {},
   "outputs": [],
   "source": [
    "# tokenized"
   ]
  },
  {
   "cell_type": "code",
   "execution_count": 24,
   "id": "c68bf981-2934-45ca-a96d-d8e3473a1e01",
   "metadata": {},
   "outputs": [],
   "source": [
    "sents = merged.merge(tokenized[[\"text\", \"segments\"]], on=\"text\")"
   ]
  },
  {
   "cell_type": "code",
   "execution_count": 25,
   "id": "a91eae65-f82e-4b91-bbb6-6c2ecc291f14",
   "metadata": {},
   "outputs": [],
   "source": [
    "from collections import defaultdict\n",
    "\n",
    "cnt = defaultdict(int)\n",
    "cntmsp = defaultdict(list)\n",
    "cntint = defaultdict(list)\n",
    "\n",
    "def cal_entropy(labels):\n",
    "    s = pd.Series(labels)\n",
    "    counts = s.value_counts()\n",
    "    return entropy(counts)\n",
    "\n",
    "for idx, sent in sents.iterrows():\n",
    "    for seg in sent[\"segments\"]:\n",
    "        for w in seg[0]:\n",
    "            cnt[norm_word(w)] += 1\n",
    "            \n",
    "    for m in sent[\"misp_tokens\"]:\n",
    "        norm = norm_word(m[\"text\"])\n",
    "        # cntmsp[norm].append(int(m[\"msp\"] > 0.5))\n",
    "        cntint[norm].append(int(m[\"int\"] > 0.5))\n",
    "        # cntint[norm].append(m[\"int\"])"
   ]
  },
  {
   "cell_type": "code",
   "execution_count": 26,
   "id": "348046cb-7c8f-4eca-95cc-1ca7755b5b34",
   "metadata": {},
   "outputs": [],
   "source": [
    "from scipy.stats import entropy\n",
    "\n",
    "mispconsis = {}\n",
    "for m in cntint:\n",
    "    if (cnt[m] < 5):\n",
    "        continue \n",
    "        \n",
    "    mispconsis[m] = cal_entropy(cntint[m])\n",
    "# mispconsis"
   ]
  },
  {
   "cell_type": "code",
   "execution_count": 51,
   "id": "4c291b87",
   "metadata": {},
   "outputs": [
    {
     "data": {
      "text/plain": [
       "{'ค่า<rep>': 0.0,\n",
       " 'สัด': 0.0,\n",
       " 'แม่ง': 0.0,\n",
       " 'ก้': 0.0,\n",
       " 'ใจ': 0.6365141682948128,\n",
       " 'จิ': 0.0,\n",
       " ' ': 0.25731864054383163,\n",
       " 'น้า<rep>': 0.0,\n",
       " 'กุ': 0.0,\n",
       " 'แร้ว': 0.0,\n",
       " 'ค่ะ': 0.2337916587064593,\n",
       " 'ยุ': 0.0,\n",
       " 'น่ะ': 0.0,\n",
       " 'คะ': 0.47413931305783735,\n",
       " 'แม่': 0.0,\n",
       " 'ง': 0.0,\n",
       " 'ไร้': 0.0,\n",
       " 'คร้าบ': 0.0,\n",
       " 'ใด้': 0.0,\n",
       " 'สัส': 0.0,\n",
       " 'กิน': 0.0,\n",
       " 'เด๋ว': 0.0,\n",
       " 'อยาก<rep>': 0.0,\n",
       " 'กิน<rep>': 0.0,\n",
       " 'อิ': 0.0,\n",
       " 'เรย': 0.0,\n",
       " 'สุข': 0.0,\n",
       " 'ไป<rep>': 0.0,\n",
       " 'มาก<rep>': 0.0,\n",
       " 'หิว<rep>': 0.0,\n",
       " 'คับ': 0.0,\n",
       " 'กะ': 0.0,\n",
       " 'จิง': 0.0,\n",
       " 'ไม': 0.6931471805599453,\n",
       " 'จิงๆ': 0.0,\n",
       " 'ก้อ': 0.0,\n",
       " 'อยาก': 0.0,\n",
       " 'ฮือ<rep>': 0.0,\n",
       " 'มึง': 0.0,\n",
       " 'เปน': 0.0,\n",
       " 'หรา': 0.0,\n",
       " 'ข้อ': 0.0,\n",
       " 'มะ': 0.0,\n",
       " 'เสมอ': 0.0,\n",
       " 'กะทะ': 0.0,\n",
       " 'ด้วย': 0.0,\n",
       " 'ย': 0.0,\n",
       " 'จ้า<rep>': 0.0,\n",
       " 'เฉย': 0.0,\n",
       " 'แล้ว': 0.6365141682948128,\n",
       " 'เทอ': 0.0,\n",
       " 'แล้ว<rep>': 0.0,\n",
       " 'บุหรี': 0.0,\n",
       " 'เลย': 0.0,\n",
       " 'รุ้': 0.410116318288409,\n",
       " 'ตัง': 0.6365141682948128,\n",
       " 'โว้ย': 0.5623351446188083,\n",
       " 'ขาย': 0.0,\n",
       " 'ฟิน': 0.6931471805599453,\n",
       " 'ติด': 0.0,\n",
       " 'เสา': 0.0,\n",
       " 'น๊า': 0.0,\n",
       " 'งับ': 0.0,\n",
       " 'โอ้ย<rep>': 0.0,\n",
       " 'เค้า': 0.20619205063323187,\n",
       " 'มั้ย': 0.0,\n",
       " 'น้า': 0.5623351446188083,\n",
       " 'บาบี': 0.0,\n",
       " 'ก้อน': 0.6365141682948128,\n",
       " 'ค่า': 0.5623351446188083,\n",
       " 'อ่ะ': 0.0,\n",
       " 'เอ้ย': 0.0,\n",
       " 'ไอ': 0.5004024235381879,\n",
       " 'อื่น': 0.0,\n",
       " 'ล่ะ': 0.0,\n",
       " 'เลย<rep>': 0.0,\n",
       " 'อ้ะ': 0.6365141682948128,\n",
       " 'ปะ': 0.0,\n",
       " 'นะ': 0.0,\n",
       " 'หร่อย': 0.6931471805599453,\n",
       " 'อ่า': 0.0,\n",
       " 'หน่อย': 0.0,\n",
       " 'จ้า': 0.0,\n",
       " 'มาก': 0.5623351446188083,\n",
       " 'ๆ': 0.0,\n",
       " 'โอ้ย': 0.0,\n",
       " 'ใช้': 0.0,\n",
       " 'ครัช': 0.0,\n",
       " 'หรือ': 0.0,\n",
       " 'ที': 0.0,\n",
       " 'มื้อ': 0.0,\n",
       " 'ลุก': 0.0,\n",
       " 'เหน': 0.0,\n",
       " 'ขอบ': 0.0,\n",
       " 'ร้อน': 0.0,\n",
       " 'ทิ้ง': 0.0,\n",
       " 'ป่าว': 0.0,\n",
       " 'ได้': 0.0,\n",
       " 'เล้ว': 0.0,\n",
       " 'เอ้า': 0.0,\n",
       " 'ค้า': 0.0,\n",
       " 'อยุ่': 0.0,\n",
       " 'บาง': 0.0,\n",
       " 'ขอ': 0.0,\n",
       " 'รอ': 0.0,\n",
       " 'นิ': 0.0,\n",
       " 'ยอม': 0.0,\n",
       " 'จ่ะ': 0.5623351446188083,\n",
       " 'นึง': 0.6931471805599453,\n",
       " 'วัน': 0.0,\n",
       " 'พัน': 0.0,\n",
       " 'กัน': 0.0,\n",
       " 'หรอ': 0.0,\n",
       " 'งั้น': 0.0,\n",
       " 'แดก': 0.0,\n",
       " 'มด': 0.0,\n",
       " 'ชอบ': 0.0,\n",
       " 'เค': 0.0,\n",
       " 'ข้าว': 0.0,\n",
       " 'ลอง': 0.0,\n",
       " 'ง่ะ': 0.0,\n",
       " 'ชั้น': 0.0,\n",
       " 'ไม่': 0.0,\n",
       " 'มั้ง': 0.0,\n",
       " 'มั่ง': 0.0,\n",
       " 'ขน': 0.0,\n",
       " 'อ่อ': 0.0,\n",
       " 'ท้าย': 0.0,\n",
       " 'ไง': 0.0,\n",
       " 'ไป': 0.0,\n",
       " 'เดียว': 0.0,\n",
       " 'เอง': 0.0,\n",
       " 'ทั่ว': 0.0,\n",
       " 'ก่อน': 0.0}"
      ]
     },
     "execution_count": 51,
     "metadata": {},
     "output_type": "execute_result"
    }
   ],
   "source": [
    "mispconsis"
   ]
  },
  {
   "cell_type": "code",
   "execution_count": 52,
   "id": "16820de3-4113-4332-9e40-7e4c805222c9",
   "metadata": {},
   "outputs": [],
   "source": [
    "values = {k: v for k, v in sorted(mispconsis.items(), key=lambda item: -item[1])}\n",
    "x = []\n",
    "y = []\n",
    "for i, k in enumerate(values):\n",
    "    x.append(k)\n",
    "    y.append(values[k])\n",
    "#     print(k, values[k])\n",
    "#     if i > 10:\n",
    "#         break"
   ]
  },
  {
   "cell_type": "code",
   "execution_count": null,
   "id": "8c9a75f1",
   "metadata": {},
   "outputs": [],
   "source": []
  },
  {
   "cell_type": "code",
   "execution_count": 62,
   "id": "01e6cf85-10a4-4325-ba75-d1902c4463e0",
   "metadata": {},
   "outputs": [],
   "source": [
    "# # import warnings\n",
    "# # warnings.filterwarnings(\"ignore\")\n",
    "\n",
    "# import matplotlib.pyplot as plt\n",
    "# import matplotlib.font_manager as fm\n",
    "\n",
    "# font_dirs = [\"../\"]\n",
    "# font_files = fm.findSystemFonts(fontpaths=font_dirs)\n",
    "# for font_file in font_files:\n",
    "#     fm.fontManager.addfont(font_file)"
   ]
  },
  {
   "cell_type": "code",
   "execution_count": 63,
   "id": "fe90192a-3311-47f3-acd7-09126c0ad0bb",
   "metadata": {},
   "outputs": [],
   "source": [
    "# # set font\n",
    "# import matplotlib.pyplot as plt\n",
    "# plt.rcParams['font.family'] = 'TH Sarabun New'\n",
    "# plt.rcParams['xtick.labelsize'] = 20.0\n",
    "# plt.rcParams['ytick.labelsize'] = 20.0\n",
    "\n",
    "# # mx = len(x)\n",
    "# # plt.ylim(0, 1)\n",
    "# # plt.xticks(rotation=90)\n",
    "# # plt.rcParams[\"figure.figsize\"] = (20,3)\n",
    "# # plt.xticks([], [])\n",
    "# # plt.bar(x[0:mx], y[0:mx])"
   ]
  },
  {
   "cell_type": "code",
   "execution_count": 64,
   "id": "cd258437",
   "metadata": {},
   "outputs": [],
   "source": [
    "# y"
   ]
  },
  {
   "cell_type": "code",
   "execution_count": 66,
   "id": "1499eb84-d496-4402-a1f5-540a137fe0a9",
   "metadata": {},
   "outputs": [
    {
     "data": {
      "image/png": "[encoded data removed]",
      "text/plain": [
       "<Figure size 720x432 with 1 Axes>"
      ]
     },
     "metadata": {
      "needs_background": "light"
     },
     "output_type": "display_data"
    }
   ],
   "source": [
    "plt.rcParams[\"figure.figsize\"] = (10,6)\n",
    "plt.rcParams.update({'font.size': 25})\n",
    "\n",
    "plt.ylabel(\"No. misspelt words\")\n",
    "plt.xlabel(\"Entropy of the annotated labels (intentional/unintentional)\")\n",
    "plt.hist(y, bins=10)\n",
    "plt.savefig('../Figures/int_entropy.png')"
   ]
  },
  {
   "cell_type": "code",
   "execution_count": 34,
   "id": "c94ce2c4-31e7-4314-aad1-6882f8950658",
   "metadata": {},
   "outputs": [],
   "source": [
    "# save_jsonl(merged, f\"{DIR}/train-misp-3000.jsonl\")"
   ]
  },
  {
   "cell_type": "code",
   "execution_count": 35,
   "id": "fdb9b243-0436-4ec0-a6cb-82d1677c87f2",
   "metadata": {},
   "outputs": [],
   "source": [
    "# from collections import defaultdict\n",
    "# labels = defaultdict(int)\n",
    "\n",
    "# for sent in unified:\n",
    "#     labels[sent[\"category\"]] += 1\n",
    "# #     break\n",
    "\n",
    "# labels"
   ]
  },
  {
   "cell_type": "code",
   "execution_count": null,
   "id": "a0aad226-3c47-47c5-8d3d-b7a3c49add28",
   "metadata": {},
   "outputs": [],
   "source": []
  },
  {
   "cell_type": "markdown",
   "id": "3a6808bf-ba16-428b-a488-ed84c3bf9830",
   "metadata": {},
   "source": [
    "# Term Frequency"
   ]
  },
  {
   "cell_type": "code",
   "execution_count": null,
   "id": "dc9f45ca-d525-4064-9a4e-a4da8ae4ad93",
   "metadata": {},
   "outputs": [],
   "source": []
  },
  {
   "cell_type": "code",
   "execution_count": 36,
   "id": "6f4b9774-f96d-4884-bcca-67d4d1610f10",
   "metadata": {},
   "outputs": [],
   "source": [
    "from collections import defaultdict\n",
    "\n",
    "cnt = defaultdict(int)\n",
    "misp = defaultdict(int)\n",
    "\n",
    "for idx, sent in sents.iterrows():\n",
    "    mispFound = False\n",
    "    for seg in sent[\"segments\"]:\n",
    "        for m, c in zip(seg[0], seg[1]):\n",
    "            if m!=c:\n",
    "                mispFound = True\n",
    "                cnt[\"misp\"] += 1\n",
    "                n = norm_word(m)\n",
    "                misp[n] += 1\n",
    "            cnt[\"token\"] += 1\n",
    "            \n",
    "    if mispFound:\n",
    "        cnt[\"sent\"] += 1\n",
    "    # break?"
   ]
  },
  {
   "cell_type": "code",
   "execution_count": 37,
   "id": "7b24feca-e1ad-402a-869c-b6322f9c8f88",
   "metadata": {},
   "outputs": [
    {
     "name": "stdout",
     "output_type": "stream",
     "text": [
      "%Mispelling Sentence: 32.36666666666667 971\n",
      "\n",
      "#Misspelling: 1484\n",
      "%Misspelling: 1.8941376185431478\n",
      "#Unique Misspelling Tokens: 728\n"
     ]
    }
   ],
   "source": [
    "print(\"%Mispelling Sentence:\", cnt[\"sent\"]*100/len(sents), cnt[\"sent\"])\n",
    "\n",
    "print()\n",
    "print(\"#Misspelling:\", cnt[\"misp\"])\n",
    "print(\"%Misspelling:\", cnt[\"misp\"]*100/cnt[\"token\"])\n",
    "print(\"#Unique Misspelling Tokens:\", len(misp))"
   ]
  },
  {
   "cell_type": "code",
   "execution_count": 38,
   "id": "c2524e1d-8c46-4f83-ad6c-54bff1895702",
   "metadata": {},
   "outputs": [],
   "source": [
    "# from transformers import XLMRobertaTokenizerFast\n",
    "# tokenizer = XLMRobertaTokenizerFast.from_pretrained('xlm-roberta-base')\n",
    "\n",
    "# import itertools\n",
    "\n",
    "# cnt[\"misp_sub\"] = 0\n",
    "# cnt[\"corr_sub\"] = 0\n",
    "# unk = tokenizer.convert_tokens_to_ids([\"<unk>\"])[0]\n",
    "# for sent in trainmisp:\n",
    "#     s = [list(zip(seg[0], seg[1])) for seg in sent[\"segments\"]]\n",
    "#     tokens = list(itertools.chain(*s))\n",
    "# #     misptokens = [t[0] for t in tokens]\n",
    "# #     midx = tokenizer.convert_tokens_to_ids(misptokens)\n",
    "# #     for i in range(len(midx)):\n",
    "# #         if midx[i]==unk:\n",
    "# #             t = tokenizer.tokenize(\"_\"+misptokens[i])[1:]\n",
    "# #             cnt[\"misp_sub\"] += len(t)\n",
    "# #         else:\n",
    "# #             cnt[\"misp_sub\"] += 1\n",
    "    \n",
    "#     cnt[\"misp_sub\"] += len(tokens)\n",
    "#     cnt[\"corr_sub\"] += len(tokenizer.tokenize(sent[\"text\"]))\n",
    "#     # break\n",
    "\n",
    "# print(\"%Subtokens Different\", abs(cnt[\"misp_sub\"]-cnt[\"corr_sub\"])*100/cnt[\"corr_sub\"])"
   ]
  },
  {
   "cell_type": "markdown",
   "id": "d194266a-1be3-481d-9c77-772eb11b717c",
   "metadata": {},
   "source": [
    "## Most common misspelling words"
   ]
  },
  {
   "cell_type": "code",
   "execution_count": 39,
   "id": "23d29e44-9f1f-4e03-aec6-3cb316557be5",
   "metadata": {},
   "outputs": [
    {
     "name": "stdout",
     "output_type": "stream",
     "text": [
      "แม่ง 63\n",
      "คับ 62\n",
      "กุ 49\n",
      "สัส 24\n",
      "มาก<rep> 24\n",
      "อิ 23\n",
      "กิน<rep> 19\n",
      "เค้า 19\n",
      "มั้ย 19\n",
      "ก้ 18\n",
      "ก้อ 18\n",
      "ค่ะ 16\n"
     ]
    }
   ],
   "source": [
    "sortedmisp = {k: v for k, v in sorted(misp.items(), key=lambda item: -item[1])}\n",
    "\n",
    "for i, k in enumerate(sortedmisp):\n",
    "    print(k, sortedmisp[k])\n",
    "    if i > 10:\n",
    "        break"
   ]
  },
  {
   "cell_type": "code",
   "execution_count": null,
   "id": "5e690ce8-32e0-4a09-833c-e7573554990e",
   "metadata": {},
   "outputs": [],
   "source": []
  },
  {
   "cell_type": "code",
   "execution_count": 43,
   "id": "7ec78122-e1fe-4358-bb66-3be3b78cee2f",
   "metadata": {},
   "outputs": [
    {
     "data": {
      "image/png": "[encoded data removed]",
      "text/plain": [
       "<Figure size 720x432 with 1 Axes>"
      ]
     },
     "metadata": {
      "needs_background": "light"
     },
     "output_type": "display_data"
    }
   ],
   "source": [
    "x = [x for x in sortedmisp]\n",
    "y = [sortedmisp[k] for k in sortedmisp]\n",
    "\n",
    "mint = [int(np.average(cntint[k]) > 0.5) for k in sortedmisp]\n",
    "c = ['b' if i==1 else 'r' for i in mint]\n",
    "\n",
    "mx = 100\n",
    "# plt.ylim(0, 1.2)\n",
    "# plt.xticks(rotation=90)\n",
    "# plt.rcParams[\"figure.figsize\"] = (20,3)\n",
    "plt.xticks([], [])\n",
    "plt.bar(x[0:mx], y[0:mx], color=c[0:mx])\n",
    "plt.ylabel(\"Frequency\")\n",
    "plt.xlabel(f\"\\nMisspelling terms (top {mx})\")\n",
    "plt.savefig(\"../Figures/tf.png\")\n",
    "\n",
    "\n",
    "# _x = np.array(range(len(x)))\n",
    "# _y = (np.full(len(x), y[0]))/(_x+1) \n",
    "# plt.plot(_x[0:mx], _y[0:mx], \"r\")"
   ]
  },
  {
   "cell_type": "code",
   "execution_count": 243,
   "id": "fadf1394-f6dd-41ad-9626-3ad8d3b0f96e",
   "metadata": {},
   "outputs": [
    {
     "name": "stdout",
     "output_type": "stream",
     "text": [
      "Common mispelling\n",
      "0 แม่ง 63 int\n",
      "1 คับ 62 int\n",
      "2 กุ 49 int\n",
      "3 สัส 24 int\n",
      "4 มาก<rep> 24 int\n",
      "5 อิ 23 int\n",
      "6 กิน<rep> 19 int\n",
      "7 เค้า 19 int\n",
      "8 มั้ย 19 int\n",
      "9 ก้ 18 int\n",
      "10 ก้อ 18 int\n",
      "11 ค่ะ 16 un\n",
      "12   14 int\n",
      "13 เปน 14 int\n",
      "14 คะ 11 un\n",
      "15 จิง 11 int\n",
      "16 จ้า<rep> 11 int\n",
      "17 มะ 9 int\n",
      "18 แร้ว 8 int\n",
      "19 ยุ 8 int\n",
      "20 คร้าบ 8 int\n"
     ]
    }
   ],
   "source": [
    "print(\"Common mispelling\")\n",
    "cc = 0\n",
    "obs = 0\n",
    "for i in range(len(x)):\n",
    "    if cc <= 20:\n",
    "        print(cc, x[i], y[i], 'int' if mint[i]==1 else 'un')\n",
    "    cc += 1\n",
    "    obs += y[i]"
   ]
  },
  {
   "cell_type": "code",
   "execution_count": 240,
   "id": "d76afce8-1694-4c49-b39a-784e286ee021",
   "metadata": {},
   "outputs": [
    {
     "name": "stdout",
     "output_type": "stream",
     "text": [
      "Common intentional mispelling\n",
      "0 แม่ง 63\n",
      "1 คับ 62\n",
      "2 กุ 49\n",
      "3 สัส 24\n",
      "4 มาก<rep> 24\n",
      "5 อิ 23\n",
      "6 กิน<rep> 19\n",
      "7 เค้า 19\n",
      "8 มั้ย 19\n",
      "9 ก้ 18\n",
      "10 ก้อ 18\n",
      "11   14\n",
      "12 เปน 14\n",
      "13 จิง 11\n",
      "14 จ้า<rep> 11\n",
      "15 มะ 9\n",
      "#Intentional Words: 572 1282\n"
     ]
    }
   ],
   "source": [
    "print(\"Common intentional mispelling\")\n",
    "cc = 0\n",
    "obs = 0\n",
    "for i in range(len(x)):\n",
    "    if mint[i]==1:\n",
    "        if cc <= 15:\n",
    "            print(cc, x[i], y[i])\n",
    "        cc += 1\n",
    "        obs += y[i]\n",
    "\n",
    "print(\"#Intentional Words:\", cc, obs)"
   ]
  },
  {
   "cell_type": "code",
   "execution_count": 233,
   "id": "f1a79298-ca9b-4abb-9fe8-e31a6ec026a8",
   "metadata": {},
   "outputs": [
    {
     "name": "stdout",
     "output_type": "stream",
     "text": [
      "Common unintentional mispelling\n",
      "ค่ะ 16\n",
      "คะ 11\n",
      "จ่ะ 4\n",
      "แล้ว 3\n",
      "อ้ะ 3\n",
      "นะค่ะ 2\n",
      "น่ะ 2\n",
      "ไม 2\n",
      "ฟิน 2\n",
      "นะ 2\n",
      "หร่อย 2\n",
      "#Unintentional Words: 156 202\n"
     ]
    }
   ],
   "source": [
    "print(\"Common unintentional mispelling\")\n",
    "cc = 0\n",
    "obs = 0\n",
    "for i in range(len(x)):\n",
    "    if mint[i]!=1:\n",
    "        if cc <= 10:\n",
    "            print(x[i], y[i])\n",
    "        cc += 1\n",
    "        obs += y[i]\n",
    "print(\"#Unintentional Words:\", cc, obs)"
   ]
  },
  {
   "cell_type": "code",
   "execution_count": null,
   "id": "1656a9b8-e8b2-436c-88b3-2bc02bb06e84",
   "metadata": {},
   "outputs": [],
   "source": []
  },
  {
   "cell_type": "markdown",
   "id": "f0ec2dd2-f0ce-4c70-83cf-4935ce980eb7",
   "metadata": {},
   "source": [
    "# Sentiment Class and Misspelling"
   ]
  },
  {
   "cell_type": "code",
   "execution_count": 154,
   "id": "63ed0869-dae6-4105-b3bb-e161a8c38f82",
   "metadata": {},
   "outputs": [
    {
     "name": "stdout",
     "output_type": "stream",
     "text": [
      "neg 382 0.39340885684860966\n",
      "pos 346 0.35633367662203913\n",
      "neu 243 0.25025746652935116\n"
     ]
    }
   ],
   "source": [
    "from collections import defaultdict\n",
    "from itertools import groupby\n",
    "\n",
    "labels = defaultdict(int)\n",
    "for idx, sent in sents.iterrows():\n",
    "    mispFound = False\n",
    "    for seg in sent[\"segments\"]:\n",
    "        for m, c in zip(seg[0], seg[1]):\n",
    "            if m!=c:\n",
    "                mispFound = True\n",
    "    if mispFound:\n",
    "        labels[sent[\"category\"]] += 1\n",
    "\n",
    "for l in labels:\n",
    "    print(l, labels[l], labels[l]/cnt[\"sent\"])"
   ]
  },
  {
   "cell_type": "code",
   "execution_count": null,
   "id": "6e4de2ab-66c2-45af-b357-fa563ea2df5e",
   "metadata": {},
   "outputs": [],
   "source": []
  }
 ],
 "metadata": {
  "kernelspec": {
   "display_name": "Python 3 (ipykernel)",
   "language": "python",
   "name": "python3"
  },
  "language_info": {
   "codemirror_mode": {
    "name": "ipython",
    "version": 3
   },
   "file_extension": ".py",
   "mimetype": "text/x-python",
   "name": "python",
   "nbconvert_exporter": "python",
   "pygments_lexer": "ipython3",
   "version": "3.9.7"
  }
 },
 "nbformat": 4,
 "nbformat_minor": 5
}
