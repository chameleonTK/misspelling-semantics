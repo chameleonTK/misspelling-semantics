{
 "cells": [
  {
   "cell_type": "code",
   "execution_count": 33,
   "metadata": {
    "colab": {
     "base_uri": "https://localhost:8080/"
    },
    "executionInfo": {
     "elapsed": 228,
     "status": "ok",
     "timestamp": 1638403324649,
     "user": {
      "displayName": "Pakawat NAKWIJIT",
      "photoUrl": "https://lh3.googleusercontent.com/a-/AOh14GiquOygeytgA5lxJCtO2dXyXm9wBw5lRlG43yd5=s64",
      "userId": "16398521879664391558"
     },
     "user_tz": 0
    },
    "id": "Xm5ID9-w8lPF",
    "outputId": "9e5cf206-e932-4b6d-dc11-be6950e22f83"
   },
   "outputs": [],
   "source": [
    "# from google.colab import drive\n",
    "# drive.mount('/content/drive')"
   ]
  },
  {
   "cell_type": "code",
   "execution_count": 34,
   "metadata": {
    "colab": {
     "base_uri": "https://localhost:8080/"
    },
    "executionInfo": {
     "elapsed": 2,
     "status": "ok",
     "timestamp": 1638403324976,
     "user": {
      "displayName": "Pakawat NAKWIJIT",
      "photoUrl": "https://lh3.googleusercontent.com/a-/AOh14GiquOygeytgA5lxJCtO2dXyXm9wBw5lRlG43yd5=s64",
      "userId": "16398521879664391558"
     },
     "user_tz": 0
    },
    "id": "Yn_3IlRA8yGI",
    "outputId": "0ed94d63-e10b-4ada-edba-71c0aefaaddf"
   },
   "outputs": [],
   "source": [
    "# cd /content/drive/MyDrive/"
   ]
  },
  {
   "cell_type": "code",
   "execution_count": 35,
   "metadata": {
    "colab": {
     "base_uri": "https://localhost:8080/"
    },
    "executionInfo": {
     "elapsed": 4032,
     "status": "ok",
     "timestamp": 1638403330613,
     "user": {
      "displayName": "Pakawat NAKWIJIT",
      "photoUrl": "https://lh3.googleusercontent.com/a-/AOh14GiquOygeytgA5lxJCtO2dXyXm9wBw5lRlG43yd5=s64",
      "userId": "16398521879664391558"
     },
     "user_tz": 0
    },
    "id": "72RbIPGQ83em",
    "outputId": "df6d70e4-e196-442c-a7d4-55f7013a1c88"
   },
   "outputs": [],
   "source": [
    "# !pip install fastText"
   ]
  },
  {
   "cell_type": "code",
   "execution_count": 36,
   "metadata": {
    "executionInfo": {
     "elapsed": 9,
     "status": "ok",
     "timestamp": 1638403330614,
     "user": {
      "displayName": "Pakawat NAKWIJIT",
      "photoUrl": "https://lh3.googleusercontent.com/a-/AOh14GiquOygeytgA5lxJCtO2dXyXm9wBw5lRlG43yd5=s64",
      "userId": "16398521879664391558"
     },
     "user_tz": 0
    },
    "id": "zvFY4jen9FeH"
   },
   "outputs": [],
   "source": [
    "import fasttext"
   ]
  },
  {
   "cell_type": "code",
   "execution_count": 37,
   "metadata": {
    "executionInfo": {
     "elapsed": 7,
     "status": "ok",
     "timestamp": 1638403330614,
     "user": {
      "displayName": "Pakawat NAKWIJIT",
      "photoUrl": "https://lh3.googleusercontent.com/a-/AOh14GiquOygeytgA5lxJCtO2dXyXm9wBw5lRlG43yd5=s64",
      "userId": "16398521879664391558"
     },
     "user_tz": 0
    },
    "id": "sJ8dxM-B9m2Y"
   },
   "outputs": [],
   "source": [
    "import json\n",
    "import pandas as pd\n",
    "\n",
    "def load_jsonl(fname):\n",
    "    fin = open(fname, encoding=\"utf-8\")\n",
    "    data = []\n",
    "    for line in fin:\n",
    "        d = json.loads(line.strip())\n",
    "        data.append(d)\n",
    "\n",
    "    return data\n",
    "\n",
    "def save_jsonl(data, filename):\n",
    "    with open(filename, \"w\", encoding=\"utf-8\") as fo:\n",
    "        for idx, d in enumerate(data):\n",
    "            fo.write(json.dumps(d, ensure_ascii=False))\n",
    "            fo.write(\"\\n\")"
   ]
  },
  {
   "cell_type": "code",
   "execution_count": 38,
   "metadata": {
    "executionInfo": {
     "elapsed": 9,
     "status": "ok",
     "timestamp": 1638403330616,
     "user": {
      "displayName": "Pakawat NAKWIJIT",
      "photoUrl": "https://lh3.googleusercontent.com/a-/AOh14GiquOygeytgA5lxJCtO2dXyXm9wBw5lRlG43yd5=s64",
      "userId": "16398521879664391558"
     },
     "user_tz": 0
    },
    "id": "Lfa6bJQWUbhb"
   },
   "outputs": [],
   "source": [
    "from itertools import groupby\n",
    "\n",
    "def norm_word(word):\n",
    "    groups = [list(s) for _, s in groupby(word)]\n",
    "    ch = []\n",
    "    extraToken = \"\"\n",
    "    for g in groups:\n",
    "        if len(g)>=3:\n",
    "            \n",
    "            if g[0]==\"5\":\n",
    "              extraToken = \"<lol>\"\n",
    "            else:\n",
    "              extraToken = \"<rep>\"\n",
    "            ch.append(g[0])  \n",
    "        else:\n",
    "            ch += g\n",
    "    word = \"\".join(ch)+extraToken\n",
    "    return word"
   ]
  },
  {
   "cell_type": "code",
   "execution_count": 39,
   "metadata": {
    "executionInfo": {
     "elapsed": 227,
     "status": "ok",
     "timestamp": 1638403338275,
     "user": {
      "displayName": "Pakawat NAKWIJIT",
      "photoUrl": "https://lh3.googleusercontent.com/a-/AOh14GiquOygeytgA5lxJCtO2dXyXm9wBw5lRlG43yd5=s64",
      "userId": "16398521879664391558"
     },
     "user_tz": 0
    },
    "id": "9-hDw8TeUbqV"
   },
   "outputs": [],
   "source": [
    "DIR = \"Datasets/\"\n",
    "MD = load_jsonl(f\"{DIR}/../train_mispelling_dection.jsonl\")[0]"
   ]
  },
  {
   "cell_type": "code",
   "execution_count": null,
   "metadata": {
    "executionInfo": {
     "elapsed": 280,
     "status": "ok",
     "timestamp": 1638403340293,
     "user": {
      "displayName": "Pakawat NAKWIJIT",
      "photoUrl": "https://lh3.googleusercontent.com/a-/AOh14GiquOygeytgA5lxJCtO2dXyXm9wBw5lRlG43yd5=s64",
      "userId": "16398521879664391558"
     },
     "user_tz": 0
    },
    "id": "PHGpr3DhUotM"
   },
   "outputs": [],
   "source": []
  },
  {
   "cell_type": "markdown",
   "metadata": {
    "id": "J6g-ugA-URha"
   },
   "source": [
    "### VISTEC-TP-TH-2021"
   ]
  },
  {
   "cell_type": "code",
   "execution_count": 40,
   "metadata": {
    "colab": {
     "base_uri": "https://localhost:8080/"
    },
    "executionInfo": {
     "elapsed": 26783,
     "status": "ok",
     "timestamp": 1638402453420,
     "user": {
      "displayName": "Pakawat NAKWIJIT",
      "photoUrl": "https://lh3.googleusercontent.com/a-/AOh14GiquOygeytgA5lxJCtO2dXyXm9wBw5lRlG43yd5=s64",
      "userId": "16398521879664391558"
     },
     "user_tz": 0
    },
    "id": "nZsAbIeH9XsX",
    "outputId": "028a2cc2-0c75-4de7-b91e-22416d85b978"
   },
   "outputs": [
    {
     "name": "stderr",
     "output_type": "stream",
     "text": [
      "100%|██████████| 40000/40000 [00:13<00:00, 3016.19it/s]"
     ]
    },
    {
     "name": "stdout",
     "output_type": "stream",
     "text": [
      "\n",
      "#Tokens: 2697642\n",
      "#Misspelling Tokens: 130779\n",
      "#Misspelling Tokens[Skip]: 33418 25.553032214652198\n"
     ]
    },
    {
     "name": "stderr",
     "output_type": "stream",
     "text": [
      "\n"
     ]
    }
   ],
   "source": [
    "from bs4 import BeautifulSoup\n",
    "from tqdm import tqdm\n",
    "\n",
    "sent = []\n",
    "\n",
    "def ignore(m, c):\n",
    "  if c.endswith(\" ๆ\"):\n",
    "    return True\n",
    "\n",
    "  if m.replace(\" \", \"\")==c.replace(\" \", \"\"):\n",
    "    return True\n",
    "\n",
    "  if (\"ฯ\" in c) and (m not in [\"ๆลๆ\", \"พณฯท่าน\", \"ฯล\"]):\n",
    "    return True\n",
    "\n",
    "  if (\".\" in m) or (\".\" in c):\n",
    "    return True\n",
    "  \n",
    "  return False\n",
    "\n",
    "def process_dom(dom):\n",
    "  tokens = []\n",
    "  cntMisp, cntIgnored = 0, 0\n",
    "  if dom.name is None:\n",
    "    words = str(dom).split(\"|\")\n",
    "    for w in words:\n",
    "      w = w.strip()\n",
    "      if len(w)==0:\n",
    "        continue\n",
    "      tokens.append((w, w))\n",
    "  elif dom.name==\"ne\":\n",
    "    words = dom.text.strip().split(\"|\")\n",
    "    for w in words:\n",
    "      w = w.strip()\n",
    "      if len(w)==0:\n",
    "        continue\n",
    "      tokens.append((w, w))\n",
    "\n",
    "  elif dom.name==\"msp\":\n",
    "    m = dom.text.replace(\"|\", \"\").strip()\n",
    "    c = dom[\"value\"].strip()\n",
    "    # assert(\"|\" not in m)\n",
    "\n",
    "    cntMisp += 1\n",
    "    if ignore(m, c):\n",
    "      tokens.append((m, m))\n",
    "      cntIgnored += 1\n",
    "    else:\n",
    "      tokens.append((m, c))\n",
    "      mispTokens.add((m, c))\n",
    "  elif dom.name==\"compound\":\n",
    "    for child in dom.children:\n",
    "      tkn, cms, cig = process_dom(child)\n",
    "      tokens += tkn\n",
    "      cntMisp += cms\n",
    "      cntIgnored += cig\n",
    "  else:\n",
    "    print(dom)\n",
    "    raise(f\"Unknown Tag: {dom.name}\")\n",
    "\n",
    "  return tokens, cntMisp, cntIgnored\n",
    "\n",
    "\n",
    "mispTokens = set()\n",
    "cntIgnored = 0\n",
    "cntMisp = 0\n",
    "cntToken = 0\n",
    "with open(f\"{DIR}/VISTEC-TP-TH-2021/train/VISTEC-TP-TH-2021_train_proprocessed.txt\", encoding=\"utf-8\") as fin:\n",
    "  for line in tqdm(fin, total=40000):\n",
    "    line = line.strip()\n",
    "    s = BeautifulSoup(\"<div id='text'>\"+line+\"</div>\")\n",
    "    tokens = []\n",
    "    for dom in s.find(\"div\", {\"id\": \"text\"}).children:\n",
    "      tkn, cms, cig = process_dom(dom)\n",
    "      tokens += tkn\n",
    "      cntMisp += cms\n",
    "      cntIgnored += cig\n",
    "\n",
    "      cntToken += len(tkn)\n",
    "        \n",
    "    sent.append(tokens)\n",
    "    # misp.append(\" \".join([t[0] for t in tokens]))\n",
    "    # corr.append(\" \".join([t[1] for t in tokens]))\n",
    "\n",
    "print()\n",
    "print(\"#Tokens:\", cntToken)\n",
    "print(\"#Misspelling Tokens:\", cntMisp)\n",
    "print(\"#Misspelling Tokens[Skip]:\", cntIgnored, cntIgnored*100/cntMisp)\n"
   ]
  },
  {
   "cell_type": "code",
   "execution_count": 41,
   "metadata": {
    "executionInfo": {
     "elapsed": 1525,
     "status": "ok",
     "timestamp": 1638402454935,
     "user": {
      "displayName": "Pakawat NAKWIJIT",
      "photoUrl": "https://lh3.googleusercontent.com/a-/AOh14GiquOygeytgA5lxJCtO2dXyXm9wBw5lRlG43yd5=s64",
      "userId": "16398521879664391558"
     },
     "user_tz": 0
    },
    "id": "Ihf2_lzYBVrD"
   },
   "outputs": [],
   "source": [
    "with open(f\"{DIR}/misp_VISTEC-TP-TH-2021_fasttext_training.txt\", \"w\", encoding=\"utf-8\") as fout:\n",
    "    for tokens in sent:\n",
    "      s = \" \".join([t[0] for t in tokens])\n",
    "      fout.write(s+\"\\n\")\n",
    "\n",
    "with open(f\"{DIR}/corr_VISTEC-TP-TH-2021_fasttext_training.txt\", \"w\", encoding=\"utf-8\") as fout:\n",
    "    for tokens in sent:\n",
    "      s = \" \".join([t[1] for t in tokens])\n",
    "      fout.write(s+\"\\n\")"
   ]
  },
  {
   "cell_type": "code",
   "execution_count": 42,
   "metadata": {
    "executionInfo": {
     "elapsed": 1884,
     "status": "ok",
     "timestamp": 1638402456817,
     "user": {
      "displayName": "Pakawat NAKWIJIT",
      "photoUrl": "https://lh3.googleusercontent.com/a-/AOh14GiquOygeytgA5lxJCtO2dXyXm9wBw5lRlG43yd5=s64",
      "userId": "16398521879664391558"
     },
     "user_tz": 0
    },
    "id": "tpvW6SytyxlU"
   },
   "outputs": [],
   "source": [
    "with open(f\"{DIR}/MST_VISTEC-TP-TH-2021_fasttext_training.txt\", \"w\", encoding=\"utf-8\") as fout:\n",
    "    cnt = 0\n",
    "    for tokens in sent:\n",
    "      s = []\n",
    "      for t in tokens:\n",
    "        if t[1]!=t[0]:\n",
    "          s.append(t[0])\n",
    "          \n",
    "          w = norm_word(t[0])\n",
    "          if \"<lol>\" in w:\n",
    "            s.append(\"<lol>\")\n",
    "          elif \"<rep>\" in w:\n",
    "            s.append(\"<rep>\")\n",
    "          else:\n",
    "            if w in MD:\n",
    "              corr, mint = MD[w]\n",
    "              if mint:\n",
    "                s.append(\"<int>\")\n",
    "              else:\n",
    "                s.append(\"<msp>\")\n",
    "            else:\n",
    "              s.append(\"<msp>\")\n",
    "        else:\n",
    "          s.append(t[0])\n",
    "      # break\n",
    "      s = \" \".join(s)\n",
    "      \n",
    "      fout.write(s+\"\\n\")"
   ]
  },
  {
   "cell_type": "code",
   "execution_count": null,
   "metadata": {
    "executionInfo": {
     "elapsed": 187,
     "status": "ok",
     "timestamp": 1638402476719,
     "user": {
      "displayName": "Pakawat NAKWIJIT",
      "photoUrl": "https://lh3.googleusercontent.com/a-/AOh14GiquOygeytgA5lxJCtO2dXyXm9wBw5lRlG43yd5=s64",
      "userId": "16398521879664391558"
     },
     "user_tz": 0
    },
    "id": "8J5M2JFbU3c-"
   },
   "outputs": [],
   "source": []
  },
  {
   "cell_type": "code",
   "execution_count": null,
   "metadata": {
    "executionInfo": {
     "elapsed": 1,
     "status": "ok",
     "timestamp": 1638402496681,
     "user": {
      "displayName": "Pakawat NAKWIJIT",
      "photoUrl": "https://lh3.googleusercontent.com/a-/AOh14GiquOygeytgA5lxJCtO2dXyXm9wBw5lRlG43yd5=s64",
      "userId": "16398521879664391558"
     },
     "user_tz": 0
    },
    "id": "6g0drBiYU3rj"
   },
   "outputs": [],
   "source": []
  },
  {
   "cell_type": "markdown",
   "metadata": {
    "id": "gIQEyiRfU3zt"
   },
   "source": [
    "### Wisesight Train"
   ]
  },
  {
   "cell_type": "code",
   "execution_count": 46,
   "metadata": {
    "executionInfo": {
     "elapsed": 581,
     "status": "ok",
     "timestamp": 1638402390827,
     "user": {
      "displayName": "Pakawat NAKWIJIT",
      "photoUrl": "https://lh3.googleusercontent.com/a-/AOh14GiquOygeytgA5lxJCtO2dXyXm9wBw5lRlG43yd5=s64",
      "userId": "16398521879664391558"
     },
     "user_tz": 0
    },
    "id": "X8HYeAehU7ZG"
   },
   "outputs": [],
   "source": [
    "wisesight = load_jsonl(f\"{DIR}/WisesightSentiment/tokenized_train.jsonl\")"
   ]
  },
  {
   "cell_type": "code",
   "execution_count": 48,
   "metadata": {
    "executionInfo": {
     "elapsed": 2373,
     "status": "ok",
     "timestamp": 1638402393199,
     "user": {
      "displayName": "Pakawat NAKWIJIT",
      "photoUrl": "https://lh3.googleusercontent.com/a-/AOh14GiquOygeytgA5lxJCtO2dXyXm9wBw5lRlG43yd5=s64",
      "userId": "16398521879664391558"
     },
     "user_tz": 0
    },
    "id": "kLrzY_oiU7cA"
   },
   "outputs": [
    {
     "name": "stdout",
     "output_type": "stream",
     "text": [
      "\n",
      "#Tokens: 608957\n",
      "#Misspelling Tokens: 32419 5.323692805895983\n"
     ]
    }
   ],
   "source": [
    "with open(f\"{DIR}/wisesight_train_fasttext_training.txt\", \"w\", encoding=\"utf-8\") as fout:\n",
    "    for sent in wisesight:\n",
    "      s = \" \".join(sent[\"tokenized\"])\n",
    "      fout.write(s+\"\\n\")\n",
    "\n",
    "cntToken = 0\n",
    "cntMisp = 0\n",
    "with open(f\"{DIR}/MST_wisesight_train_fasttext_training.txt\", \"w\", encoding=\"utf-8\") as fout:\n",
    "    for sent in wisesight:\n",
    "      s = []\n",
    "      for t in sent[\"tokenized\"]:\n",
    "        s.append(t)\n",
    "        w = norm_word(t)\n",
    "        cntToken += 1\n",
    "        \n",
    "        if \"<lol>\" in w:\n",
    "          s.append(\"<lol>\")\n",
    "          cntMisp += 1 \n",
    "        elif \"<rep>\" in w:\n",
    "          s.append(\"<rep>\")\n",
    "          cntMisp += 1\n",
    "        else:\n",
    "          if w in MD:\n",
    "            corr, mint = MD[w]\n",
    "            if mint:\n",
    "              s.append(\"<int>\")\n",
    "            else:\n",
    "              s.append(\"<msp>\")\n",
    "            \n",
    "            cntMisp += 1\n",
    "\n",
    "      s = \" \".join(s)\n",
    "      # if \"<lol>\" in s:\n",
    "      #   print(s)\n",
    "      #   break\n",
    "      fout.write(s+\"\\n\")\n",
    "\n",
    "print()\n",
    "print(\"#Tokens:\", cntToken)\n",
    "print(\"#Misspelling Tokens:\", cntMisp, cntMisp*100/cntToken)"
   ]
  },
  {
   "cell_type": "code",
   "execution_count": null,
   "metadata": {},
   "outputs": [],
   "source": []
  },
  {
   "cell_type": "markdown",
   "metadata": {
    "id": "8iXT966EUFUZ"
   },
   "source": [
    "# Train FastText"
   ]
  },
  {
   "cell_type": "code",
   "execution_count": 52,
   "metadata": {
    "colab": {
     "base_uri": "https://localhost:8080/"
    },
    "executionInfo": {
     "elapsed": 221,
     "status": "ok",
     "timestamp": 1638403355557,
     "user": {
      "displayName": "Pakawat NAKWIJIT",
      "photoUrl": "https://lh3.googleusercontent.com/a-/AOh14GiquOygeytgA5lxJCtO2dXyXm9wBw5lRlG43yd5=s64",
      "userId": "16398521879664391558"
     },
     "user_tz": 0
    },
    "id": "s6i2P-AkZmdr",
    "outputId": "59fbe0b4-42d4-4839-e419-4c40fe49316d"
   },
   "outputs": [
    {
     "name": "stdout",
     "output_type": "stream",
     "text": [
      "Datasets/corr_VISTEC-TP-TH-2021_fasttext_training.txt\n",
      "Datasets/misp_VISTEC-TP-TH-2021_fasttext_training.txt\n",
      "Datasets/MST_VISTEC-TP-TH-2021_fasttext_training.txt\n",
      "Datasets/MST_wisesight_train_fasttext_training.txt\n",
      "Datasets/wisesight_train_fasttext_training.txt\n"
     ]
    }
   ],
   "source": [
    "ls Datasets/*_fasttext_training.txt"
   ]
  },
  {
   "cell_type": "code",
   "execution_count": 53,
   "metadata": {
    "id": "h_f7t93WiSNJ"
   },
   "outputs": [],
   "source": [
    "# unsupervised_default = {\n",
    "#     'model': \"skipgram\",\n",
    "#     'lr': 0.05,\n",
    "#     'dim': 100,\n",
    "#     'ws': 5,\n",
    "#     'epoch': 5,\n",
    "#     'minCount': 5,\n",
    "#     'minCountLabel': 0,\n",
    "#     'minn': 3,\n",
    "#     'maxn': 6,\n",
    "#     'neg': 5,\n",
    "#     'wordNgrams': 1,\n",
    "#     'loss': \"ns\",\n",
    "#     'bucket': 2000000,\n",
    "#     'thread': multiprocessing.cpu_count() - 1,\n",
    "#     'lrUpdateRate': 100,\n",
    "#     't': 1e-4,\n",
    "#     'label': \"__label__\",\n",
    "#     'verbose': 2,\n",
    "#     'pretrainedVectors': \"\",\n",
    "#     'seed': 0,\n",
    "#     'autotuneValidationFile': \"\",\n",
    "#     'autotuneMetric': \"f1\",\n",
    "#     'autotunePredictions': 1,\n",
    "#     'autotuneDuration': 60 * 5,  # 5 minutes\n",
    "#     'autotuneModelSize': \"\"\n",
    "# }"
   ]
  },
  {
   "cell_type": "code",
   "execution_count": 21,
   "metadata": {
    "colab": {
     "base_uri": "https://localhost:8080/"
    },
    "executionInfo": {
     "elapsed": 166779,
     "status": "ok",
     "timestamp": 1638405072926,
     "user": {
      "displayName": "Pakawat NAKWIJIT",
      "photoUrl": "https://lh3.googleusercontent.com/a-/AOh14GiquOygeytgA5lxJCtO2dXyXm9wBw5lRlG43yd5=s64",
      "userId": "16398521879664391558"
     },
     "user_tz": 0
    },
    "id": "XOVsgkJQBdnb",
    "outputId": "8d7e49db-d582-45e1-bbbb-0fe062a46e67"
   },
   "outputs": [
    {
     "name": "stdout",
     "output_type": "stream",
     "text": [
      "(0.835712194442749, 'หมา')\n",
      "(0.7926109433174133, 'แมพ')\n",
      "(0.7894583344459534, 'ขี้หมา')\n",
      "(0.7862657308578491, 'ลูกอม')\n",
      "(0.7862566709518433, 'แมค')\n",
      "(0.7780048251152039, 'ลูกหมา')\n",
      "(0.7735149264335632, 'ขี้อ้อน')\n",
      "(0.772652804851532, 'เจ้าก้อน')\n",
      "(0.7717746496200562, 'แมะ')\n",
      "(0.7669620513916016, 'ลูกหมู')\n"
     ]
    }
   ],
   "source": [
    "trainingDataFile = f\"{DIR}/misp_VISTEC-TP-TH-2021_fasttext_training.txt\"\n",
    "model = fasttext.train_unsupervised(trainingDataFile, \"cbow\", neg=10)\n",
    "for vec in model.get_nearest_neighbors(\"แมว\"):\n",
    "  print(vec)\n",
    "model.save_model(f\"{DIR}/../Models/fasttext_misp_VISTEC-TP-TH-2021.bin\")"
   ]
  },
  {
   "cell_type": "code",
   "execution_count": 12,
   "metadata": {
    "executionInfo": {
     "elapsed": 40,
     "status": "ok",
     "timestamp": 1638403627845,
     "user": {
      "displayName": "Pakawat NAKWIJIT",
      "photoUrl": "https://lh3.googleusercontent.com/a-/AOh14GiquOygeytgA5lxJCtO2dXyXm9wBw5lRlG43yd5=s64",
      "userId": "16398521879664391558"
     },
     "user_tz": 0
    },
    "id": "0gadOnNKcOi1"
   },
   "outputs": [],
   "source": []
  },
  {
   "cell_type": "code",
   "execution_count": 22,
   "metadata": {
    "colab": {
     "base_uri": "https://localhost:8080/"
    },
    "executionInfo": {
     "elapsed": 166350,
     "status": "ok",
     "timestamp": 1638405239242,
     "user": {
      "displayName": "Pakawat NAKWIJIT",
      "photoUrl": "https://lh3.googleusercontent.com/a-/AOh14GiquOygeytgA5lxJCtO2dXyXm9wBw5lRlG43yd5=s64",
      "userId": "16398521879664391558"
     },
     "user_tz": 0
    },
    "id": "n7BRBkE4Cdm3",
    "outputId": "f3e13063-f503-4cfb-f271-0a72db8ceb61"
   },
   "outputs": [
    {
     "name": "stdout",
     "output_type": "stream",
     "text": [
      "(0.8388424515724182, 'หมา')\n",
      "(0.7980322241783142, 'แมป')\n",
      "(0.7958469390869141, 'ลูกอม')\n",
      "(0.7854677438735962, 'เมี้ยว')\n",
      "(0.7816352248191833, 'แม็ค')\n",
      "(0.7790215015411377, 'ขี้หมา')\n",
      "(0.7773597836494446, 'ขี้อ้อน')\n",
      "(0.7754426002502441, 'แมะ')\n",
      "(0.7616896629333496, 'แม่เลี้ยง')\n",
      "(0.7584441304206848, 'แม็ป')\n"
     ]
    }
   ],
   "source": [
    "trainingDataFile = f\"{DIR}/corr_VISTEC-TP-TH-2021_fasttext_training.txt\"\n",
    "model = fasttext.train_unsupervised(trainingDataFile, \"cbow\", neg=10)\n",
    "for vec in model.get_nearest_neighbors(\"แมว\"):\n",
    "  print(vec)\n",
    "model.save_model(f\"{DIR}/../Models/fasttext_corr_VISTEC-TP-TH-2021.bin\")"
   ]
  },
  {
   "cell_type": "code",
   "execution_count": 23,
   "metadata": {
    "colab": {
     "base_uri": "https://localhost:8080/"
    },
    "executionInfo": {
     "elapsed": 172088,
     "status": "ok",
     "timestamp": 1638405411295,
     "user": {
      "displayName": "Pakawat NAKWIJIT",
      "photoUrl": "https://lh3.googleusercontent.com/a-/AOh14GiquOygeytgA5lxJCtO2dXyXm9wBw5lRlG43yd5=s64",
      "userId": "16398521879664391558"
     },
     "user_tz": 0
    },
    "id": "mG37lIhiY915",
    "outputId": "c285846a-7cf1-4c37-9cb8-e02129504325"
   },
   "outputs": [
    {
     "name": "stdout",
     "output_type": "stream",
     "text": [
      "(0.8335064649581909, 'หมา')\n",
      "(0.8030588030815125, 'ขี้หมา')\n",
      "(0.8010830879211426, 'แมะ')\n",
      "(0.7994157671928406, 'หมี')\n",
      "(0.7897553443908691, 'ลูกอม')\n",
      "(0.7893834114074707, 'แมค')\n",
      "(0.7860163450241089, 'เปรี้ยง')\n",
      "(0.7833449244499207, 'ลูกหมู')\n",
      "(0.7804890871047974, 'แมพ')\n",
      "(0.779085099697113, 'ลูกหมา')\n"
     ]
    }
   ],
   "source": [
    "trainingDataFile = f\"{DIR}/MST_VISTEC-TP-TH-2021_fasttext_training.txt\"\n",
    "model = fasttext.train_unsupervised(trainingDataFile, \"cbow\", neg=10)\n",
    "for vec in model.get_nearest_neighbors(\"แมว\"):\n",
    "  print(vec)\n",
    "model.save_model(f\"{DIR}/../Models/fasttext_MST_VISTEC-TP-TH-2021.bin\")"
   ]
  },
  {
   "cell_type": "code",
   "execution_count": 14,
   "metadata": {
    "executionInfo": {
     "elapsed": 30,
     "status": "ok",
     "timestamp": 1638404130242,
     "user": {
      "displayName": "Pakawat NAKWIJIT",
      "photoUrl": "https://lh3.googleusercontent.com/a-/AOh14GiquOygeytgA5lxJCtO2dXyXm9wBw5lRlG43yd5=s64",
      "userId": "16398521879664391558"
     },
     "user_tz": 0
    },
    "id": "Kl1dF0YQaZ3J"
   },
   "outputs": [],
   "source": []
  },
  {
   "cell_type": "code",
   "execution_count": 24,
   "metadata": {
    "colab": {
     "base_uri": "https://localhost:8080/"
    },
    "executionInfo": {
     "elapsed": 33798,
     "status": "ok",
     "timestamp": 1638405445084,
     "user": {
      "displayName": "Pakawat NAKWIJIT",
      "photoUrl": "https://lh3.googleusercontent.com/a-/AOh14GiquOygeytgA5lxJCtO2dXyXm9wBw5lRlG43yd5=s64",
      "userId": "16398521879664391558"
     },
     "user_tz": 0
    },
    "id": "kdWGNdgbae0a",
    "outputId": "b3861319-6012-401b-dfa9-19c6a4ec7299"
   },
   "outputs": [
    {
     "name": "stdout",
     "output_type": "stream",
     "text": [
      "(0.9966371059417725, 'แมก')\n",
      "(0.9943579435348511, 'ผี')\n",
      "(0.9921287298202515, 'แม๊ก')\n",
      "(0.9912964701652527, 'ตืด')\n",
      "(0.9906294941902161, 'ศพ')\n",
      "(0.989380955696106, 'พ่อแม่')\n",
      "(0.9886942505836487, 'ดิบ')\n",
      "(0.9884825348854065, 'ตีน')\n",
      "(0.9882953763008118, 'เเพ้')\n",
      "(0.9879016876220703, 'ไก่')\n"
     ]
    }
   ],
   "source": [
    "trainingDataFile = f\"{DIR}/wisesight_train_fasttext_training.txt\"\n",
    "model = fasttext.train_unsupervised(trainingDataFile, \"cbow\", neg=10)\n",
    "for vec in model.get_nearest_neighbors(\"แมว\"):\n",
    "  print(vec)\n",
    "model.save_model(f\"{DIR}/../Models/fasttext_wisesight_train.bin\")"
   ]
  },
  {
   "cell_type": "code",
   "execution_count": 25,
   "metadata": {
    "colab": {
     "base_uri": "https://localhost:8080/"
    },
    "executionInfo": {
     "elapsed": 32872,
     "status": "ok",
     "timestamp": 1638405477921,
     "user": {
      "displayName": "Pakawat NAKWIJIT",
      "photoUrl": "https://lh3.googleusercontent.com/a-/AOh14GiquOygeytgA5lxJCtO2dXyXm9wBw5lRlG43yd5=s64",
      "userId": "16398521879664391558"
     },
     "user_tz": 0
    },
    "id": "H2kMh7ugaau7",
    "outputId": "17302bcc-df24-437e-fa8d-285256b8617d"
   },
   "outputs": [
    {
     "name": "stdout",
     "output_type": "stream",
     "text": [
      "(0.9908960461616516, 'ขำ')\n",
      "(0.9903230667114258, 'ตืด')\n",
      "(0.9897900223731995, 'แมก')\n",
      "(0.9892303943634033, 'ยิบ')\n",
      "(0.9887956976890564, 'จิ')\n",
      "(0.987443745136261, 'ผี')\n",
      "(0.9874346256256104, 'แหม')\n",
      "(0.987338125705719, 'ดิบ')\n",
      "(0.9873113632202148, 'เคี้ยว')\n",
      "(0.986656904220581, 'ไก่')\n"
     ]
    }
   ],
   "source": [
    "trainingDataFile = f\"{DIR}/MST_wisesight_train_fasttext_training.txt\"\n",
    "model = fasttext.train_unsupervised(trainingDataFile, \"cbow\", neg=10)\n",
    "for vec in model.get_nearest_neighbors(\"แมว\"):\n",
    "  print(vec)\n",
    "model.save_model(f\"{DIR}/../Models/fasttext_MST_wisesight_train.bin\")"
   ]
  },
  {
   "cell_type": "code",
   "execution_count": 26,
   "metadata": {
    "colab": {
     "base_uri": "https://localhost:8080/"
    },
    "executionInfo": {
     "elapsed": 40,
     "status": "ok",
     "timestamp": 1638405477922,
     "user": {
      "displayName": "Pakawat NAKWIJIT",
      "photoUrl": "https://lh3.googleusercontent.com/a-/AOh14GiquOygeytgA5lxJCtO2dXyXm9wBw5lRlG43yd5=s64",
      "userId": "16398521879664391558"
     },
     "user_tz": 0
    },
    "id": "6qBjFzUWaax0",
    "outputId": "5523acd9-b7d0-4498-9d74-895f41274d7a"
   },
   "outputs": [
    {
     "data": {
      "text/plain": [
       "100"
      ]
     },
     "execution_count": 26,
     "metadata": {},
     "output_type": "execute_result"
    }
   ],
   "source": [
    "model[\"แมว\"].size"
   ]
  },
  {
   "cell_type": "code",
   "execution_count": null,
   "metadata": {
    "id": "tUrD6tvQhAUS"
   },
   "outputs": [],
   "source": []
  }
 ],
 "metadata": {
  "colab": {
   "authorship_tag": "ABX9TyM7+x+7UscXtlDGAoPpHXCq",
   "collapsed_sections": [],
   "name": "Train FastText.ipynb",
   "provenance": []
  },
  "kernelspec": {
   "display_name": "Python 3 (ipykernel)",
   "language": "python",
   "name": "python3"
  },
  "language_info": {
   "codemirror_mode": {
    "name": "ipython",
    "version": 3
   },
   "file_extension": ".py",
   "mimetype": "text/x-python",
   "name": "python",
   "nbconvert_exporter": "python",
   "pygments_lexer": "ipython3",
   "version": "3.8.10"
  }
 },
 "nbformat": 4,
 "nbformat_minor": 4
}
