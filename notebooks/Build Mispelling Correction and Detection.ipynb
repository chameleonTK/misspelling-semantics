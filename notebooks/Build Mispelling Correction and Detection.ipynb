{
 "cells": [
  {
   "cell_type": "code",
   "execution_count": 1,
   "id": "e8a61be8-f258-4b64-9caa-48e71284f7cb",
   "metadata": {},
   "outputs": [],
   "source": [
    "import json\n",
    "import pandas as pd\n"
   ]
  },
  {
   "cell_type": "code",
   "execution_count": 2,
   "id": "c0783278-6ad1-477a-8a6e-f745232abe12",
   "metadata": {},
   "outputs": [],
   "source": [
    "def load_jsonl(fname):\n",
    "    fin = open(fname, encoding=\"utf-8\")\n",
    "    data = []\n",
    "    for line in fin:\n",
    "        d = json.loads(line.strip())\n",
    "        data.append(d)\n",
    "\n",
    "    return data\n",
    "\n",
    "def save_jsonl(data, filename):\n",
    "    with open(filename, \"w\", encoding=\"utf-8\") as fo:\n",
    "        for idx, d in enumerate(data):\n",
    "            fo.write(json.dumps(d, ensure_ascii=False))\n",
    "            fo.write(\"\\n\")"
   ]
  },
  {
   "cell_type": "code",
   "execution_count": 3,
   "id": "83e86e67-b40a-44c2-9807-91226771d732",
   "metadata": {},
   "outputs": [],
   "source": [
    "testmisp = load_jsonl(f\"Datasets/WisesightSentiment/test-misp.jsonl\")"
   ]
  },
  {
   "cell_type": "code",
   "execution_count": null,
   "id": "4da510c7-1e87-4715-9ebb-7bc429dbad4d",
   "metadata": {},
   "outputs": [],
   "source": []
  },
  {
   "cell_type": "markdown",
   "id": "d92af0f0-7ee2-4ea7-af73-8337a1605395",
   "metadata": {},
   "source": [
    "# Misspelling Correction"
   ]
  },
  {
   "cell_type": "code",
   "execution_count": 16,
   "id": "2576e5ae-68e8-4c02-b1d3-94146096cc91",
   "metadata": {},
   "outputs": [],
   "source": [
    "from collections import defaultdict\n",
    "from collections import Counter\n",
    "from itertools import groupby\n",
    "\n",
    "def norm_word(word):\n",
    "    groups = [list(s) for _, s in groupby(word)]\n",
    "    ch = []\n",
    "    extraToken = \"\"\n",
    "    for g in groups:\n",
    "        if len(g)>=3:\n",
    "            extraToken = \"<rep>\"\n",
    "            ch.append(g[0])  \n",
    "        else:\n",
    "            ch += g\n",
    "    word = \"\".join(ch)+extraToken\n",
    "    return word\n",
    "\n",
    "def create_mispelling_correction_model(sent):\n",
    "    \n",
    "    mispDict = defaultdict(list)\n",
    "    intDict = defaultdict(list)\n",
    "    for idx, s in enumerate(sent):\n",
    "        for m in s[\"misp_tokens\"]:\n",
    "#             if norm_word(m[\"misp\"]) != m[\"misp\"]:\n",
    "#                 print(norm_word(m[\"misp\"]), m[\"misp\"])\n",
    "            mispDict[norm_word(m[\"misp\"])].append(m[\"corr\"])\n",
    "            intDict[norm_word(m[\"misp\"])].append(m[\"int\"])\n",
    "        \n",
    "    MC = {}\n",
    "    for misp in mispDict:\n",
    "        if len(misp) <=1:\n",
    "            continue\n",
    "\n",
    "        cnt = Counter(mispDict[misp])\n",
    "        corr = max(cnt, key=cnt.get)\n",
    "        \n",
    "        intProb = sum(intDict[misp])/len(intDict[misp])\n",
    "        if intProb > 0.5:\n",
    "            MC[misp] = (corr, True)\n",
    "        else:\n",
    "            MC[misp] = (corr, False)\n",
    "    return MC\n",
    "\n",
    "MC = create_mispelling_correction_model(testmisp)\n",
    "save_jsonl([MC], \"test_mispelling_correction.jsonl\")"
   ]
  },
  {
   "cell_type": "code",
   "execution_count": 17,
   "id": "4d2972bc-c115-47d1-a11a-5f4b474b9b57",
   "metadata": {},
   "outputs": [],
   "source": [
    "trainmisp = load_jsonl(f\"Datasets/WisesightSentiment/few-shot/train-misp-3000.jsonl\")"
   ]
  },
  {
   "cell_type": "code",
   "execution_count": 18,
   "id": "ca7e2898-8f8b-4e19-b814-0c0ad18b6ad8",
   "metadata": {},
   "outputs": [],
   "source": [
    "MD = create_mispelling_correction_model(trainmisp)\n",
    "save_jsonl([MD], \"train_mispelling_dection.jsonl\")"
   ]
  },
  {
   "cell_type": "code",
   "execution_count": null,
   "id": "e634674c-48e0-4593-bb8e-b11823a60bbd",
   "metadata": {},
   "outputs": [],
   "source": []
  },
  {
   "cell_type": "code",
   "execution_count": null,
   "id": "071a5d5d",
   "metadata": {},
   "outputs": [],
   "source": []
  }
 ],
 "metadata": {
  "kernelspec": {
   "display_name": "Python 3 (ipykernel)",
   "language": "python",
   "name": "python3"
  },
  "language_info": {
   "codemirror_mode": {
    "name": "ipython",
    "version": 3
   },
   "file_extension": ".py",
   "mimetype": "text/x-python",
   "name": "python",
   "nbconvert_exporter": "python",
   "pygments_lexer": "ipython3",
   "version": "3.8.10"
  }
 },
 "nbformat": 4,
 "nbformat_minor": 5
}
