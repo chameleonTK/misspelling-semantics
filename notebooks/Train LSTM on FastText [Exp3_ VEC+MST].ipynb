{
 "cells": [
  {
   "cell_type": "code",
   "execution_count": 1,
   "metadata": {
    "colab": {
     "base_uri": "https://localhost:8080/"
    },
    "executionInfo": {
     "elapsed": 16903,
     "status": "ok",
     "timestamp": 1638727159000,
     "user": {
      "displayName": "phattharanan nakwijit",
      "photoUrl": "https://lh3.googleusercontent.com/a-/AOh14GiIIxNe-uXeOWO7avIeHsrg7retrUGk_BMOtjg=s64",
      "userId": "03666715926437036675"
     },
     "user_tz": 0
    },
    "id": "Xm5ID9-w8lPF",
    "outputId": "9a3ba767-23bc-4ea0-b51c-114466a9d27f"
   },
   "outputs": [],
   "source": [
    "# from google.colab import drive\n",
    "# drive.mount('/content/drive')"
   ]
  },
  {
   "cell_type": "code",
   "execution_count": 2,
   "metadata": {
    "colab": {
     "base_uri": "https://localhost:8080/"
    },
    "executionInfo": {
     "elapsed": 7,
     "status": "ok",
     "timestamp": 1638727159001,
     "user": {
      "displayName": "phattharanan nakwijit",
      "photoUrl": "https://lh3.googleusercontent.com/a-/AOh14GiIIxNe-uXeOWO7avIeHsrg7retrUGk_BMOtjg=s64",
      "userId": "03666715926437036675"
     },
     "user_tz": 0
    },
    "id": "Yn_3IlRA8yGI",
    "outputId": "3e2202f8-81fb-4913-8e65-7272fb3f4f73"
   },
   "outputs": [],
   "source": [
    "# cd /content/drive/MyDrive/"
   ]
  },
  {
   "cell_type": "code",
   "execution_count": 3,
   "metadata": {
    "colab": {
     "base_uri": "https://localhost:8080/"
    },
    "executionInfo": {
     "elapsed": 51158,
     "status": "ok",
     "timestamp": 1638727210155,
     "user": {
      "displayName": "phattharanan nakwijit",
      "photoUrl": "https://lh3.googleusercontent.com/a-/AOh14GiIIxNe-uXeOWO7avIeHsrg7retrUGk_BMOtjg=s64",
      "userId": "03666715926437036675"
     },
     "user_tz": 0
    },
    "id": "72RbIPGQ83em",
    "outputId": "fde7c9c4-4395-419a-df8e-d5d9e2c84b80"
   },
   "outputs": [],
   "source": [
    "# !pip install fastText"
   ]
  },
  {
   "cell_type": "code",
   "execution_count": 1,
   "metadata": {
    "executionInfo": {
     "elapsed": 15,
     "status": "ok",
     "timestamp": 1638727210156,
     "user": {
      "displayName": "phattharanan nakwijit",
      "photoUrl": "https://lh3.googleusercontent.com/a-/AOh14GiIIxNe-uXeOWO7avIeHsrg7retrUGk_BMOtjg=s64",
      "userId": "03666715926437036675"
     },
     "user_tz": 0
    },
    "id": "zvFY4jen9FeH"
   },
   "outputs": [],
   "source": [
    "import fasttext"
   ]
  },
  {
   "cell_type": "markdown",
   "metadata": {
    "id": "Zh7kO1ITXstw"
   },
   "source": [
    "# Load Data"
   ]
  },
  {
   "cell_type": "code",
   "execution_count": 2,
   "metadata": {
    "executionInfo": {
     "elapsed": 11,
     "status": "ok",
     "timestamp": 1638727210157,
     "user": {
      "displayName": "phattharanan nakwijit",
      "photoUrl": "https://lh3.googleusercontent.com/a-/AOh14GiIIxNe-uXeOWO7avIeHsrg7retrUGk_BMOtjg=s64",
      "userId": "03666715926437036675"
     },
     "user_tz": 0
    },
    "id": "rwg5qj2hXuXY"
   },
   "outputs": [],
   "source": [
    "import json\n",
    "import pandas as pd\n",
    "\n",
    "def load_jsonl(fname):\n",
    "    fin = open(fname, encoding=\"utf-8\")\n",
    "    data = []\n",
    "    for line in fin:\n",
    "        d = json.loads(line.strip())\n",
    "        data.append(d)\n",
    "\n",
    "    return data\n",
    "\n",
    "def save_jsonl(data, filename):\n",
    "    with open(filename, \"w\", encoding=\"utf-8\") as fo:\n",
    "        for idx, d in enumerate(data):\n",
    "            fo.write(json.dumps(d, ensure_ascii=False))\n",
    "            fo.write(\"\\n\")"
   ]
  },
  {
   "cell_type": "code",
   "execution_count": 3,
   "metadata": {
    "executionInfo": {
     "elapsed": 3399,
     "status": "ok",
     "timestamp": 1638727213547,
     "user": {
      "displayName": "phattharanan nakwijit",
      "photoUrl": "https://lh3.googleusercontent.com/a-/AOh14GiIIxNe-uXeOWO7avIeHsrg7retrUGk_BMOtjg=s64",
      "userId": "03666715926437036675"
     },
     "user_tz": 0
    },
    "id": "3TDqQCb6XuZ9"
   },
   "outputs": [],
   "source": [
    "DIR = \"./Datasets/\"\n",
    "traindata = load_jsonl(f\"{DIR}/WisesightSentiment/tokenized_train.jsonl\")\n",
    "validdata = load_jsonl(f\"{DIR}/WisesightSentiment/tokenized_valid.jsonl\")\n",
    "testdata = load_jsonl(f\"{DIR}/WisesightSentiment/tokenized_test-misp.jsonl\")\n"
   ]
  },
  {
   "cell_type": "code",
   "execution_count": null,
   "metadata": {
    "executionInfo": {
     "elapsed": 11,
     "status": "ok",
     "timestamp": 1638727213548,
     "user": {
      "displayName": "phattharanan nakwijit",
      "photoUrl": "https://lh3.googleusercontent.com/a-/AOh14GiIIxNe-uXeOWO7avIeHsrg7retrUGk_BMOtjg=s64",
      "userId": "03666715926437036675"
     },
     "user_tz": 0
    },
    "id": "UyOZj9z3Xucz"
   },
   "outputs": [],
   "source": []
  },
  {
   "cell_type": "code",
   "execution_count": 4,
   "metadata": {
    "colab": {
     "base_uri": "https://localhost:8080/"
    },
    "executionInfo": {
     "elapsed": 8,
     "status": "ok",
     "timestamp": 1638727213548,
     "user": {
      "displayName": "phattharanan nakwijit",
      "photoUrl": "https://lh3.googleusercontent.com/a-/AOh14GiIIxNe-uXeOWO7avIeHsrg7retrUGk_BMOtjg=s64",
      "userId": "03666715926437036675"
     },
     "user_tz": 0
    },
    "id": "ZHwGnDPRZ4hw",
    "outputId": "d332bc19-704b-49bf-c83c-c22e6ce5efff"
   },
   "outputs": [
    {
     "data": {
      "text/plain": [
       "(2671, 880, 880)"
      ]
     },
     "execution_count": 4,
     "metadata": {},
     "output_type": "execute_result"
    }
   ],
   "source": [
    "import itertools\n",
    "def filterByMode(data, mode=None):\n",
    "  output = []\n",
    "  for sent in data:\n",
    "    if mode is None:\n",
    "      tokenized = [seg[0] for seg in sent[\"segments\"]]\n",
    "    elif mode==\"corr\":\n",
    "      tokenized = [seg[1] for seg in sent[\"segments\"]]\n",
    "      if len(sent[\"misp_tokens\"])==0:\n",
    "        continue\n",
    "    else:\n",
    "      tokenized = [seg[0] for seg in sent[\"segments\"]]\n",
    "      if len(sent[\"misp_tokens\"])==0:\n",
    "        continue\n",
    "    \n",
    "    tokenized = list(itertools.chain(*tokenized))\n",
    "  \n",
    "    output.append({\n",
    "        \"category\": sent[\"category\"],\n",
    "        \"text\": sent[\"text\"],\n",
    "        \"tokenized\": tokenized,\n",
    "        \"segments\": sent[\"segments\"]\n",
    "    })\n",
    "\n",
    "  return output\n",
    "\n",
    "traindata\n",
    "validdata\n",
    "allTestdata = filterByMode(testdata)\n",
    "corrTestdata = filterByMode(testdata, \"corr\")\n",
    "mispTestdata = filterByMode(testdata, \"misp\")\n",
    "len(allTestdata), len(corrTestdata), len(mispTestdata)"
   ]
  },
  {
   "cell_type": "code",
   "execution_count": null,
   "metadata": {
    "executionInfo": {
     "elapsed": 5,
     "status": "ok",
     "timestamp": 1638727213548,
     "user": {
      "displayName": "phattharanan nakwijit",
      "photoUrl": "https://lh3.googleusercontent.com/a-/AOh14GiIIxNe-uXeOWO7avIeHsrg7retrUGk_BMOtjg=s64",
      "userId": "03666715926437036675"
     },
     "user_tz": 0
    },
    "id": "qb3VQndoXufR"
   },
   "outputs": [],
   "source": []
  },
  {
   "cell_type": "code",
   "execution_count": null,
   "metadata": {
    "executionInfo": {
     "elapsed": 5,
     "status": "ok",
     "timestamp": 1638727213549,
     "user": {
      "displayName": "phattharanan nakwijit",
      "photoUrl": "https://lh3.googleusercontent.com/a-/AOh14GiIIxNe-uXeOWO7avIeHsrg7retrUGk_BMOtjg=s64",
      "userId": "03666715926437036675"
     },
     "user_tz": 0
    },
    "id": "mn_-ONCtXuiL"
   },
   "outputs": [],
   "source": []
  },
  {
   "cell_type": "markdown",
   "metadata": {
    "id": "S_xmhIYTFx_V"
   },
   "source": [
    "# Create LSTM"
   ]
  },
  {
   "cell_type": "code",
   "execution_count": 5,
   "metadata": {
    "executionInfo": {
     "elapsed": 5776,
     "status": "ok",
     "timestamp": 1638727219321,
     "user": {
      "displayName": "phattharanan nakwijit",
      "photoUrl": "https://lh3.googleusercontent.com/a-/AOh14GiIIxNe-uXeOWO7avIeHsrg7retrUGk_BMOtjg=s64",
      "userId": "03666715926437036675"
     },
     "user_tz": 0
    },
    "id": "KgmoytS4FzJU"
   },
   "outputs": [],
   "source": [
    "import numpy as np\n",
    "import random\n",
    "import torch\n",
    "import os\n",
    "\n",
    "seed = 0\n",
    "os.environ['PYTHONHASHSEED'] = str(seed)\n",
    "random.seed(seed)    \n",
    "np.random.seed(seed)\n",
    "np.random.RandomState(seed)\n",
    "\n",
    "torch.manual_seed(seed) \n",
    "torch.cuda.manual_seed(seed)\n",
    "torch.cuda.manual_seed_all(seed) #seed all gpus    \n",
    "torch.backends.cudnn.deterministic = True\n",
    "torch.backends.cudnn.enabled = False  \n",
    "torch.backends.cudnn.benchmark = False\n"
   ]
  },
  {
   "cell_type": "code",
   "execution_count": 6,
   "metadata": {
    "colab": {
     "base_uri": "https://localhost:8080/"
    },
    "executionInfo": {
     "elapsed": 39,
     "status": "ok",
     "timestamp": 1638727219322,
     "user": {
      "displayName": "phattharanan nakwijit",
      "photoUrl": "https://lh3.googleusercontent.com/a-/AOh14GiIIxNe-uXeOWO7avIeHsrg7retrUGk_BMOtjg=s64",
      "userId": "03666715926437036675"
     },
     "user_tz": 0
    },
    "id": "8THSE3QKF2am",
    "outputId": "4f7ef3a0-c570-401d-f6a8-e5533587afb0"
   },
   "outputs": [
    {
     "name": "stdout",
     "output_type": "stream",
     "text": [
      "No GPU available, using the CPU instead.\n"
     ]
    },
    {
     "name": "stderr",
     "output_type": "stream",
     "text": [
      "/home/imtk/.local/lib/python3.8/site-packages/torch/cuda/__init__.py:52: UserWarning: CUDA initialization: Unexpected error from cudaGetDeviceCount(). Did you run some cuda functions before calling NumCudaDevices() that might have already set an error? Error 804: forward compatibility was attempted on non supported HW (Triggered internally at  /pytorch/c10/cuda/CUDAFunctions.cpp:115.)\n",
      "  return torch._C._cuda_getDeviceCount() > 0\n"
     ]
    }
   ],
   "source": [
    "import torch\n",
    "\n",
    "# If there's a GPU available...\n",
    "if torch.cuda.is_available():    \n",
    "\n",
    "    # Tell PyTorch to use the GPU.    \n",
    "    device = torch.device(\"cuda\")\n",
    "\n",
    "    print('There are %d GPU(s) available.' % torch.cuda.device_count())\n",
    "\n",
    "    print('We will use the GPU:', torch.cuda.get_device_name(0))\n",
    "\n",
    "# If not...\n",
    "else:\n",
    "    print('No GPU available, using the CPU instead.')\n",
    "    device = torch.device(\"cpu\")"
   ]
  },
  {
   "cell_type": "code",
   "execution_count": 7,
   "metadata": {
    "colab": {
     "base_uri": "https://localhost:8080/"
    },
    "executionInfo": {
     "elapsed": 5285,
     "status": "ok",
     "timestamp": 1638727224575,
     "user": {
      "displayName": "phattharanan nakwijit",
      "photoUrl": "https://lh3.googleusercontent.com/a-/AOh14GiIIxNe-uXeOWO7avIeHsrg7retrUGk_BMOtjg=s64",
      "userId": "03666715926437036675"
     },
     "user_tz": 0
    },
    "id": "rAy_zT-OF9o2",
    "outputId": "62f9d398-754d-4e2d-a7f0-256e9b6086bc"
   },
   "outputs": [],
   "source": [
    "# !pip install -q pythainlp"
   ]
  },
  {
   "cell_type": "code",
   "execution_count": 8,
   "metadata": {
    "executionInfo": {
     "elapsed": 3067,
     "status": "ok",
     "timestamp": 1638727227618,
     "user": {
      "displayName": "phattharanan nakwijit",
      "photoUrl": "https://lh3.googleusercontent.com/a-/AOh14GiIIxNe-uXeOWO7avIeHsrg7retrUGk_BMOtjg=s64",
      "userId": "03666715926437036675"
     },
     "user_tz": 0
    },
    "id": "LtrQwukcF4R1"
   },
   "outputs": [],
   "source": [
    "import pythainlp"
   ]
  },
  {
   "cell_type": "code",
   "execution_count": 9,
   "metadata": {
    "executionInfo": {
     "elapsed": 19,
     "status": "ok",
     "timestamp": 1638727227620,
     "user": {
      "displayName": "phattharanan nakwijit",
      "photoUrl": "https://lh3.googleusercontent.com/a-/AOh14GiIIxNe-uXeOWO7avIeHsrg7retrUGk_BMOtjg=s64",
      "userId": "03666715926437036675"
     },
     "user_tz": 0
    },
    "id": "U6N_idH_GCx3"
   },
   "outputs": [],
   "source": [
    "import os\n",
    "import time\n",
    "import torch\n",
    "import torch.optim as optim\n",
    "import torch.nn as nn\n",
    "\n",
    "import os\n",
    "import sys\n",
    "from argparse import ArgumentParser\n",
    "\n",
    "criterion = nn.CrossEntropyLoss()\n",
    "\n",
    "\n",
    "def get_args():\n",
    "    parser = ArgumentParser(description='LSTM')\n",
    "#     parser.add_argument('mode', type=str, help = 'tokenizing mode ')\n",
    "    parser.add_argument('--epochs', type=int, default=50, help = 'epochs')\n",
    "    parser.add_argument('--batch_size', type=int, default=128)\n",
    "    parser.add_argument('--d_embed', type=int, default=100)\n",
    "    parser.add_argument('--lr', type=float, default=.001)\n",
    "    parser.add_argument('--dev_every', type=int, default=100)\n",
    "    parser.add_argument('--dp_ratio', type=int, default=0.2)\n",
    "    parser.add_argument('--save_path', type=str, default='results', help='path to save the model')\n",
    "    \n",
    "    try:\n",
    "        args = parser.parse_args([])\n",
    "    except:\n",
    "        parser.print_help()\n",
    "        sys.exit(1)\n",
    "\n",
    "    return args"
   ]
  },
  {
   "cell_type": "code",
   "execution_count": 10,
   "metadata": {
    "executionInfo": {
     "elapsed": 16,
     "status": "ok",
     "timestamp": 1638727227621,
     "user": {
      "displayName": "phattharanan nakwijit",
      "photoUrl": "https://lh3.googleusercontent.com/a-/AOh14GiIIxNe-uXeOWO7avIeHsrg7retrUGk_BMOtjg=s64",
      "userId": "03666715926437036675"
     },
     "user_tz": 0
    },
    "id": "AwjR17JHGC1B"
   },
   "outputs": [],
   "source": [
    "               \n",
    "args = get_args()\n",
    "args.epochs = 100\n",
    "args.batch_size = 64\n",
    "args.dev_every = 50"
   ]
  },
  {
   "cell_type": "code",
   "execution_count": 11,
   "metadata": {
    "executionInfo": {
     "elapsed": 14,
     "status": "ok",
     "timestamp": 1638727227622,
     "user": {
      "displayName": "phattharanan nakwijit",
      "photoUrl": "https://lh3.googleusercontent.com/a-/AOh14GiIIxNe-uXeOWO7avIeHsrg7retrUGk_BMOtjg=s64",
      "userId": "03666715926437036675"
     },
     "user_tz": 0
    },
    "id": "wqHRlh7vKHGh"
   },
   "outputs": [],
   "source": [
    "# ls Mispelling/misspelling-semantics/Datasets/../Models\n",
    "\n",
    "# cc.th.300.bin    \n",
    "\n",
    "\n",
    "# \n",
    "# fasttext_corr_VISTEC-TP-TH-2021.bin  \n",
    "# fasttext_MST_wisesight_train.bin\n",
    "# fasttext_wisesight_train.bin"
   ]
  },
  {
   "cell_type": "code",
   "execution_count": 12,
   "metadata": {
    "colab": {
     "base_uri": "https://localhost:8080/"
    },
    "executionInfo": {
     "elapsed": 284,
     "status": "ok",
     "timestamp": 1638727237450,
     "user": {
      "displayName": "phattharanan nakwijit",
      "photoUrl": "https://lh3.googleusercontent.com/a-/AOh14GiIIxNe-uXeOWO7avIeHsrg7retrUGk_BMOtjg=s64",
      "userId": "03666715926437036675"
     },
     "user_tz": 0
    },
    "id": "yFN-roz-F803",
    "outputId": "035f5a65-dbce-4044-c80b-9664679d05fb"
   },
   "outputs": [
    {
     "name": "stderr",
     "output_type": "stream",
     "text": [
      "Warning : `load_model` does not return WordVectorModel or SupervisedModel any more, but a `FastText` object which is very similar.\n"
     ]
    }
   ],
   "source": [
    "wv = fasttext.load_model(f\"{DIR}/../Models/fasttext_MST_VISTEC-TP-TH-2021.bin\")\n",
    "# wv = fasttext.load_model(f\"Mispelling/Models/fasttext_orcl.bin\")"
   ]
  },
  {
   "cell_type": "code",
   "execution_count": 13,
   "metadata": {
    "colab": {
     "base_uri": "https://localhost:8080/",
     "height": 35
    },
    "executionInfo": {
     "elapsed": 18,
     "status": "ok",
     "timestamp": 1638727237451,
     "user": {
      "displayName": "phattharanan nakwijit",
      "photoUrl": "https://lh3.googleusercontent.com/a-/AOh14GiIIxNe-uXeOWO7avIeHsrg7retrUGk_BMOtjg=s64",
      "userId": "03666715926437036675"
     },
     "user_tz": 0
    },
    "id": "4enmKUubyCyT",
    "outputId": "d63bc679-a9d5-47c8-8755-69d7df9065b1"
   },
   "outputs": [
    {
     "data": {
      "text/plain": [
       "'DONE'"
      ]
     },
     "execution_count": 13,
     "metadata": {},
     "output_type": "execute_result"
    }
   ],
   "source": [
    "\"DONE\""
   ]
  },
  {
   "cell_type": "markdown",
   "metadata": {
    "id": "ju3fwxglivDc"
   },
   "source": [
    "### Build Datasets"
   ]
  },
  {
   "cell_type": "code",
   "execution_count": 14,
   "metadata": {
    "executionInfo": {
     "elapsed": 10,
     "status": "ok",
     "timestamp": 1638727237451,
     "user": {
      "displayName": "phattharanan nakwijit",
      "photoUrl": "https://lh3.googleusercontent.com/a-/AOh14GiIIxNe-uXeOWO7avIeHsrg7retrUGk_BMOtjg=s64",
      "userId": "03666715926437036675"
     },
     "user_tz": 0
    },
    "id": "XYyZnlN-jt9Y"
   },
   "outputs": [],
   "source": [
    "from torchtext.legacy import data\n",
    "import torchtext.vocab as vocab\n",
    "\n",
    "from tqdm.notebook import tqdm"
   ]
  },
  {
   "cell_type": "code",
   "execution_count": 15,
   "metadata": {
    "executionInfo": {
     "elapsed": 10,
     "status": "ok",
     "timestamp": 1638727237451,
     "user": {
      "displayName": "phattharanan nakwijit",
      "photoUrl": "https://lh3.googleusercontent.com/a-/AOh14GiIIxNe-uXeOWO7avIeHsrg7retrUGk_BMOtjg=s64",
      "userId": "03666715926437036675"
     },
     "user_tz": 0
    },
    "id": "Xsp-eb2Jju8K"
   },
   "outputs": [],
   "source": [
    "device = torch.device('cuda' if torch.cuda.is_available() else 'cpu')"
   ]
  },
  {
   "cell_type": "code",
   "execution_count": null,
   "metadata": {
    "executionInfo": {
     "elapsed": 10,
     "status": "ok",
     "timestamp": 1638727237452,
     "user": {
      "displayName": "phattharanan nakwijit",
      "photoUrl": "https://lh3.googleusercontent.com/a-/AOh14GiIIxNe-uXeOWO7avIeHsrg7retrUGk_BMOtjg=s64",
      "userId": "03666715926437036675"
     },
     "user_tz": 0
    },
    "id": "BhO-MElGkNEy"
   },
   "outputs": [],
   "source": []
  },
  {
   "cell_type": "markdown",
   "metadata": {
    "id": "DRShhllxAP-v"
   },
   "source": [
    "#### Baseline Datasets"
   ]
  },
  {
   "cell_type": "code",
   "execution_count": 16,
   "metadata": {
    "executionInfo": {
     "elapsed": 358,
     "status": "ok",
     "timestamp": 1638727237800,
     "user": {
      "displayName": "phattharanan nakwijit",
      "photoUrl": "https://lh3.googleusercontent.com/a-/AOh14GiIIxNe-uXeOWO7avIeHsrg7retrUGk_BMOtjg=s64",
      "userId": "03666715926437036675"
     },
     "user_tz": 0
    },
    "id": "gxRdZ1PyjzQF"
   },
   "outputs": [],
   "source": [
    "LABELS = {\n",
    "    \"neg\": 2,\n",
    "    \"neu\": 1,\n",
    "    \"pos\": 0,\n",
    "    \"q\": 1 # used to be 3\n",
    "}\n",
    "\n",
    "def removeQuestion(label):    \n",
    "  return LABELS[label]\n",
    "\n",
    "# TEXT = data.Field(sequential=True, lower=False)\n",
    "CATEGORY = data.Field(sequential=False, use_vocab=False, preprocessing=removeQuestion)\n",
    "TOKEN = data.Field(sequential=True, lower=False)\n",
    "\n",
    "raw_datasets = {\n",
    "    \"train\": traindata,\n",
    "    \"validation\": validdata,\n",
    "    \"test\": allTestdata,\n",
    "    \"test-corr\": corrTestdata,\n",
    "    \"test-misp\": mispTestdata\n",
    "}\n",
    "\n",
    "raw_fields = [\n",
    "    # ('text', TEXT), \n",
    "    ('category', CATEGORY),\n",
    "    ('tokenized', TOKEN)\n",
    "]\n",
    "\n",
    "fields = {}\n",
    "for f in raw_fields:\n",
    "  fields[f[0]] = f\n",
    "\n",
    "datasets = {}\n",
    "for k in raw_datasets:  \n",
    "  examples = [data.Example.fromdict(d, fields=fields) for d in raw_datasets[k]]\n",
    "  d = data.Dataset(examples, fields=raw_fields)\n",
    "  datasets[k] = d\n"
   ]
  },
  {
   "cell_type": "markdown",
   "metadata": {
    "id": "fhKqE2ZQAYck"
   },
   "source": [
    "#### MAE Datasets"
   ]
  },
  {
   "cell_type": "code",
   "execution_count": 17,
   "metadata": {
    "executionInfo": {
     "elapsed": 2,
     "status": "ok",
     "timestamp": 1638727237800,
     "user": {
      "displayName": "phattharanan nakwijit",
      "photoUrl": "https://lh3.googleusercontent.com/a-/AOh14GiIIxNe-uXeOWO7avIeHsrg7retrUGk_BMOtjg=s64",
      "userId": "03666715926437036675"
     },
     "user_tz": 0
    },
    "id": "_EoG-XP7GO2E"
   },
   "outputs": [],
   "source": [
    "# "
   ]
  },
  {
   "cell_type": "code",
   "execution_count": 18,
   "metadata": {
    "colab": {
     "base_uri": "https://localhost:8080/"
    },
    "executionInfo": {
     "elapsed": 275,
     "status": "ok",
     "timestamp": 1638727238073,
     "user": {
      "displayName": "phattharanan nakwijit",
      "photoUrl": "https://lh3.googleusercontent.com/a-/AOh14GiIIxNe-uXeOWO7avIeHsrg7retrUGk_BMOtjg=s64",
      "userId": "03666715926437036675"
     },
     "user_tz": 0
    },
    "id": "kJ7zViqs_qRV",
    "outputId": "5803aa63-6ac5-44cc-ffd8-8f5b3a0e572e"
   },
   "outputs": [
    {
     "name": "stdout",
     "output_type": "stream",
     "text": [
      "#Misp Tokens: 1213 tokens; 1.67%\n",
      "#Misp Tokens: 1213 tokens; 5.60%\n",
      "#Misp Tokens: 1213 tokens; 5.60%\n",
      "\n",
      "Processed: test\n",
      "Processed: test-corr\n",
      "Processed: test-misp\n"
     ]
    }
   ],
   "source": [
    "MC = load_jsonl(f\"{DIR}/../test_mispelling_correction.jsonl\")[0]\n",
    "def createMAEDataset(data, pre_segmented=False, mode=None, mst=False):\n",
    "  output = []\n",
    "  cnt, mstcnt = 0, 0\n",
    "\n",
    "  segIdx = 0\n",
    "  if mode==\"corr\":\n",
    "    segIdx = 1  # ignore misspelling with MC\n",
    "\n",
    "  for sent in data:\n",
    "    newtokens = []\n",
    "    misptokens = []\n",
    "    if (mode==\"misp\" or mode==\"corr\") and len(sent[\"misp_tokens\"])==0:\n",
    "        continue\n",
    "\n",
    "    if pre_segmented:\n",
    "      for seg in sent[\"segments\"]:\n",
    "        for token in zip(seg[0], seg[1]):\n",
    "          newtokens.append(token[segIdx])\n",
    "          misptokens.append(token[1])\n",
    "          if mst:\n",
    "            msttokens = additionalToken(token[segIdx])\n",
    "            newtokens += msttokens\n",
    "            misptokens += msttokens\n",
    "\n",
    "          if token[0]!=token[1]:\n",
    "            mstcnt += 1\n",
    "          \n",
    "    else:\n",
    "      \n",
    "      for token in sent[\"tokenized\"]:\n",
    "        w = norm_word(token)\n",
    "        detectedMsp = (len(w) >= 4) and (w in MC)\n",
    "        if detectedMsp:\n",
    "            corr, mint = MC[w]\n",
    "            misptokens.append(corr)\n",
    "            if mode==\"corr\":\n",
    "              token = corr\n",
    "            mstcnt += 1\n",
    "        else:\n",
    "          misptokens.append(token)\n",
    "        newtokens.append(token)\n",
    "\n",
    "        if detectedMsp and mst:\n",
    "          msttokens = additionalToken(token)\n",
    "          newtokens += msttokens\n",
    "          misptokens += msttokens\n",
    "\n",
    "\n",
    "    cnt += len(newtokens)\n",
    "\n",
    "    output.append({\n",
    "        \"category\": sent[\"category\"],\n",
    "        \"text\": sent[\"text\"],\n",
    "        \"tokenized\": newtokens,\n",
    "        \"misp\": misptokens\n",
    "    })\n",
    "\n",
    "  print(f\"#Misp Tokens: {mstcnt} tokens; {(mstcnt)*100/cnt:.2f}%\")\n",
    "  return output\n",
    "\n",
    "mae_raw_datasets = {\n",
    "    \"test\": createMAEDataset(testdata, pre_segmented=True),\n",
    "    \"test-corr\": createMAEDataset(testdata, pre_segmented=True, mode=\"corr\"),\n",
    "    \"test-misp\": createMAEDataset(testdata, pre_segmented=True, mode=\"misp\"),\n",
    "}\n",
    "\n",
    "mae_raw_fields = [\n",
    "    ('category', CATEGORY),\n",
    "    ('tokenized', TOKEN),\n",
    "    ('misp', TOKEN),\n",
    "]\n",
    "\n",
    "mae_fields = {}\n",
    "for f in mae_raw_fields:\n",
    "  mae_fields[f[0]] = f\n",
    "\n",
    "print()\n",
    "MAEdatasets = {}\n",
    "for k in mae_raw_datasets:  \n",
    "  print(f\"Processed: {k}\")\n",
    "  examples = [data.Example.fromdict(d, fields=mae_fields) for d in mae_raw_datasets[k]]\n",
    "  d = data.Dataset(examples, fields=mae_raw_fields)\n",
    "  MAEdatasets[k] = d\n"
   ]
  },
  {
   "cell_type": "code",
   "execution_count": null,
   "metadata": {
    "executionInfo": {
     "elapsed": 3,
     "status": "ok",
     "timestamp": 1638727238074,
     "user": {
      "displayName": "phattharanan nakwijit",
      "photoUrl": "https://lh3.googleusercontent.com/a-/AOh14GiIIxNe-uXeOWO7avIeHsrg7retrUGk_BMOtjg=s64",
      "userId": "03666715926437036675"
     },
     "user_tz": 0
    },
    "id": "emulYYp-AbER"
   },
   "outputs": [],
   "source": []
  },
  {
   "cell_type": "markdown",
   "metadata": {
    "id": "VGje3d7QAcnN"
   },
   "source": [
    "#### MST Datasets"
   ]
  },
  {
   "cell_type": "code",
   "execution_count": 19,
   "metadata": {
    "executionInfo": {
     "elapsed": 876,
     "status": "ok",
     "timestamp": 1638727238947,
     "user": {
      "displayName": "phattharanan nakwijit",
      "photoUrl": "https://lh3.googleusercontent.com/a-/AOh14GiIIxNe-uXeOWO7avIeHsrg7retrUGk_BMOtjg=s64",
      "userId": "03666715926437036675"
     },
     "user_tz": 0
    },
    "id": "MC1nGGMfAgcH"
   },
   "outputs": [],
   "source": [
    "from itertools import groupby\n",
    "MD = load_jsonl(f\"{DIR}/../train_mispelling_dection.jsonl\")[0]\n",
    "\n",
    "def norm_word(word):\n",
    "    groups = [list(s) for _, s in groupby(word)]\n",
    "    ch = []\n",
    "    extraToken = \"\"\n",
    "    for g in groups:\n",
    "        if len(g)>=3:\n",
    "            if g[0]==\"5\":\n",
    "              extraToken = \"<lol>\"\n",
    "            else:\n",
    "              extraToken = \"<rep>\"\n",
    "            ch.append(g[0])  \n",
    "        else:\n",
    "            ch += g\n",
    "    word = \"\".join(ch)+extraToken\n",
    "    return word\n",
    "\n",
    "def additionalToken(word):\n",
    "  tokens = []\n",
    "  w = norm_word(word)\n",
    "  if \"<lol>\" in w:\n",
    "    tokens.append(\"<lol>\")\n",
    "  elif \"<rep>\" in w:\n",
    "    tokens.append(\"<rep>\")\n",
    "  elif w in MD:\n",
    "      corr, mint = MD[w]\n",
    "      if mint:\n",
    "        tokens.append(\"<int>\")\n",
    "      else:\n",
    "        tokens.append(\"<msp>\")\n",
    "  return tokens\n",
    "\n",
    "def addMSTTokens(data, pre_segmented=False):\n",
    "  output = []\n",
    "  cnt, mstcnt = 0, 0\n",
    "  for sent in data:\n",
    "    newtokens = []\n",
    "    if pre_segmented:\n",
    "      for seg in sent[\"segments\"]:\n",
    "        for token in zip(seg[0], seg[1]):\n",
    "          newtokens.append(token[0])\n",
    "          if token[0]==token[1]:\n",
    "            continue\n",
    "          \n",
    "          newtokens += additionalToken(token[0])\n",
    "    else:\n",
    "      for token in sent[\"tokenized\"]:\n",
    "        newtokens.append(token)\n",
    "        # if len(w) < 4:\n",
    "        #   continue\n",
    "        newtokens += additionalToken(token[0])\n",
    "\n",
    "    cnt += len(sent[\"tokenized\"])\n",
    "    mstcnt += len(newtokens)\n",
    "\n",
    "    output.append({\n",
    "        \"category\": sent[\"category\"],\n",
    "        \"text\": sent[\"text\"],\n",
    "        \"tokenized\": newtokens,\n",
    "    })\n",
    "\n",
    "  print(f\"#New MST Tokens: {mstcnt - cnt} tokens; {(mstcnt - cnt)*100/cnt:.2f}%\")\n",
    "  return output"
   ]
  },
  {
   "cell_type": "code",
   "execution_count": 20,
   "metadata": {
    "colab": {
     "base_uri": "https://localhost:8080/"
    },
    "executionInfo": {
     "elapsed": 1180,
     "status": "ok",
     "timestamp": 1638727240122,
     "user": {
      "displayName": "phattharanan nakwijit",
      "photoUrl": "https://lh3.googleusercontent.com/a-/AOh14GiIIxNe-uXeOWO7avIeHsrg7retrUGk_BMOtjg=s64",
      "userId": "03666715926437036675"
     },
     "user_tz": 0
    },
    "id": "IXtP3z6LAghg",
    "outputId": "7b53bdef-8069-4212-99a6-f5d4a101b6a2"
   },
   "outputs": [
    {
     "name": "stdout",
     "output_type": "stream",
     "text": [
      "Processed: train\n",
      "#New MST Tokens: 19356 tokens; 3.18%\n",
      "\n",
      "Processed: validation\n",
      "#New MST Tokens: 2147 tokens; 3.19%\n",
      "\n",
      "Processed: test\n",
      "#New MST Tokens: 616 tokens; 0.85%\n",
      "\n",
      "Processed: test-corr\n",
      "#New MST Tokens: 616 tokens; 2.84%\n",
      "\n",
      "Processed: test-misp\n",
      "#New MST Tokens: 616 tokens; 2.84%\n",
      "\n"
     ]
    }
   ],
   "source": [
    "MSTdatasets = {}\n",
    "for k in raw_datasets:\n",
    "  print(f\"Processed: {k}\")\n",
    "  raw = addMSTTokens(raw_datasets[k], pre_segmented=k.startswith(\"test\"))  #only pre-segmented in test set\n",
    "  examples = [data.Example.fromdict(d, fields=fields) for d in raw]\n",
    "  d = data.Dataset(examples, fields=raw_fields)\n",
    "  MSTdatasets[k] = d\n",
    "  print(\"\")"
   ]
  },
  {
   "cell_type": "code",
   "execution_count": 21,
   "metadata": {
    "executionInfo": {
     "elapsed": 9,
     "status": "ok",
     "timestamp": 1638727240124,
     "user": {
      "displayName": "phattharanan nakwijit",
      "photoUrl": "https://lh3.googleusercontent.com/a-/AOh14GiIIxNe-uXeOWO7avIeHsrg7retrUGk_BMOtjg=s64",
      "userId": "03666715926437036675"
     },
     "user_tz": 0
    },
    "id": "602D1D4zIlb4"
   },
   "outputs": [],
   "source": [
    "# Both"
   ]
  },
  {
   "cell_type": "markdown",
   "metadata": {
    "id": "oRT0CD47InJQ"
   },
   "source": [
    "#### MAE+MST"
   ]
  },
  {
   "cell_type": "code",
   "execution_count": 22,
   "metadata": {
    "colab": {
     "base_uri": "https://localhost:8080/"
    },
    "executionInfo": {
     "elapsed": 1125,
     "status": "ok",
     "timestamp": 1638727241242,
     "user": {
      "displayName": "phattharanan nakwijit",
      "photoUrl": "https://lh3.googleusercontent.com/a-/AOh14GiIIxNe-uXeOWO7avIeHsrg7retrUGk_BMOtjg=s64",
      "userId": "03666715926437036675"
     },
     "user_tz": 0
    },
    "id": "rX8pevvm_qgI",
    "outputId": "181ad4dd-e20c-4ce0-a93b-35aa424d08bb"
   },
   "outputs": [
    {
     "name": "stdout",
     "output_type": "stream",
     "text": [
      "#Misp Tokens: 1213 tokens; 1.63%\n",
      "#Misp Tokens: 1213 tokens; 5.50%\n",
      "#Misp Tokens: 1213 tokens; 5.37%\n",
      "\n",
      "Processed: test\n",
      "Processed: test-corr\n",
      "Processed: test-misp\n"
     ]
    }
   ],
   "source": [
    "both_raw_datasets = {\n",
    "    \"test\": createMAEDataset(testdata, pre_segmented=True, mst=True),\n",
    "    \"test-corr\": createMAEDataset(testdata, pre_segmented=True, mode=\"corr\", mst=True),\n",
    "    \"test-misp\": createMAEDataset(testdata, pre_segmented=True, mode=\"misp\", mst=True),\n",
    "}\n",
    "print()\n",
    "BOTHdataset = {}\n",
    "for k in both_raw_datasets:  \n",
    "  print(f\"Processed: {k}\")\n",
    "  examples = [data.Example.fromdict(d, fields=mae_fields) for d in both_raw_datasets[k]]\n",
    "  d = data.Dataset(examples, fields=mae_raw_fields)\n",
    "  BOTHdataset[k] = d\n"
   ]
  },
  {
   "cell_type": "code",
   "execution_count": null,
   "metadata": {
    "executionInfo": {
     "elapsed": 2,
     "status": "ok",
     "timestamp": 1638727241242,
     "user": {
      "displayName": "phattharanan nakwijit",
      "photoUrl": "https://lh3.googleusercontent.com/a-/AOh14GiIIxNe-uXeOWO7avIeHsrg7retrUGk_BMOtjg=s64",
      "userId": "03666715926437036675"
     },
     "user_tz": 0
    },
    "id": "0JchrrW2I_lp"
   },
   "outputs": [],
   "source": []
  },
  {
   "cell_type": "code",
   "execution_count": null,
   "metadata": {
    "executionInfo": {
     "elapsed": 3,
     "status": "ok",
     "timestamp": 1638727241243,
     "user": {
      "displayName": "phattharanan nakwijit",
      "photoUrl": "https://lh3.googleusercontent.com/a-/AOh14GiIIxNe-uXeOWO7avIeHsrg7retrUGk_BMOtjg=s64",
      "userId": "03666715926437036675"
     },
     "user_tz": 0
    },
    "id": "-EZ0-SC9I_tV"
   },
   "outputs": [],
   "source": []
  },
  {
   "cell_type": "code",
   "execution_count": 23,
   "metadata": {
    "executionInfo": {
     "elapsed": 485,
     "status": "ok",
     "timestamp": 1638727241726,
     "user": {
      "displayName": "phattharanan nakwijit",
      "photoUrl": "https://lh3.googleusercontent.com/a-/AOh14GiIIxNe-uXeOWO7avIeHsrg7retrUGk_BMOtjg=s64",
      "userId": "03666715926437036675"
     },
     "user_tz": 0
    },
    "id": "60NoKoMOt9fN"
   },
   "outputs": [],
   "source": [
    "W2V_WINDOW = 5 \n",
    "W2V_MIN_COUNT = 0\n",
    "\n",
    "# TEXT.build_vocab(datasets[\"train\"], min_freq=W2V_MIN_COUNT, )\n",
    "TOKEN.build_vocab(datasets[\"train\"], datasets[\"validation\"], datasets[\"test\"], datasets[\"test-corr\"], MSTdatasets[\"test\"], min_freq=W2V_MIN_COUNT, )\n",
    "CATEGORY.build_vocab(datasets[\"train\"])"
   ]
  },
  {
   "cell_type": "code",
   "execution_count": 24,
   "metadata": {
    "colab": {
     "base_uri": "https://localhost:8080/"
    },
    "executionInfo": {
     "elapsed": 11,
     "status": "ok",
     "timestamp": 1638727241727,
     "user": {
      "displayName": "phattharanan nakwijit",
      "photoUrl": "https://lh3.googleusercontent.com/a-/AOh14GiIIxNe-uXeOWO7avIeHsrg7retrUGk_BMOtjg=s64",
      "userId": "03666715926437036675"
     },
     "user_tz": 0
    },
    "id": "g3V6AoPpDxgN",
    "outputId": "fe07bab6-ad78-48a5-e5ea-effd6a346fbd"
   },
   "outputs": [
    {
     "data": {
      "text/plain": [
       "('#Token', 44697)"
      ]
     },
     "execution_count": 24,
     "metadata": {},
     "output_type": "execute_result"
    }
   ],
   "source": [
    "\"#Token\",len(TOKEN.vocab)"
   ]
  },
  {
   "cell_type": "code",
   "execution_count": 25,
   "metadata": {
    "colab": {
     "base_uri": "https://localhost:8080/"
    },
    "executionInfo": {
     "elapsed": 9,
     "status": "ok",
     "timestamp": 1638727241727,
     "user": {
      "displayName": "phattharanan nakwijit",
      "photoUrl": "https://lh3.googleusercontent.com/a-/AOh14GiIIxNe-uXeOWO7avIeHsrg7retrUGk_BMOtjg=s64",
      "userId": "03666715926437036675"
     },
     "user_tz": 0
    },
    "id": "0NjPc0lJscK_",
    "outputId": "49e64ccc-7ae2-47f9-809e-120db3790dc5"
   },
   "outputs": [
    {
     "data": {
      "text/plain": [
       "defaultdict(<bound method Vocab._default_unk_index of <torchtext.legacy.vocab.Vocab object at 0x7fc58205a610>>,\n",
       "            {'<unk>': 0, 1: 1, 2: 2, 0: 3})"
      ]
     },
     "execution_count": 25,
     "metadata": {},
     "output_type": "execute_result"
    }
   ],
   "source": [
    "CATEGORY.vocab.stoi"
   ]
  },
  {
   "cell_type": "code",
   "execution_count": 26,
   "metadata": {
    "executionInfo": {
     "elapsed": 8,
     "status": "ok",
     "timestamp": 1638727241728,
     "user": {
      "displayName": "phattharanan nakwijit",
      "photoUrl": "https://lh3.googleusercontent.com/a-/AOh14GiIIxNe-uXeOWO7avIeHsrg7retrUGk_BMOtjg=s64",
      "userId": "03666715926437036675"
     },
     "user_tz": 0
    },
    "id": "H2DamUhtGgIZ"
   },
   "outputs": [],
   "source": [
    "import fasttext\n",
    "\n",
    "# ref: https://medium.com/@rohit_agrawal/using-fine-tuned-gensim-word2vec-embeddings-with-torchtext-and-pytorch-17eea2883cd\n",
    "def set_wv_vectors(field, vectors, debug=False):\n",
    "    W2V_SIZE = vectors.get_dimension()\n",
    "    \n",
    "    words = vectors.get_words()\n",
    "    vocab_size = len(words)\n",
    "    word2vec_vectors = []\n",
    "    for token, idx in tqdm(field.vocab.stoi.items()):\n",
    "        if idx==0:\n",
    "            word2vec_vectors.append(torch.zeros(W2V_SIZE))\n",
    "            continue\n",
    "            \n",
    "        word2vec_vectors.append(torch.FloatTensor(vectors[token]))\n",
    "\n",
    "    field.vocab.set_vectors(field.vocab.stoi, word2vec_vectors, W2V_SIZE)"
   ]
  },
  {
   "cell_type": "code",
   "execution_count": 27,
   "metadata": {
    "colab": {
     "base_uri": "https://localhost:8080/",
     "height": 49,
     "referenced_widgets": [
      "45ed90819a9344b9b836ee889f141b80",
      "72b2f27563e841ed835c9dfc1f46012b",
      "3eb85f043ca949118e602d258f23d9eb",
      "fe9caeb957ed40f0a6c8a5d885dc2254",
      "6ba33908fe38444492eb02c9fe3aa337",
      "76fb4bf7d1dc484c895eb8f44ac13564",
      "ec68a2c93eaf4ebdbc529926c222b8ef",
      "e3f6a43bc7d14fcc94e0d0adb0d6aa97",
      "aa53dc655f0b4547a4b26dda5326564b",
      "15db8a6d411e43c48eaf75e0696cbc16",
      "acfdad9fb5c6419e8cf9055cd26dacc3"
     ]
    },
    "executionInfo": {
     "elapsed": 1947,
     "status": "ok",
     "timestamp": 1638727243667,
     "user": {
      "displayName": "phattharanan nakwijit",
      "photoUrl": "https://lh3.googleusercontent.com/a-/AOh14GiIIxNe-uXeOWO7avIeHsrg7retrUGk_BMOtjg=s64",
      "userId": "03666715926437036675"
     },
     "user_tz": 0
    },
    "id": "rh-KH7HCH_Ku",
    "outputId": "2247421d-9681-4967-ffae-8edba14845c5"
   },
   "outputs": [
    {
     "data": {
      "application/vnd.jupyter.widget-view+json": {
       "model_id": "9e1cc938e8dc4d3dbc0ac70717d76c99",
       "version_major": 2,
       "version_minor": 0
      },
      "text/plain": [
       "  0%|          | 0/44697 [00:00<?, ?it/s]"
      ]
     },
     "metadata": {},
     "output_type": "display_data"
    }
   ],
   "source": [
    "set_wv_vectors(TOKEN, wv)"
   ]
  },
  {
   "cell_type": "code",
   "execution_count": 28,
   "metadata": {
    "executionInfo": {
     "elapsed": 406,
     "status": "ok",
     "timestamp": 1638727244067,
     "user": {
      "displayName": "phattharanan nakwijit",
      "photoUrl": "https://lh3.googleusercontent.com/a-/AOh14GiIIxNe-uXeOWO7avIeHsrg7retrUGk_BMOtjg=s64",
      "userId": "03666715926437036675"
     },
     "user_tz": 0
    },
    "id": "h_GDSnh3zoob"
   },
   "outputs": [],
   "source": [
    "del wv"
   ]
  },
  {
   "cell_type": "code",
   "execution_count": 29,
   "metadata": {
    "colab": {
     "base_uri": "https://localhost:8080/"
    },
    "executionInfo": {
     "elapsed": 5,
     "status": "ok",
     "timestamp": 1638727244067,
     "user": {
      "displayName": "phattharanan nakwijit",
      "photoUrl": "https://lh3.googleusercontent.com/a-/AOh14GiIIxNe-uXeOWO7avIeHsrg7retrUGk_BMOtjg=s64",
      "userId": "03666715926437036675"
     },
     "user_tz": 0
    },
    "id": "TVZ8o5AAztg0",
    "outputId": "7fa92e46-dfb5-474f-9e0a-cfcd37a30e88"
   },
   "outputs": [
    {
     "data": {
      "text/plain": [
       "0"
      ]
     },
     "execution_count": 29,
     "metadata": {},
     "output_type": "execute_result"
    }
   ],
   "source": [
    "import gc\n",
    "gc.collect()"
   ]
  },
  {
   "cell_type": "code",
   "execution_count": 30,
   "metadata": {
    "executionInfo": {
     "elapsed": 5,
     "status": "ok",
     "timestamp": 1638727244068,
     "user": {
      "displayName": "phattharanan nakwijit",
      "photoUrl": "https://lh3.googleusercontent.com/a-/AOh14GiIIxNe-uXeOWO7avIeHsrg7retrUGk_BMOtjg=s64",
      "userId": "03666715926437036675"
     },
     "user_tz": 0
    },
    "id": "LdiLcxWgH_2O"
   },
   "outputs": [],
   "source": [
    "train_iter, validation_iter, test_iter = data.BucketIterator.splits(\n",
    "    (datasets[\"train\"], datasets[\"validation\"], datasets[\"test\"]), \n",
    "\n",
    "    batch_size=args.batch_size, \n",
    "    \n",
    "    # Sort all examples in data using `sort_key`.\n",
    "    sort=True,\n",
    "    sort_key=lambda x: len(x.tokenized),\n",
    "    sort_within_batch=False,\n",
    "    shuffle=True,\n",
    "    \n",
    "    device=device)"
   ]
  },
  {
   "cell_type": "code",
   "execution_count": 31,
   "metadata": {
    "executionInfo": {
     "elapsed": 4,
     "status": "ok",
     "timestamp": 1638727244068,
     "user": {
      "displayName": "phattharanan nakwijit",
      "photoUrl": "https://lh3.googleusercontent.com/a-/AOh14GiIIxNe-uXeOWO7avIeHsrg7retrUGk_BMOtjg=s64",
      "userId": "03666715926437036675"
     },
     "user_tz": 0
    },
    "id": "yuk1Ym5KIZ1o"
   },
   "outputs": [],
   "source": [
    "def evaluate(loader, model, return_pred=False):\n",
    "    model.eval()\n",
    "    loader.sort = False\n",
    "    loader.sort_within_batch = False\n",
    "    loader.init_epoch()\n",
    "\n",
    "    # calculate accuracy on validation set\n",
    "    n_correct, n = 0, 0\n",
    "    losses = []\n",
    "    answers = []\n",
    "    with torch.no_grad():\n",
    "        for batch_idx, batch in enumerate(loader):\n",
    "            answer = model(batch)\n",
    "            answers.append((answer, batch.category))\n",
    "            n_correct += (torch.max(answer, 1)[1].view(batch.category.size()) == batch.category).sum().item()\n",
    "            n += answer.shape[0]\n",
    "            loss = criterion(answer, batch.category)\n",
    "            losses.append(loss.data.cpu().numpy())\n",
    "    acc = 100. * n_correct / n\n",
    "    loss = np.mean(losses)\n",
    "    \n",
    "    if not return_pred:\n",
    "        return acc, loss\n",
    "    \n",
    "    \n",
    "    predict = torch.cat([a for a,_ in answers])\n",
    "    labels = torch.cat([a for _,a in answers])\n",
    "    return acc, loss, predict, labels"
   ]
  },
  {
   "cell_type": "code",
   "execution_count": 32,
   "metadata": {
    "executionInfo": {
     "elapsed": 5,
     "status": "ok",
     "timestamp": 1638727244068,
     "user": {
      "displayName": "phattharanan nakwijit",
      "photoUrl": "https://lh3.googleusercontent.com/a-/AOh14GiIIxNe-uXeOWO7avIeHsrg7retrUGk_BMOtjg=s64",
      "userId": "03666715926437036675"
     },
     "user_tz": 0
    },
    "id": "Dq-WgDqKIbug"
   },
   "outputs": [],
   "source": [
    "class FeedForward(nn.Module):\n",
    "    def __init__(self, d_model, d_out, d_ff=256, dropout = 0.1):\n",
    "        super().__init__() \n",
    "        # We set d_ff as a default to 256\n",
    "        self.linear_1 = nn.Linear(d_model, d_ff)\n",
    "        self.dropout = nn.Dropout(dropout)\n",
    "        self.linear_2 = nn.Linear(d_ff, d_out)\n",
    "        \n",
    "    def forward(self, x):\n",
    "        x = self.dropout(F.relu(self.linear_1(x)))\n",
    "        x = self.linear_2(x)\n",
    "        return x\n",
    "\n",
    "class Classifier(nn.Module):\n",
    "\n",
    "    def __init__(self,\n",
    "                 n_embed=10000,\n",
    "                 d_embed=300,\n",
    "                 d_hidden=256,\n",
    "                 d_out=2,\n",
    "                 dp=0.2,\n",
    "                 embed_weight=None,\n",
    "                 eow_idx=2):\n",
    "        super(Classifier, self).__init__()\n",
    "\n",
    "        self.device = torch.device('cuda' if torch.cuda.is_available() else 'cpu')\n",
    "        self.embed = nn.Embedding(n_embed, d_embed)\n",
    "        \n",
    "        if embed_weight is not None:\n",
    "            # embed_weight = inputs.vocab.vectors\n",
    "            self.embed.weight.data.copy_(embed_weight)\n",
    "            self.embed.weight.requires_grad = False\n",
    "       \n",
    "        # self.norm = Norm(d_embed)\n",
    "        self.bilstm = torch.nn.LSTM(input_size=d_embed, hidden_size=d_hidden, num_layers=1, bidirectional=True, dropout=dp)\n",
    "        self.ff = FeedForward(2*d_hidden, d_out, d_hidden)\n",
    "        \n",
    "        self.dropout =  nn.Dropout(dp)\n",
    "\n",
    "    def forward(self, batch):\n",
    "        tokens = batch.tokenized  \n",
    "        # misp = batch.misp  \n",
    "        label = batch.category\n",
    "\n",
    "        w = self.embed(tokens)\n",
    "        # m = self.embed(misp)\n",
    "        # w = (w + m)/2\n",
    "        o, (h, c) = self.bilstm(w)\n",
    "        \n",
    "        x = torch.cat((h[0,:,:], h[1,:,:]), dim=1)\n",
    "        # x = self.norm(x)\n",
    "        x = self.ff(self.dropout(x))\n",
    "        \n",
    "        return x\n"
   ]
  },
  {
   "cell_type": "code",
   "execution_count": null,
   "metadata": {
    "executionInfo": {
     "elapsed": 5,
     "status": "ok",
     "timestamp": 1638727244069,
     "user": {
      "displayName": "phattharanan nakwijit",
      "photoUrl": "https://lh3.googleusercontent.com/a-/AOh14GiIIxNe-uXeOWO7avIeHsrg7retrUGk_BMOtjg=s64",
      "userId": "03666715926437036675"
     },
     "user_tz": 0
    },
    "id": "vK7xQ_lGIoIJ"
   },
   "outputs": [],
   "source": []
  },
  {
   "cell_type": "markdown",
   "metadata": {
    "id": "eKIEB_RqIr6p"
   },
   "source": [
    "### Train Model"
   ]
  },
  {
   "cell_type": "code",
   "execution_count": null,
   "metadata": {
    "executionInfo": {
     "elapsed": 5,
     "status": "ok",
     "timestamp": 1638727244069,
     "user": {
      "displayName": "phattharanan nakwijit",
      "photoUrl": "https://lh3.googleusercontent.com/a-/AOh14GiIIxNe-uXeOWO7avIeHsrg7retrUGk_BMOtjg=s64",
      "userId": "03666715926437036675"
     },
     "user_tz": 0
    },
    "id": "WePEx8ANKkTG"
   },
   "outputs": [],
   "source": []
  },
  {
   "cell_type": "code",
   "execution_count": 33,
   "metadata": {
    "executionInfo": {
     "elapsed": 295,
     "status": "ok",
     "timestamp": 1638727244360,
     "user": {
      "displayName": "phattharanan nakwijit",
      "photoUrl": "https://lh3.googleusercontent.com/a-/AOh14GiIIxNe-uXeOWO7avIeHsrg7retrUGk_BMOtjg=s64",
      "userId": "03666715926437036675"
     },
     "user_tz": 0
    },
    "id": "saeTtAPkItPZ"
   },
   "outputs": [],
   "source": [
    "from tqdm.notebook import tqdm\n",
    "import torch\n",
    "import torch.nn as nn\n",
    "import torch.nn.functional as F\n",
    "import json\n",
    "import pandas as pd\n",
    "\n",
    "import copy\n",
    "\n",
    "def train_model(train_iter, validation_iter):\n",
    "    n_embed = len(TOKEN.vocab)\n",
    "    d_out = len(CATEGORY.vocab)\n",
    "\n",
    "    model = Classifier(d_embed=args.d_embed, d_hidden=args.d_embed, d_out=d_out, dp=0.2, embed_weight=TOKEN.vocab.vectors, n_embed=n_embed)\n",
    "    model.to(device)\n",
    "\n",
    "    opt = optim.Adam(model.parameters(), lr=args.lr)\n",
    "\n",
    "    acc, val_loss = evaluate(validation_iter, model)\n",
    "    best_acc = acc\n",
    "\n",
    "#     print('epoch |   %        |  loss  |  avg   |val loss|   acc   |  best  | time | save |')\n",
    "#     print('val   |            |        |        | {:.4f} | {:.4f} | {:.4f} |      |      |'.format(val_loss, acc, best_acc))\n",
    "\n",
    "    iterations = 0\n",
    "    last_val_iter = 0\n",
    "    train_loss = 0\n",
    "    start = time.time()\n",
    "    \n",
    "    train_stat = []\n",
    "    best_model = model\n",
    "    with tqdm(total=args.epochs*len(train_iter)) as pbar:\n",
    "    \n",
    "      for epoch in range(args.epochs):\n",
    "          train_iter.init_epoch()\n",
    "          n_correct, n_total, train_loss = 0, 0, 0\n",
    "          last_val_iter = 0\n",
    "  #         print(epoch, end=' ')\n",
    "          for batch_idx, batch in enumerate(train_iter):\n",
    "              # switch model to training mode, clear gradient accumulators\n",
    "              model.train();\n",
    "              opt.zero_grad()\n",
    "\n",
    "              iterations += 1\n",
    "\n",
    "              # forward pass\n",
    "              answer = model(batch)\n",
    "              loss = criterion(answer, batch.category)\n",
    "\n",
    "              loss.backward();\n",
    "              opt.step()\n",
    "\n",
    "              train_loss += loss.item()\n",
    "  #             print('\\r {:4d} | {:4d}/{} | {:.4f} | {:.4f} |'.format(\n",
    "  #                 epoch, args.batch_size * (batch_idx + 1), len(train), loss.item(),\n",
    "  #                         train_loss / (iterations - last_val_iter)), end='')\n",
    "              \n",
    "              stat = {\n",
    "                  \"epoch\": epoch,\n",
    "                  \"step\": iterations,\n",
    "                  \"train_loss\": loss.item(),\n",
    "                  \"avg_loss\": train_loss / (iterations - last_val_iter)\n",
    "              }\n",
    "\n",
    "              if iterations > 0 and iterations % 10 == 0:\n",
    "                  acc, val_loss = evaluate(validation_iter, model)\n",
    "                  _save_ckp = '*'\n",
    "                  if acc > best_acc:\n",
    "                      best_acc = acc\n",
    "                      # torch.save(model.state_dict(), args.save_path)\n",
    "                      best_model = copy.deepcopy(model)\n",
    "\n",
    "\n",
    "  #                 print(\n",
    "  #                     ' {:.4f} | {:.4f} | {:.4f} | {:.2f} | {:4s} |'.format(\n",
    "  #                         val_loss, acc, best_acc, (time.time() - start) / 60,\n",
    "  #                         _save_ckp))\n",
    "\n",
    "                  train_loss = 0\n",
    "                  last_val_iter = iterations\n",
    "                  stat[\"val_loss\"] = val_loss\n",
    "                  stat[\"acc\"] = acc\n",
    "                  stat[\"best_acc\"] = best_acc\n",
    "                  stat[\"time\"] = (time.time() - start)\n",
    "          \n",
    "              \n",
    "              train_stat.append(stat)\n",
    "              pbar.update(1)\n",
    "    \n",
    "    model = best_model\n",
    "    acc, test_loss, predict, labels = evaluate(test_iter, model, return_pred=True)\n",
    "    print(acc, test_loss)\n",
    "\n",
    "    output = []\n",
    "    # _predict = predict.cpu().numpy()\n",
    "    # _labels = labels.cpu().numpy()\n",
    "    # for idx, t in enumerate(test):\n",
    "    #     output.append({\n",
    "    #         \"text\": t.text,\n",
    "    #         \"label\": t.category,\n",
    "    #         # \"tokens\": json.dumps(t.tokens, ensure_ascii=False),\n",
    "    #         \"predict\": json.dumps(_predict[idx].tolist(), ensure_ascii=False),\n",
    "    # #         \"_label\": _labels[idx]\n",
    "    #     })\n",
    "\n",
    "    output = pd.DataFrame(output)\n",
    "    # output.to_csv(f\"Mispelling/Outputs/{expname}_{tokenType}.csv\", index=False)\n",
    "    \n",
    "    train_stat = pd.DataFrame(train_stat)\n",
    "    # train_stat.to_csv(f\"Mispelling/Outputs/{expname}_{tokenType}_train_stat.csv\", index=False)\n",
    "    return model, output, train_stat"
   ]
  },
  {
   "cell_type": "code",
   "execution_count": 34,
   "metadata": {
    "colab": {
     "base_uri": "https://localhost:8080/"
    },
    "executionInfo": {
     "elapsed": 8,
     "status": "ok",
     "timestamp": 1638727244360,
     "user": {
      "displayName": "phattharanan nakwijit",
      "photoUrl": "https://lh3.googleusercontent.com/a-/AOh14GiIIxNe-uXeOWO7avIeHsrg7retrUGk_BMOtjg=s64",
      "userId": "03666715926437036675"
     },
     "user_tz": 0
    },
    "id": "3eaml5FS0-hj",
    "outputId": "127b7029-d398-41f9-8698-1246a66c0940"
   },
   "outputs": [
    {
     "data": {
      "text/plain": [
       "Namespace(batch_size=64, d_embed=100, dev_every=50, dp_ratio=0.2, epochs=100, lr=0.001, save_path='results')"
      ]
     },
     "execution_count": 34,
     "metadata": {},
     "output_type": "execute_result"
    }
   ],
   "source": [
    "args"
   ]
  },
  {
   "cell_type": "code",
   "execution_count": 35,
   "metadata": {
    "colab": {
     "base_uri": "https://localhost:8080/"
    },
    "executionInfo": {
     "elapsed": 5,
     "status": "ok",
     "timestamp": 1638727244361,
     "user": {
      "displayName": "phattharanan nakwijit",
      "photoUrl": "https://lh3.googleusercontent.com/a-/AOh14GiIIxNe-uXeOWO7avIeHsrg7retrUGk_BMOtjg=s64",
      "userId": "03666715926437036675"
     },
     "user_tz": 0
    },
    "id": "7vt7ry4RIyoI",
    "outputId": "fa13586e-5aaf-459d-cc48-50352b3e1e00"
   },
   "outputs": [
    {
     "name": "stdout",
     "output_type": "stream",
     "text": [
      "44697 4\n"
     ]
    }
   ],
   "source": [
    "n_embed = len(TOKEN.vocab)\n",
    "d_out = len(CATEGORY.vocab)\n",
    "print(n_embed, d_out)\n",
    "\n",
    "args.epochs = 100\n",
    "args.d_embed = 100"
   ]
  },
  {
   "cell_type": "code",
   "execution_count": 36,
   "metadata": {
    "colab": {
     "base_uri": "https://localhost:8080/",
     "height": 120,
     "referenced_widgets": [
      "67a04a20982c49adbaba12bce1fccf53",
      "3d43ec71e79647d788a05994eb5e0ead",
      "8e1f7b7a3e294754bb642221df8d503a",
      "2c6ea08d3be04a99a4d525f62b417a7b",
      "d44dcad2572d46f8bd9cf1b4a69370a7",
      "37e8c28ba69a4a85855661a66c4d03e1",
      "1095150e8d524c4594805dc35c4abd59",
      "680af0118f6b45aba98a964866361fca",
      "b42adc9765e54b598b611dee0bd250e4",
      "867bcf7f172b4995b582a6667c6c7b8c",
      "8264667cc87a4d0fa735989c56b94ec1"
     ]
    },
    "executionInfo": {
     "elapsed": 5119926,
     "status": "ok",
     "timestamp": 1638715638294,
     "user": {
      "displayName": "Herbal Balm Naka",
      "photoUrl": "https://lh3.googleusercontent.com/a/default-user=s64",
      "userId": "12988554728851446773"
     },
     "user_tz": 0
    },
    "id": "ZxdThFchKMyF",
    "outputId": "739a460f-95b1-471d-8cb3-0d86c93696c4"
   },
   "outputs": [
    {
     "name": "stderr",
     "output_type": "stream",
     "text": [
      "/home/imtk/.local/lib/python3.8/site-packages/torch/nn/modules/rnn.py:62: UserWarning: dropout option adds dropout after all but last recurrent layer, so non-zero dropout expects num_layers greater than 1, but got dropout=0.2 and num_layers=1\n",
      "  warnings.warn(\"dropout option adds dropout after all but last \"\n"
     ]
    },
    {
     "data": {
      "application/vnd.jupyter.widget-view+json": {
       "model_id": "90812cafdf0d4b1f80f1db7f5534da14",
       "version_major": 2,
       "version_minor": 0
      },
      "text/plain": [
       "  0%|          | 0/33800 [00:00<?, ?it/s]"
      ]
     },
     "metadata": {},
     "output_type": "display_data"
    },
    {
     "name": "stdout",
     "output_type": "stream",
     "text": [
      "68.10183451890677 0.8890685\n"
     ]
    }
   ],
   "source": [
    "model, output, train_stat = train_model(train_iter, validation_iter)"
   ]
  },
  {
   "cell_type": "code",
   "execution_count": 37,
   "metadata": {
    "id": "f13DRfD4K1yV"
   },
   "outputs": [],
   "source": [
    "test_iter, corr_iter, misp_iter = data.BucketIterator.splits(\n",
    "    (datasets[\"test\"], datasets[\"test-corr\"], datasets[\"test-misp\"]), \n",
    "\n",
    "    batch_size=args.batch_size, \n",
    "\n",
    "    # Sort all examples in data using `sort_key`.\n",
    "    sort=True,\n",
    "    sort_key=lambda x: len(x.tokenized),\n",
    "    sort_within_batch=False,\n",
    "    shuffle=True,\n",
    "    \n",
    "    device=device)"
   ]
  },
  {
   "cell_type": "code",
   "execution_count": 38,
   "metadata": {
    "colab": {
     "base_uri": "https://localhost:8080/"
    },
    "executionInfo": {
     "elapsed": 1530,
     "status": "ok",
     "timestamp": 1638715639822,
     "user": {
      "displayName": "Herbal Balm Naka",
      "photoUrl": "https://lh3.googleusercontent.com/a/default-user=s64",
      "userId": "12988554728851446773"
     },
     "user_tz": 0
    },
    "id": "7Q9UkWWDLBe9",
    "outputId": "ceabb56e-6799-4134-de0c-d2efcf056db7"
   },
   "outputs": [
    {
     "name": "stdout",
     "output_type": "stream",
     "text": [
      "Accuracy:  68.10183451890677\n"
     ]
    }
   ],
   "source": [
    "acc, test_loss, predict, labels = evaluate(test_iter, model, return_pred=True)\n",
    "print(\"Accuracy: \", acc)"
   ]
  },
  {
   "cell_type": "code",
   "execution_count": 39,
   "metadata": {
    "colab": {
     "base_uri": "https://localhost:8080/"
    },
    "executionInfo": {
     "elapsed": 510,
     "status": "ok",
     "timestamp": 1638715640324,
     "user": {
      "displayName": "Herbal Balm Naka",
      "photoUrl": "https://lh3.googleusercontent.com/a/default-user=s64",
      "userId": "12988554728851446773"
     },
     "user_tz": 0
    },
    "id": "49snI5qSLdHD",
    "outputId": "55558285-e02c-4cd4-9065-084c96c1fbd8"
   },
   "outputs": [
    {
     "name": "stdout",
     "output_type": "stream",
     "text": [
      "Accuracy:  64.77272727272727\n"
     ]
    }
   ],
   "source": [
    "acc, test_loss, predict, labels = evaluate(corr_iter, model, return_pred=True)\n",
    "print(\"Accuracy: \", acc)"
   ]
  },
  {
   "cell_type": "code",
   "execution_count": 40,
   "metadata": {
    "colab": {
     "base_uri": "https://localhost:8080/"
    },
    "executionInfo": {
     "elapsed": 465,
     "status": "ok",
     "timestamp": 1638715640784,
     "user": {
      "displayName": "Herbal Balm Naka",
      "photoUrl": "https://lh3.googleusercontent.com/a/default-user=s64",
      "userId": "12988554728851446773"
     },
     "user_tz": 0
    },
    "id": "T9x-EBxZLjqY",
    "outputId": "91eff4bc-7188-4aea-a755-e57846dd8fe5"
   },
   "outputs": [
    {
     "name": "stdout",
     "output_type": "stream",
     "text": [
      "Accuracy:  63.52272727272727\n"
     ]
    }
   ],
   "source": [
    "acc, test_loss, predict, labels = evaluate(misp_iter, model, return_pred=True)\n",
    "print(\"Accuracy: \", acc)"
   ]
  },
  {
   "cell_type": "markdown",
   "metadata": {
    "id": "Rht2EwJUMKLF"
   },
   "source": [
    "# Misspelling Average Embedding [MAE]"
   ]
  },
  {
   "cell_type": "code",
   "execution_count": 41,
   "metadata": {
    "id": "qtsB-3e56LBC"
   },
   "outputs": [],
   "source": [
    "class MAEClassifier(nn.Module):\n",
    "\n",
    "    def __init__(self, refModel):\n",
    "        super(MAEClassifier, self).__init__()\n",
    "\n",
    "        self.ref = refModel\n",
    "\n",
    "    def forward(self, batch):\n",
    "        tokens = batch.tokenized  \n",
    "        misp = batch.misp  \n",
    "        label = batch.category\n",
    "\n",
    "        w = self.ref.embed(tokens)\n",
    "        m = self.ref.embed(misp)\n",
    "        w = (w + m)/2\n",
    "        o, (h, c) = self.ref.bilstm(w)\n",
    "        \n",
    "        x = torch.cat((h[0,:,:], h[1,:,:]), dim=1)\n",
    "        x = self.ref.ff(self.ref.dropout(x))\n",
    "        return x\n"
   ]
  },
  {
   "cell_type": "code",
   "execution_count": 42,
   "metadata": {
    "id": "mF-AXByR6vn-"
   },
   "outputs": [],
   "source": [
    "maeModel = MAEClassifier(model)"
   ]
  },
  {
   "cell_type": "code",
   "execution_count": 43,
   "metadata": {
    "id": "mG37lIhiY915"
   },
   "outputs": [],
   "source": [
    "test_iter, corr_iter, misp_iter = data.BucketIterator.splits(\n",
    "    (MAEdatasets[\"test\"], MAEdatasets[\"test-corr\"], MAEdatasets[\"test-misp\"]), \n",
    "\n",
    "    batch_size=args.batch_size, \n",
    "\n",
    "    # Sort all examples in data using `sort_key`.\n",
    "    sort=True,\n",
    "    sort_key=lambda x: len(x.tokenized),\n",
    "    sort_within_batch=False,\n",
    "    shuffle=True,\n",
    "    \n",
    "    device=device)"
   ]
  },
  {
   "cell_type": "code",
   "execution_count": 44,
   "metadata": {
    "colab": {
     "base_uri": "https://localhost:8080/"
    },
    "executionInfo": {
     "elapsed": 9,
     "status": "ok",
     "timestamp": 1638716264777,
     "user": {
      "displayName": "Herbal Balm Naka",
      "photoUrl": "https://lh3.googleusercontent.com/a/default-user=s64",
      "userId": "12988554728851446773"
     },
     "user_tz": 0
    },
    "id": "th2gRoiUFakA",
    "outputId": "57050807-74b9-4f9f-c829-50509d865617"
   },
   "outputs": [
    {
     "data": {
      "text/plain": [
       "{'category': <torchtext.legacy.data.field.Field at 0x7fc5822c31c0>,\n",
       " 'tokenized': <torchtext.legacy.data.field.Field at 0x7fc5822c3160>,\n",
       " 'misp': <torchtext.legacy.data.field.Field at 0x7fc5822c3160>}"
      ]
     },
     "execution_count": 44,
     "metadata": {},
     "output_type": "execute_result"
    }
   ],
   "source": [
    "MAEdatasets[\"test\"].fields"
   ]
  },
  {
   "cell_type": "code",
   "execution_count": 45,
   "metadata": {
    "colab": {
     "base_uri": "https://localhost:8080/"
    },
    "executionInfo": {
     "elapsed": 1887,
     "status": "ok",
     "timestamp": 1638716267442,
     "user": {
      "displayName": "Herbal Balm Naka",
      "photoUrl": "https://lh3.googleusercontent.com/a/default-user=s64",
      "userId": "12988554728851446773"
     },
     "user_tz": 0
    },
    "id": "5dyhIklJ-JBO",
    "outputId": "4841b7a7-cf57-4adf-dc81-91ef759997a2"
   },
   "outputs": [
    {
     "name": "stdout",
     "output_type": "stream",
     "text": [
      "Accuracy:  68.36390864844627\n"
     ]
    }
   ],
   "source": [
    "acc, test_loss, predict, labels = evaluate(test_iter, maeModel, return_pred=True)\n",
    "print(\"Accuracy: \", acc)"
   ]
  },
  {
   "cell_type": "code",
   "execution_count": 46,
   "metadata": {
    "colab": {
     "base_uri": "https://localhost:8080/"
    },
    "executionInfo": {
     "elapsed": 1428,
     "status": "ok",
     "timestamp": 1638716271391,
     "user": {
      "displayName": "Herbal Balm Naka",
      "photoUrl": "https://lh3.googleusercontent.com/a/default-user=s64",
      "userId": "12988554728851446773"
     },
     "user_tz": 0
    },
    "id": "fsCHmlNI9Rrw",
    "outputId": "474a0cd9-bc74-4a8d-8d88-ece75586c4a1"
   },
   "outputs": [
    {
     "name": "stdout",
     "output_type": "stream",
     "text": [
      "Accuracy:  64.77272727272727\n"
     ]
    }
   ],
   "source": [
    "acc, test_loss, predict, labels = evaluate(corr_iter, maeModel, return_pred=True)\n",
    "print(\"Accuracy: \", acc)"
   ]
  },
  {
   "cell_type": "code",
   "execution_count": 47,
   "metadata": {
    "colab": {
     "base_uri": "https://localhost:8080/"
    },
    "executionInfo": {
     "elapsed": 561,
     "status": "ok",
     "timestamp": 1638716271950,
     "user": {
      "displayName": "Herbal Balm Naka",
      "photoUrl": "https://lh3.googleusercontent.com/a/default-user=s64",
      "userId": "12988554728851446773"
     },
     "user_tz": 0
    },
    "id": "pTLhd_rg7JD1",
    "outputId": "8bec91bc-5dd2-492d-e6a2-bbe62ed6bd96"
   },
   "outputs": [
    {
     "name": "stdout",
     "output_type": "stream",
     "text": [
      "Accuracy:  64.20454545454545\n"
     ]
    }
   ],
   "source": [
    "acc, test_loss, predict, labels = evaluate(misp_iter, maeModel, return_pred=True)\n",
    "print(\"Accuracy: \", acc)"
   ]
  },
  {
   "cell_type": "code",
   "execution_count": null,
   "metadata": {
    "id": "Gmvc0FLy-31u"
   },
   "outputs": [],
   "source": []
  },
  {
   "cell_type": "markdown",
   "metadata": {
    "id": "0G-duHBg7KPw"
   },
   "source": [
    "# Misspelling Semantics Tokens"
   ]
  },
  {
   "cell_type": "code",
   "execution_count": 48,
   "metadata": {
    "executionInfo": {
     "elapsed": 3,
     "status": "ok",
     "timestamp": 1638727244361,
     "user": {
      "displayName": "phattharanan nakwijit",
      "photoUrl": "https://lh3.googleusercontent.com/a-/AOh14GiIIxNe-uXeOWO7avIeHsrg7retrUGk_BMOtjg=s64",
      "userId": "03666715926437036675"
     },
     "user_tz": 0
    },
    "id": "oqnxm-uTMhPp"
   },
   "outputs": [],
   "source": [
    "train_iter, validation_iter, test_iter = data.BucketIterator.splits(\n",
    "    (MSTdatasets[\"train\"], MSTdatasets[\"validation\"], MSTdatasets[\"test\"]), \n",
    "\n",
    "    batch_size=args.batch_size, \n",
    "    \n",
    "    # Sort all examples in data using `sort_key`.\n",
    "    sort=True,\n",
    "    sort_key=lambda x: len(x.tokenized),\n",
    "    sort_within_batch=False,\n",
    "    shuffle=True,\n",
    "    \n",
    "    device=device)"
   ]
  },
  {
   "cell_type": "code",
   "execution_count": 49,
   "metadata": {
    "colab": {
     "base_uri": "https://localhost:8080/",
     "height": 120,
     "referenced_widgets": [
      "544a955ca6bd443fad3318656b33187e",
      "4e4a693cb9d042f9a31295815b261a80",
      "fbd2ae40d9e84d6f9a53b0d3027b8b0c",
      "d46d86746fe24240ae6ebf3683eff433",
      "18856095ba964dc09781fcc20a2214c9",
      "7164bb0df69649569a7ccdd3dcf56767",
      "56b67eb489354f94b9d3485542cb97e3",
      "bbd7932543c34a69a64ff2e76931488d",
      "4b153f3b51bd4b96b953927f12314861",
      "35405bfd52184c3d8505822e14a90639",
      "c070718ec654448da26be599cb543af4"
     ]
    },
    "executionInfo": {
     "elapsed": 5262816,
     "status": "ok",
     "timestamp": 1638732507174,
     "user": {
      "displayName": "phattharanan nakwijit",
      "photoUrl": "https://lh3.googleusercontent.com/a-/AOh14GiIIxNe-uXeOWO7avIeHsrg7retrUGk_BMOtjg=s64",
      "userId": "03666715926437036675"
     },
     "user_tz": 0
    },
    "id": "KupwYMDGMlaF",
    "outputId": "9bad6b91-a5d4-4a30-be1b-371572f1884f"
   },
   "outputs": [
    {
     "data": {
      "application/vnd.jupyter.widget-view+json": {
       "model_id": "61d4e55743eb46b1b7b93d2e883388be",
       "version_major": 2,
       "version_minor": 0
      },
      "text/plain": [
       "  0%|          | 0/33800 [00:00<?, ?it/s]"
      ]
     },
     "metadata": {},
     "output_type": "display_data"
    },
    {
     "name": "stdout",
     "output_type": "stream",
     "text": [
      "66.45451141894422 1.1065108\n"
     ]
    }
   ],
   "source": [
    "model, output, train_stat = train_model(train_iter, validation_iter)"
   ]
  },
  {
   "cell_type": "code",
   "execution_count": 50,
   "metadata": {
    "executionInfo": {
     "elapsed": 10,
     "status": "ok",
     "timestamp": 1638732507176,
     "user": {
      "displayName": "phattharanan nakwijit",
      "photoUrl": "https://lh3.googleusercontent.com/a-/AOh14GiIIxNe-uXeOWO7avIeHsrg7retrUGk_BMOtjg=s64",
      "userId": "03666715926437036675"
     },
     "user_tz": 0
    },
    "id": "w21LsLcpMzLj"
   },
   "outputs": [],
   "source": [
    "test_iter, corr_iter, misp_iter = data.BucketIterator.splits(\n",
    "    (MSTdatasets[\"test\"], MSTdatasets[\"test-corr\"], MSTdatasets[\"test-misp\"]), \n",
    "\n",
    "    batch_size=args.batch_size, \n",
    "\n",
    "    # Sort all examples in data using `sort_key`.\n",
    "    sort=True,\n",
    "    sort_key=lambda x: len(x.tokenized),\n",
    "    sort_within_batch=False,\n",
    "    shuffle=True,\n",
    "    \n",
    "    device=device)"
   ]
  },
  {
   "cell_type": "code",
   "execution_count": 51,
   "metadata": {
    "colab": {
     "base_uri": "https://localhost:8080/"
    },
    "executionInfo": {
     "elapsed": 1252,
     "status": "ok",
     "timestamp": 1638732508420,
     "user": {
      "displayName": "phattharanan nakwijit",
      "photoUrl": "https://lh3.googleusercontent.com/a-/AOh14GiIIxNe-uXeOWO7avIeHsrg7retrUGk_BMOtjg=s64",
      "userId": "03666715926437036675"
     },
     "user_tz": 0
    },
    "id": "KC4PcCCUM3rx",
    "outputId": "375d6073-4a14-4913-a150-ff0f95a16d73"
   },
   "outputs": [
    {
     "name": "stdout",
     "output_type": "stream",
     "text": [
      "Accuracy:  66.45451141894422\n"
     ]
    }
   ],
   "source": [
    "acc, test_loss, predict, labels = evaluate(test_iter, model, return_pred=True)\n",
    "print(\"Accuracy: \", acc)"
   ]
  },
  {
   "cell_type": "code",
   "execution_count": 52,
   "metadata": {
    "colab": {
     "base_uri": "https://localhost:8080/"
    },
    "executionInfo": {
     "elapsed": 897,
     "status": "ok",
     "timestamp": 1638732509316,
     "user": {
      "displayName": "phattharanan nakwijit",
      "photoUrl": "https://lh3.googleusercontent.com/a-/AOh14GiIIxNe-uXeOWO7avIeHsrg7retrUGk_BMOtjg=s64",
      "userId": "03666715926437036675"
     },
     "user_tz": 0
    },
    "id": "HYrihwMHM3xB",
    "outputId": "4399f61f-458e-4d77-b6bb-6e347de1cf25"
   },
   "outputs": [
    {
     "name": "stdout",
     "output_type": "stream",
     "text": [
      "Accuracy:  60.22727272727273\n"
     ]
    }
   ],
   "source": [
    "acc, test_loss, predict, labels = evaluate(corr_iter, model, return_pred=True)\n",
    "print(\"Accuracy: \", acc)"
   ]
  },
  {
   "cell_type": "code",
   "execution_count": 53,
   "metadata": {
    "colab": {
     "base_uri": "https://localhost:8080/"
    },
    "executionInfo": {
     "elapsed": 451,
     "status": "ok",
     "timestamp": 1638732509765,
     "user": {
      "displayName": "phattharanan nakwijit",
      "photoUrl": "https://lh3.googleusercontent.com/a-/AOh14GiIIxNe-uXeOWO7avIeHsrg7retrUGk_BMOtjg=s64",
      "userId": "03666715926437036675"
     },
     "user_tz": 0
    },
    "id": "Vs5TzBqIM32V",
    "outputId": "7b5efc5f-8e43-4241-f096-32652ce6262c"
   },
   "outputs": [
    {
     "name": "stdout",
     "output_type": "stream",
     "text": [
      "Accuracy:  60.22727272727273\n"
     ]
    }
   ],
   "source": [
    "acc, test_loss, predict, labels = evaluate(misp_iter, model, return_pred=True)\n",
    "print(\"Accuracy: \", acc)"
   ]
  },
  {
   "cell_type": "markdown",
   "metadata": {
    "id": "b_n6AVQwNBnl"
   },
   "source": [
    "# Both "
   ]
  },
  {
   "cell_type": "code",
   "execution_count": 54,
   "metadata": {
    "colab": {
     "base_uri": "https://localhost:8080/",
     "height": 163
    },
    "executionInfo": {
     "elapsed": 847,
     "status": "error",
     "timestamp": 1638732510579,
     "user": {
      "displayName": "phattharanan nakwijit",
      "photoUrl": "https://lh3.googleusercontent.com/a-/AOh14GiIIxNe-uXeOWO7avIeHsrg7retrUGk_BMOtjg=s64",
      "userId": "03666715926437036675"
     },
     "user_tz": 0
    },
    "id": "uL1MlACQNIbX",
    "outputId": "0115134c-bdf3-4dc7-867b-df23eef586df"
   },
   "outputs": [],
   "source": [
    "maeModel = MAEClassifier(model)"
   ]
  },
  {
   "cell_type": "code",
   "execution_count": 55,
   "metadata": {
    "executionInfo": {
     "elapsed": 471,
     "status": "aborted",
     "timestamp": 1638732510209,
     "user": {
      "displayName": "phattharanan nakwijit",
      "photoUrl": "https://lh3.googleusercontent.com/a-/AOh14GiIIxNe-uXeOWO7avIeHsrg7retrUGk_BMOtjg=s64",
      "userId": "03666715926437036675"
     },
     "user_tz": 0
    },
    "id": "w9ScQ1eQNDZ3"
   },
   "outputs": [],
   "source": [
    "test_iter, corr_iter, misp_iter = data.BucketIterator.splits(\n",
    "    (BOTHdataset[\"test\"], BOTHdataset[\"test-corr\"], BOTHdataset[\"test-misp\"]), \n",
    "\n",
    "    batch_size=args.batch_size, \n",
    "\n",
    "    # Sort all examples in data using `sort_key`.\n",
    "    sort=True,\n",
    "    sort_key=lambda x: len(x.tokenized),\n",
    "    sort_within_batch=False,\n",
    "    shuffle=True,\n",
    "    \n",
    "    device=device)"
   ]
  },
  {
   "cell_type": "code",
   "execution_count": 56,
   "metadata": {
    "executionInfo": {
     "elapsed": 473,
     "status": "aborted",
     "timestamp": 1638732510211,
     "user": {
      "displayName": "phattharanan nakwijit",
      "photoUrl": "https://lh3.googleusercontent.com/a-/AOh14GiIIxNe-uXeOWO7avIeHsrg7retrUGk_BMOtjg=s64",
      "userId": "03666715926437036675"
     },
     "user_tz": 0
    },
    "id": "tCk7RriINPQj"
   },
   "outputs": [
    {
     "name": "stdout",
     "output_type": "stream",
     "text": [
      "Accuracy:  66.19243728940472\n"
     ]
    }
   ],
   "source": [
    "acc, test_loss, predict, labels = evaluate(test_iter, maeModel, return_pred=True)\n",
    "print(\"Accuracy: \", acc)"
   ]
  },
  {
   "cell_type": "code",
   "execution_count": 57,
   "metadata": {
    "executionInfo": {
     "elapsed": 473,
     "status": "aborted",
     "timestamp": 1638732510212,
     "user": {
      "displayName": "phattharanan nakwijit",
      "photoUrl": "https://lh3.googleusercontent.com/a-/AOh14GiIIxNe-uXeOWO7avIeHsrg7retrUGk_BMOtjg=s64",
      "userId": "03666715926437036675"
     },
     "user_tz": 0
    },
    "id": "SprVk1BiNPTT"
   },
   "outputs": [
    {
     "name": "stdout",
     "output_type": "stream",
     "text": [
      "Accuracy:  60.11363636363637\n"
     ]
    }
   ],
   "source": [
    "acc, test_loss, predict, labels = evaluate(corr_iter, maeModel, return_pred=True)\n",
    "print(\"Accuracy: \", acc)"
   ]
  },
  {
   "cell_type": "code",
   "execution_count": 58,
   "metadata": {
    "executionInfo": {
     "elapsed": 474,
     "status": "aborted",
     "timestamp": 1638732510213,
     "user": {
      "displayName": "phattharanan nakwijit",
      "photoUrl": "https://lh3.googleusercontent.com/a-/AOh14GiIIxNe-uXeOWO7avIeHsrg7retrUGk_BMOtjg=s64",
      "userId": "03666715926437036675"
     },
     "user_tz": 0
    },
    "id": "bq4bBDNNNPWU"
   },
   "outputs": [
    {
     "name": "stdout",
     "output_type": "stream",
     "text": [
      "Accuracy:  60.45454545454545\n"
     ]
    }
   ],
   "source": [
    "acc, test_loss, predict, labels = evaluate(misp_iter, maeModel, return_pred=True)\n",
    "print(\"Accuracy: \", acc)"
   ]
  },
  {
   "cell_type": "code",
   "execution_count": 80,
   "metadata": {},
   "outputs": [],
   "source": [
    "# train_stat.val_loss.dropna().plot.line(figsize=(15,5))"
   ]
  },
  {
   "cell_type": "code",
   "execution_count": null,
   "metadata": {},
   "outputs": [],
   "source": []
  }
 ],
 "metadata": {
  "accelerator": "GPU",
  "colab": {
   "collapsed_sections": [],
   "name": "Train LSTM on FastText [Exp3: VEC+MST].ipynb",
   "provenance": []
  },
  "kernelspec": {
   "display_name": "Python 3 (ipykernel)",
   "language": "python",
   "name": "python3"
  },
  "language_info": {
   "codemirror_mode": {
    "name": "ipython",
    "version": 3
   },
   "file_extension": ".py",
   "mimetype": "text/x-python",
   "name": "python",
   "nbconvert_exporter": "python",
   "pygments_lexer": "ipython3",
   "version": "3.8.10"
  },
  "widgets": {
   "application/vnd.jupyter.widget-state+json": {
    "1095150e8d524c4594805dc35c4abd59": {
     "model_module": "@jupyter-widgets/base",
     "model_module_version": "1.2.0",
     "model_name": "LayoutModel",
     "state": {
      "_model_module": "@jupyter-widgets/base",
      "_model_module_version": "1.2.0",
      "_model_name": "LayoutModel",
      "_view_count": null,
      "_view_module": "@jupyter-widgets/base",
      "_view_module_version": "1.2.0",
      "_view_name": "LayoutView",
      "align_content": null,
      "align_items": null,
      "align_self": null,
      "border": null,
      "bottom": null,
      "display": null,
      "flex": null,
      "flex_flow": null,
      "grid_area": null,
      "grid_auto_columns": null,
      "grid_auto_flow": null,
      "grid_auto_rows": null,
      "grid_column": null,
      "grid_gap": null,
      "grid_row": null,
      "grid_template_areas": null,
      "grid_template_columns": null,
      "grid_template_rows": null,
      "height": null,
      "justify_content": null,
      "justify_items": null,
      "left": null,
      "margin": null,
      "max_height": null,
      "max_width": null,
      "min_height": null,
      "min_width": null,
      "object_fit": null,
      "object_position": null,
      "order": null,
      "overflow": null,
      "overflow_x": null,
      "overflow_y": null,
      "padding": null,
      "right": null,
      "top": null,
      "visibility": null,
      "width": null
     }
    },
    "15db8a6d411e43c48eaf75e0696cbc16": {
     "model_module": "@jupyter-widgets/controls",
     "model_module_version": "1.5.0",
     "model_name": "DescriptionStyleModel",
     "state": {
      "_model_module": "@jupyter-widgets/controls",
      "_model_module_version": "1.5.0",
      "_model_name": "DescriptionStyleModel",
      "_view_count": null,
      "_view_module": "@jupyter-widgets/base",
      "_view_module_version": "1.2.0",
      "_view_name": "StyleView",
      "description_width": ""
     }
    },
    "18856095ba964dc09781fcc20a2214c9": {
     "model_module": "@jupyter-widgets/controls",
     "model_module_version": "1.5.0",
     "model_name": "HTMLModel",
     "state": {
      "_dom_classes": [],
      "_model_module": "@jupyter-widgets/controls",
      "_model_module_version": "1.5.0",
      "_model_name": "HTMLModel",
      "_view_count": null,
      "_view_module": "@jupyter-widgets/controls",
      "_view_module_version": "1.5.0",
      "_view_name": "HTMLView",
      "description": "",
      "description_tooltip": null,
      "layout": "IPY_MODEL_c070718ec654448da26be599cb543af4",
      "placeholder": "​",
      "style": "IPY_MODEL_35405bfd52184c3d8505822e14a90639",
      "value": " 33800/33800 [1:27:30&lt;00:00,  1.87it/s]"
     }
    },
    "2c6ea08d3be04a99a4d525f62b417a7b": {
     "model_module": "@jupyter-widgets/controls",
     "model_module_version": "1.5.0",
     "model_name": "FloatProgressModel",
     "state": {
      "_dom_classes": [],
      "_model_module": "@jupyter-widgets/controls",
      "_model_module_version": "1.5.0",
      "_model_name": "FloatProgressModel",
      "_view_count": null,
      "_view_module": "@jupyter-widgets/controls",
      "_view_module_version": "1.5.0",
      "_view_name": "ProgressView",
      "bar_style": "success",
      "description": "",
      "description_tooltip": null,
      "layout": "IPY_MODEL_b42adc9765e54b598b611dee0bd250e4",
      "max": 33800,
      "min": 0,
      "orientation": "horizontal",
      "style": "IPY_MODEL_680af0118f6b45aba98a964866361fca",
      "value": 33800
     }
    },
    "35405bfd52184c3d8505822e14a90639": {
     "model_module": "@jupyter-widgets/controls",
     "model_module_version": "1.5.0",
     "model_name": "DescriptionStyleModel",
     "state": {
      "_model_module": "@jupyter-widgets/controls",
      "_model_module_version": "1.5.0",
      "_model_name": "DescriptionStyleModel",
      "_view_count": null,
      "_view_module": "@jupyter-widgets/base",
      "_view_module_version": "1.2.0",
      "_view_name": "StyleView",
      "description_width": ""
     }
    },
    "37e8c28ba69a4a85855661a66c4d03e1": {
     "model_module": "@jupyter-widgets/controls",
     "model_module_version": "1.5.0",
     "model_name": "DescriptionStyleModel",
     "state": {
      "_model_module": "@jupyter-widgets/controls",
      "_model_module_version": "1.5.0",
      "_model_name": "DescriptionStyleModel",
      "_view_count": null,
      "_view_module": "@jupyter-widgets/base",
      "_view_module_version": "1.2.0",
      "_view_name": "StyleView",
      "description_width": ""
     }
    },
    "3d43ec71e79647d788a05994eb5e0ead": {
     "model_module": "@jupyter-widgets/base",
     "model_module_version": "1.2.0",
     "model_name": "LayoutModel",
     "state": {
      "_model_module": "@jupyter-widgets/base",
      "_model_module_version": "1.2.0",
      "_model_name": "LayoutModel",
      "_view_count": null,
      "_view_module": "@jupyter-widgets/base",
      "_view_module_version": "1.2.0",
      "_view_name": "LayoutView",
      "align_content": null,
      "align_items": null,
      "align_self": null,
      "border": null,
      "bottom": null,
      "display": null,
      "flex": null,
      "flex_flow": null,
      "grid_area": null,
      "grid_auto_columns": null,
      "grid_auto_flow": null,
      "grid_auto_rows": null,
      "grid_column": null,
      "grid_gap": null,
      "grid_row": null,
      "grid_template_areas": null,
      "grid_template_columns": null,
      "grid_template_rows": null,
      "height": null,
      "justify_content": null,
      "justify_items": null,
      "left": null,
      "margin": null,
      "max_height": null,
      "max_width": null,
      "min_height": null,
      "min_width": null,
      "object_fit": null,
      "object_position": null,
      "order": null,
      "overflow": null,
      "overflow_x": null,
      "overflow_y": null,
      "padding": null,
      "right": null,
      "top": null,
      "visibility": null,
      "width": null
     }
    },
    "3eb85f043ca949118e602d258f23d9eb": {
     "model_module": "@jupyter-widgets/controls",
     "model_module_version": "1.5.0",
     "model_name": "HTMLModel",
     "state": {
      "_dom_classes": [],
      "_model_module": "@jupyter-widgets/controls",
      "_model_module_version": "1.5.0",
      "_model_name": "HTMLModel",
      "_view_count": null,
      "_view_module": "@jupyter-widgets/controls",
      "_view_module_version": "1.5.0",
      "_view_name": "HTMLView",
      "description": "",
      "description_tooltip": null,
      "layout": "IPY_MODEL_ec68a2c93eaf4ebdbc529926c222b8ef",
      "placeholder": "​",
      "style": "IPY_MODEL_76fb4bf7d1dc484c895eb8f44ac13564",
      "value": "100%"
     }
    },
    "45ed90819a9344b9b836ee889f141b80": {
     "model_module": "@jupyter-widgets/controls",
     "model_module_version": "1.5.0",
     "model_name": "HBoxModel",
     "state": {
      "_dom_classes": [],
      "_model_module": "@jupyter-widgets/controls",
      "_model_module_version": "1.5.0",
      "_model_name": "HBoxModel",
      "_view_count": null,
      "_view_module": "@jupyter-widgets/controls",
      "_view_module_version": "1.5.0",
      "_view_name": "HBoxView",
      "box_style": "",
      "children": [
       "IPY_MODEL_3eb85f043ca949118e602d258f23d9eb",
       "IPY_MODEL_fe9caeb957ed40f0a6c8a5d885dc2254",
       "IPY_MODEL_6ba33908fe38444492eb02c9fe3aa337"
      ],
      "layout": "IPY_MODEL_72b2f27563e841ed835c9dfc1f46012b"
     }
    },
    "4b153f3b51bd4b96b953927f12314861": {
     "model_module": "@jupyter-widgets/base",
     "model_module_version": "1.2.0",
     "model_name": "LayoutModel",
     "state": {
      "_model_module": "@jupyter-widgets/base",
      "_model_module_version": "1.2.0",
      "_model_name": "LayoutModel",
      "_view_count": null,
      "_view_module": "@jupyter-widgets/base",
      "_view_module_version": "1.2.0",
      "_view_name": "LayoutView",
      "align_content": null,
      "align_items": null,
      "align_self": null,
      "border": null,
      "bottom": null,
      "display": null,
      "flex": null,
      "flex_flow": null,
      "grid_area": null,
      "grid_auto_columns": null,
      "grid_auto_flow": null,
      "grid_auto_rows": null,
      "grid_column": null,
      "grid_gap": null,
      "grid_row": null,
      "grid_template_areas": null,
      "grid_template_columns": null,
      "grid_template_rows": null,
      "height": null,
      "justify_content": null,
      "justify_items": null,
      "left": null,
      "margin": null,
      "max_height": null,
      "max_width": null,
      "min_height": null,
      "min_width": null,
      "object_fit": null,
      "object_position": null,
      "order": null,
      "overflow": null,
      "overflow_x": null,
      "overflow_y": null,
      "padding": null,
      "right": null,
      "top": null,
      "visibility": null,
      "width": null
     }
    },
    "4e4a693cb9d042f9a31295815b261a80": {
     "model_module": "@jupyter-widgets/base",
     "model_module_version": "1.2.0",
     "model_name": "LayoutModel",
     "state": {
      "_model_module": "@jupyter-widgets/base",
      "_model_module_version": "1.2.0",
      "_model_name": "LayoutModel",
      "_view_count": null,
      "_view_module": "@jupyter-widgets/base",
      "_view_module_version": "1.2.0",
      "_view_name": "LayoutView",
      "align_content": null,
      "align_items": null,
      "align_self": null,
      "border": null,
      "bottom": null,
      "display": null,
      "flex": null,
      "flex_flow": null,
      "grid_area": null,
      "grid_auto_columns": null,
      "grid_auto_flow": null,
      "grid_auto_rows": null,
      "grid_column": null,
      "grid_gap": null,
      "grid_row": null,
      "grid_template_areas": null,
      "grid_template_columns": null,
      "grid_template_rows": null,
      "height": null,
      "justify_content": null,
      "justify_items": null,
      "left": null,
      "margin": null,
      "max_height": null,
      "max_width": null,
      "min_height": null,
      "min_width": null,
      "object_fit": null,
      "object_position": null,
      "order": null,
      "overflow": null,
      "overflow_x": null,
      "overflow_y": null,
      "padding": null,
      "right": null,
      "top": null,
      "visibility": null,
      "width": null
     }
    },
    "544a955ca6bd443fad3318656b33187e": {
     "model_module": "@jupyter-widgets/controls",
     "model_module_version": "1.5.0",
     "model_name": "HBoxModel",
     "state": {
      "_dom_classes": [],
      "_model_module": "@jupyter-widgets/controls",
      "_model_module_version": "1.5.0",
      "_model_name": "HBoxModel",
      "_view_count": null,
      "_view_module": "@jupyter-widgets/controls",
      "_view_module_version": "1.5.0",
      "_view_name": "HBoxView",
      "box_style": "",
      "children": [
       "IPY_MODEL_fbd2ae40d9e84d6f9a53b0d3027b8b0c",
       "IPY_MODEL_d46d86746fe24240ae6ebf3683eff433",
       "IPY_MODEL_18856095ba964dc09781fcc20a2214c9"
      ],
      "layout": "IPY_MODEL_4e4a693cb9d042f9a31295815b261a80"
     }
    },
    "56b67eb489354f94b9d3485542cb97e3": {
     "model_module": "@jupyter-widgets/base",
     "model_module_version": "1.2.0",
     "model_name": "LayoutModel",
     "state": {
      "_model_module": "@jupyter-widgets/base",
      "_model_module_version": "1.2.0",
      "_model_name": "LayoutModel",
      "_view_count": null,
      "_view_module": "@jupyter-widgets/base",
      "_view_module_version": "1.2.0",
      "_view_name": "LayoutView",
      "align_content": null,
      "align_items": null,
      "align_self": null,
      "border": null,
      "bottom": null,
      "display": null,
      "flex": null,
      "flex_flow": null,
      "grid_area": null,
      "grid_auto_columns": null,
      "grid_auto_flow": null,
      "grid_auto_rows": null,
      "grid_column": null,
      "grid_gap": null,
      "grid_row": null,
      "grid_template_areas": null,
      "grid_template_columns": null,
      "grid_template_rows": null,
      "height": null,
      "justify_content": null,
      "justify_items": null,
      "left": null,
      "margin": null,
      "max_height": null,
      "max_width": null,
      "min_height": null,
      "min_width": null,
      "object_fit": null,
      "object_position": null,
      "order": null,
      "overflow": null,
      "overflow_x": null,
      "overflow_y": null,
      "padding": null,
      "right": null,
      "top": null,
      "visibility": null,
      "width": null
     }
    },
    "67a04a20982c49adbaba12bce1fccf53": {
     "model_module": "@jupyter-widgets/controls",
     "model_module_version": "1.5.0",
     "model_name": "HBoxModel",
     "state": {
      "_dom_classes": [],
      "_model_module": "@jupyter-widgets/controls",
      "_model_module_version": "1.5.0",
      "_model_name": "HBoxModel",
      "_view_count": null,
      "_view_module": "@jupyter-widgets/controls",
      "_view_module_version": "1.5.0",
      "_view_name": "HBoxView",
      "box_style": "",
      "children": [
       "IPY_MODEL_8e1f7b7a3e294754bb642221df8d503a",
       "IPY_MODEL_2c6ea08d3be04a99a4d525f62b417a7b",
       "IPY_MODEL_d44dcad2572d46f8bd9cf1b4a69370a7"
      ],
      "layout": "IPY_MODEL_3d43ec71e79647d788a05994eb5e0ead"
     }
    },
    "680af0118f6b45aba98a964866361fca": {
     "model_module": "@jupyter-widgets/controls",
     "model_module_version": "1.5.0",
     "model_name": "ProgressStyleModel",
     "state": {
      "_model_module": "@jupyter-widgets/controls",
      "_model_module_version": "1.5.0",
      "_model_name": "ProgressStyleModel",
      "_view_count": null,
      "_view_module": "@jupyter-widgets/base",
      "_view_module_version": "1.2.0",
      "_view_name": "StyleView",
      "bar_color": null,
      "description_width": ""
     }
    },
    "6ba33908fe38444492eb02c9fe3aa337": {
     "model_module": "@jupyter-widgets/controls",
     "model_module_version": "1.5.0",
     "model_name": "HTMLModel",
     "state": {
      "_dom_classes": [],
      "_model_module": "@jupyter-widgets/controls",
      "_model_module_version": "1.5.0",
      "_model_name": "HTMLModel",
      "_view_count": null,
      "_view_module": "@jupyter-widgets/controls",
      "_view_module_version": "1.5.0",
      "_view_name": "HTMLView",
      "description": "",
      "description_tooltip": null,
      "layout": "IPY_MODEL_acfdad9fb5c6419e8cf9055cd26dacc3",
      "placeholder": "​",
      "style": "IPY_MODEL_15db8a6d411e43c48eaf75e0696cbc16",
      "value": " 44697/44697 [00:01&lt;00:00, 28837.45it/s]"
     }
    },
    "7164bb0df69649569a7ccdd3dcf56767": {
     "model_module": "@jupyter-widgets/controls",
     "model_module_version": "1.5.0",
     "model_name": "DescriptionStyleModel",
     "state": {
      "_model_module": "@jupyter-widgets/controls",
      "_model_module_version": "1.5.0",
      "_model_name": "DescriptionStyleModel",
      "_view_count": null,
      "_view_module": "@jupyter-widgets/base",
      "_view_module_version": "1.2.0",
      "_view_name": "StyleView",
      "description_width": ""
     }
    },
    "72b2f27563e841ed835c9dfc1f46012b": {
     "model_module": "@jupyter-widgets/base",
     "model_module_version": "1.2.0",
     "model_name": "LayoutModel",
     "state": {
      "_model_module": "@jupyter-widgets/base",
      "_model_module_version": "1.2.0",
      "_model_name": "LayoutModel",
      "_view_count": null,
      "_view_module": "@jupyter-widgets/base",
      "_view_module_version": "1.2.0",
      "_view_name": "LayoutView",
      "align_content": null,
      "align_items": null,
      "align_self": null,
      "border": null,
      "bottom": null,
      "display": null,
      "flex": null,
      "flex_flow": null,
      "grid_area": null,
      "grid_auto_columns": null,
      "grid_auto_flow": null,
      "grid_auto_rows": null,
      "grid_column": null,
      "grid_gap": null,
      "grid_row": null,
      "grid_template_areas": null,
      "grid_template_columns": null,
      "grid_template_rows": null,
      "height": null,
      "justify_content": null,
      "justify_items": null,
      "left": null,
      "margin": null,
      "max_height": null,
      "max_width": null,
      "min_height": null,
      "min_width": null,
      "object_fit": null,
      "object_position": null,
      "order": null,
      "overflow": null,
      "overflow_x": null,
      "overflow_y": null,
      "padding": null,
      "right": null,
      "top": null,
      "visibility": null,
      "width": null
     }
    },
    "76fb4bf7d1dc484c895eb8f44ac13564": {
     "model_module": "@jupyter-widgets/controls",
     "model_module_version": "1.5.0",
     "model_name": "DescriptionStyleModel",
     "state": {
      "_model_module": "@jupyter-widgets/controls",
      "_model_module_version": "1.5.0",
      "_model_name": "DescriptionStyleModel",
      "_view_count": null,
      "_view_module": "@jupyter-widgets/base",
      "_view_module_version": "1.2.0",
      "_view_name": "StyleView",
      "description_width": ""
     }
    },
    "8264667cc87a4d0fa735989c56b94ec1": {
     "model_module": "@jupyter-widgets/base",
     "model_module_version": "1.2.0",
     "model_name": "LayoutModel",
     "state": {
      "_model_module": "@jupyter-widgets/base",
      "_model_module_version": "1.2.0",
      "_model_name": "LayoutModel",
      "_view_count": null,
      "_view_module": "@jupyter-widgets/base",
      "_view_module_version": "1.2.0",
      "_view_name": "LayoutView",
      "align_content": null,
      "align_items": null,
      "align_self": null,
      "border": null,
      "bottom": null,
      "display": null,
      "flex": null,
      "flex_flow": null,
      "grid_area": null,
      "grid_auto_columns": null,
      "grid_auto_flow": null,
      "grid_auto_rows": null,
      "grid_column": null,
      "grid_gap": null,
      "grid_row": null,
      "grid_template_areas": null,
      "grid_template_columns": null,
      "grid_template_rows": null,
      "height": null,
      "justify_content": null,
      "justify_items": null,
      "left": null,
      "margin": null,
      "max_height": null,
      "max_width": null,
      "min_height": null,
      "min_width": null,
      "object_fit": null,
      "object_position": null,
      "order": null,
      "overflow": null,
      "overflow_x": null,
      "overflow_y": null,
      "padding": null,
      "right": null,
      "top": null,
      "visibility": null,
      "width": null
     }
    },
    "867bcf7f172b4995b582a6667c6c7b8c": {
     "model_module": "@jupyter-widgets/controls",
     "model_module_version": "1.5.0",
     "model_name": "DescriptionStyleModel",
     "state": {
      "_model_module": "@jupyter-widgets/controls",
      "_model_module_version": "1.5.0",
      "_model_name": "DescriptionStyleModel",
      "_view_count": null,
      "_view_module": "@jupyter-widgets/base",
      "_view_module_version": "1.2.0",
      "_view_name": "StyleView",
      "description_width": ""
     }
    },
    "8e1f7b7a3e294754bb642221df8d503a": {
     "model_module": "@jupyter-widgets/controls",
     "model_module_version": "1.5.0",
     "model_name": "HTMLModel",
     "state": {
      "_dom_classes": [],
      "_model_module": "@jupyter-widgets/controls",
      "_model_module_version": "1.5.0",
      "_model_name": "HTMLModel",
      "_view_count": null,
      "_view_module": "@jupyter-widgets/controls",
      "_view_module_version": "1.5.0",
      "_view_name": "HTMLView",
      "description": "",
      "description_tooltip": null,
      "layout": "IPY_MODEL_1095150e8d524c4594805dc35c4abd59",
      "placeholder": "​",
      "style": "IPY_MODEL_37e8c28ba69a4a85855661a66c4d03e1",
      "value": "100%"
     }
    },
    "aa53dc655f0b4547a4b26dda5326564b": {
     "model_module": "@jupyter-widgets/base",
     "model_module_version": "1.2.0",
     "model_name": "LayoutModel",
     "state": {
      "_model_module": "@jupyter-widgets/base",
      "_model_module_version": "1.2.0",
      "_model_name": "LayoutModel",
      "_view_count": null,
      "_view_module": "@jupyter-widgets/base",
      "_view_module_version": "1.2.0",
      "_view_name": "LayoutView",
      "align_content": null,
      "align_items": null,
      "align_self": null,
      "border": null,
      "bottom": null,
      "display": null,
      "flex": null,
      "flex_flow": null,
      "grid_area": null,
      "grid_auto_columns": null,
      "grid_auto_flow": null,
      "grid_auto_rows": null,
      "grid_column": null,
      "grid_gap": null,
      "grid_row": null,
      "grid_template_areas": null,
      "grid_template_columns": null,
      "grid_template_rows": null,
      "height": null,
      "justify_content": null,
      "justify_items": null,
      "left": null,
      "margin": null,
      "max_height": null,
      "max_width": null,
      "min_height": null,
      "min_width": null,
      "object_fit": null,
      "object_position": null,
      "order": null,
      "overflow": null,
      "overflow_x": null,
      "overflow_y": null,
      "padding": null,
      "right": null,
      "top": null,
      "visibility": null,
      "width": null
     }
    },
    "acfdad9fb5c6419e8cf9055cd26dacc3": {
     "model_module": "@jupyter-widgets/base",
     "model_module_version": "1.2.0",
     "model_name": "LayoutModel",
     "state": {
      "_model_module": "@jupyter-widgets/base",
      "_model_module_version": "1.2.0",
      "_model_name": "LayoutModel",
      "_view_count": null,
      "_view_module": "@jupyter-widgets/base",
      "_view_module_version": "1.2.0",
      "_view_name": "LayoutView",
      "align_content": null,
      "align_items": null,
      "align_self": null,
      "border": null,
      "bottom": null,
      "display": null,
      "flex": null,
      "flex_flow": null,
      "grid_area": null,
      "grid_auto_columns": null,
      "grid_auto_flow": null,
      "grid_auto_rows": null,
      "grid_column": null,
      "grid_gap": null,
      "grid_row": null,
      "grid_template_areas": null,
      "grid_template_columns": null,
      "grid_template_rows": null,
      "height": null,
      "justify_content": null,
      "justify_items": null,
      "left": null,
      "margin": null,
      "max_height": null,
      "max_width": null,
      "min_height": null,
      "min_width": null,
      "object_fit": null,
      "object_position": null,
      "order": null,
      "overflow": null,
      "overflow_x": null,
      "overflow_y": null,
      "padding": null,
      "right": null,
      "top": null,
      "visibility": null,
      "width": null
     }
    },
    "b42adc9765e54b598b611dee0bd250e4": {
     "model_module": "@jupyter-widgets/base",
     "model_module_version": "1.2.0",
     "model_name": "LayoutModel",
     "state": {
      "_model_module": "@jupyter-widgets/base",
      "_model_module_version": "1.2.0",
      "_model_name": "LayoutModel",
      "_view_count": null,
      "_view_module": "@jupyter-widgets/base",
      "_view_module_version": "1.2.0",
      "_view_name": "LayoutView",
      "align_content": null,
      "align_items": null,
      "align_self": null,
      "border": null,
      "bottom": null,
      "display": null,
      "flex": null,
      "flex_flow": null,
      "grid_area": null,
      "grid_auto_columns": null,
      "grid_auto_flow": null,
      "grid_auto_rows": null,
      "grid_column": null,
      "grid_gap": null,
      "grid_row": null,
      "grid_template_areas": null,
      "grid_template_columns": null,
      "grid_template_rows": null,
      "height": null,
      "justify_content": null,
      "justify_items": null,
      "left": null,
      "margin": null,
      "max_height": null,
      "max_width": null,
      "min_height": null,
      "min_width": null,
      "object_fit": null,
      "object_position": null,
      "order": null,
      "overflow": null,
      "overflow_x": null,
      "overflow_y": null,
      "padding": null,
      "right": null,
      "top": null,
      "visibility": null,
      "width": null
     }
    },
    "bbd7932543c34a69a64ff2e76931488d": {
     "model_module": "@jupyter-widgets/controls",
     "model_module_version": "1.5.0",
     "model_name": "ProgressStyleModel",
     "state": {
      "_model_module": "@jupyter-widgets/controls",
      "_model_module_version": "1.5.0",
      "_model_name": "ProgressStyleModel",
      "_view_count": null,
      "_view_module": "@jupyter-widgets/base",
      "_view_module_version": "1.2.0",
      "_view_name": "StyleView",
      "bar_color": null,
      "description_width": ""
     }
    },
    "c070718ec654448da26be599cb543af4": {
     "model_module": "@jupyter-widgets/base",
     "model_module_version": "1.2.0",
     "model_name": "LayoutModel",
     "state": {
      "_model_module": "@jupyter-widgets/base",
      "_model_module_version": "1.2.0",
      "_model_name": "LayoutModel",
      "_view_count": null,
      "_view_module": "@jupyter-widgets/base",
      "_view_module_version": "1.2.0",
      "_view_name": "LayoutView",
      "align_content": null,
      "align_items": null,
      "align_self": null,
      "border": null,
      "bottom": null,
      "display": null,
      "flex": null,
      "flex_flow": null,
      "grid_area": null,
      "grid_auto_columns": null,
      "grid_auto_flow": null,
      "grid_auto_rows": null,
      "grid_column": null,
      "grid_gap": null,
      "grid_row": null,
      "grid_template_areas": null,
      "grid_template_columns": null,
      "grid_template_rows": null,
      "height": null,
      "justify_content": null,
      "justify_items": null,
      "left": null,
      "margin": null,
      "max_height": null,
      "max_width": null,
      "min_height": null,
      "min_width": null,
      "object_fit": null,
      "object_position": null,
      "order": null,
      "overflow": null,
      "overflow_x": null,
      "overflow_y": null,
      "padding": null,
      "right": null,
      "top": null,
      "visibility": null,
      "width": null
     }
    },
    "d44dcad2572d46f8bd9cf1b4a69370a7": {
     "model_module": "@jupyter-widgets/controls",
     "model_module_version": "1.5.0",
     "model_name": "HTMLModel",
     "state": {
      "_dom_classes": [],
      "_model_module": "@jupyter-widgets/controls",
      "_model_module_version": "1.5.0",
      "_model_name": "HTMLModel",
      "_view_count": null,
      "_view_module": "@jupyter-widgets/controls",
      "_view_module_version": "1.5.0",
      "_view_name": "HTMLView",
      "description": "",
      "description_tooltip": null,
      "layout": "IPY_MODEL_8264667cc87a4d0fa735989c56b94ec1",
      "placeholder": "​",
      "style": "IPY_MODEL_867bcf7f172b4995b582a6667c6c7b8c",
      "value": " 33800/33800 [1:25:16&lt;00:00,  1.73it/s]"
     }
    },
    "d46d86746fe24240ae6ebf3683eff433": {
     "model_module": "@jupyter-widgets/controls",
     "model_module_version": "1.5.0",
     "model_name": "FloatProgressModel",
     "state": {
      "_dom_classes": [],
      "_model_module": "@jupyter-widgets/controls",
      "_model_module_version": "1.5.0",
      "_model_name": "FloatProgressModel",
      "_view_count": null,
      "_view_module": "@jupyter-widgets/controls",
      "_view_module_version": "1.5.0",
      "_view_name": "ProgressView",
      "bar_style": "success",
      "description": "",
      "description_tooltip": null,
      "layout": "IPY_MODEL_4b153f3b51bd4b96b953927f12314861",
      "max": 33800,
      "min": 0,
      "orientation": "horizontal",
      "style": "IPY_MODEL_bbd7932543c34a69a64ff2e76931488d",
      "value": 33800
     }
    },
    "e3f6a43bc7d14fcc94e0d0adb0d6aa97": {
     "model_module": "@jupyter-widgets/controls",
     "model_module_version": "1.5.0",
     "model_name": "ProgressStyleModel",
     "state": {
      "_model_module": "@jupyter-widgets/controls",
      "_model_module_version": "1.5.0",
      "_model_name": "ProgressStyleModel",
      "_view_count": null,
      "_view_module": "@jupyter-widgets/base",
      "_view_module_version": "1.2.0",
      "_view_name": "StyleView",
      "bar_color": null,
      "description_width": ""
     }
    },
    "ec68a2c93eaf4ebdbc529926c222b8ef": {
     "model_module": "@jupyter-widgets/base",
     "model_module_version": "1.2.0",
     "model_name": "LayoutModel",
     "state": {
      "_model_module": "@jupyter-widgets/base",
      "_model_module_version": "1.2.0",
      "_model_name": "LayoutModel",
      "_view_count": null,
      "_view_module": "@jupyter-widgets/base",
      "_view_module_version": "1.2.0",
      "_view_name": "LayoutView",
      "align_content": null,
      "align_items": null,
      "align_self": null,
      "border": null,
      "bottom": null,
      "display": null,
      "flex": null,
      "flex_flow": null,
      "grid_area": null,
      "grid_auto_columns": null,
      "grid_auto_flow": null,
      "grid_auto_rows": null,
      "grid_column": null,
      "grid_gap": null,
      "grid_row": null,
      "grid_template_areas": null,
      "grid_template_columns": null,
      "grid_template_rows": null,
      "height": null,
      "justify_content": null,
      "justify_items": null,
      "left": null,
      "margin": null,
      "max_height": null,
      "max_width": null,
      "min_height": null,
      "min_width": null,
      "object_fit": null,
      "object_position": null,
      "order": null,
      "overflow": null,
      "overflow_x": null,
      "overflow_y": null,
      "padding": null,
      "right": null,
      "top": null,
      "visibility": null,
      "width": null
     }
    },
    "fbd2ae40d9e84d6f9a53b0d3027b8b0c": {
     "model_module": "@jupyter-widgets/controls",
     "model_module_version": "1.5.0",
     "model_name": "HTMLModel",
     "state": {
      "_dom_classes": [],
      "_model_module": "@jupyter-widgets/controls",
      "_model_module_version": "1.5.0",
      "_model_name": "HTMLModel",
      "_view_count": null,
      "_view_module": "@jupyter-widgets/controls",
      "_view_module_version": "1.5.0",
      "_view_name": "HTMLView",
      "description": "",
      "description_tooltip": null,
      "layout": "IPY_MODEL_56b67eb489354f94b9d3485542cb97e3",
      "placeholder": "​",
      "style": "IPY_MODEL_7164bb0df69649569a7ccdd3dcf56767",
      "value": "100%"
     }
    },
    "fe9caeb957ed40f0a6c8a5d885dc2254": {
     "model_module": "@jupyter-widgets/controls",
     "model_module_version": "1.5.0",
     "model_name": "FloatProgressModel",
     "state": {
      "_dom_classes": [],
      "_model_module": "@jupyter-widgets/controls",
      "_model_module_version": "1.5.0",
      "_model_name": "FloatProgressModel",
      "_view_count": null,
      "_view_module": "@jupyter-widgets/controls",
      "_view_module_version": "1.5.0",
      "_view_name": "ProgressView",
      "bar_style": "success",
      "description": "",
      "description_tooltip": null,
      "layout": "IPY_MODEL_aa53dc655f0b4547a4b26dda5326564b",
      "max": 44697,
      "min": 0,
      "orientation": "horizontal",
      "style": "IPY_MODEL_e3f6a43bc7d14fcc94e0d0adb0d6aa97",
      "value": 44697
     }
    }
   }
  }
 },
 "nbformat": 4,
 "nbformat_minor": 4
}
